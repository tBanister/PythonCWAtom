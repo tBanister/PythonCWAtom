{
 "cells": [
  {
   "cell_type": "code",
   "execution_count": null,
   "metadata": {
    "collapsed": true
   },
   "outputs": [],
   "source": []
  },
  {
   "cell_type": "code",
   "execution_count": null,
   "metadata": {
    "collapsed": true
   },
   "outputs": [],
   "source": []
  },
  {
   "cell_type": "markdown",
   "metadata": {},
   "source": [
    "\n",
    "#  Module 1 Project  \n",
    "\n",
    "Course 40461: Introduction to Python, Unit 2\n",
    "\n",
    "This is an activity based on the Module 1 Lab, which you may have already completed.\n",
    "\n",
    "| Important Assignment Requirements |  \n",
    "|:-------------------------------|  \n",
    "|  **NOTE:** This program **requires** **`print`** output and using code syntax used in Module 1 such as keywords **`for`**/**`in`** (iteration), **`input`**, **`if`**, **`else`**, **`.isalpha()`** method, **`.lower()`** or **`.upper()`** method. |  \n",
    "\n",
    "\n",
    "## Program: Words after \"G\"/\"g\"\n",
    "Create a program that inputs a phrase (like a famous quotation) and prints all of the words that start with h-z.\n",
    "\n",
    "Sample input:  \n",
    "`Enter a 1 sentence quote, non-alpha separate words:` **`Wheresoever you go, go with all your heart`**  \n",
    "\n",
    "Sample output:\n",
    "```\n",
    "WHERESOEVER\n",
    "YOU\n",
    "WITH\n",
    "YOUR\n",
    "HEART\n",
    "```  \n",
    "![words_after_g flowchart](https://ofl1zq-ch3302.files.1drv.com/y4msZuRt9FLMg2HrIVri9ozb5zM0Z9cwrgFg0OanRG3wThbKGRTjxf6vEmvDgiQzAthvLq4KDpiOfd5S74i-vsCDYha-Ea5B1d4MJD5tx6obEpFj3Slks3bCFbjltvV_BYQ8mlbmyoAhujPM6nHRbOxNeO2Lb6dvmW0EbS-D3QXR7lRb-whNWwquwwzO4znPMmQ4Jkf4ujqTlSpjGuaKzwTSQ?width=608&height=371&cropmode=none) \n",
    "\n",
    "- Split the words by building a placeholder variable: **`word`**  \n",
    "  - Loop each character in the input string  \n",
    "  - Check if character is a letter  \n",
    "  - Add a letter to **`word`** each loop until a non-alpha char is encountered  \n",
    "\n",
    "- **if** character is alpha \n",
    "  - Add character to **`word`**    \n",
    "  - Non-alpha detected (space, punctuation, digit,...) defines the end of a word and goes to **`else`**    \n",
    "- **`else`**  \n",
    "  - Check **`if`** word is greater than \"g\" alphabetically\n",
    "      - Print word \n",
    "      - Set word = empty string\n",
    "  - or **else** \n",
    "    - Set word = empty string and build the next word  \n",
    "\n",
    "Hint: use `.lower()`.\n",
    "\n",
    "Consider how you will print the last word if it ends with a non-alpha character such as a space or punctuation.\n",
    "\n"
   ]
  },
  {
   "cell_type": "code",
   "execution_count": 30,
   "metadata": {
    "collapsed": true
   },
   "outputs": [
    {
     "name": "stdout",
     "output_type": "stream",
     "text": [
      "LIFE\n",
      "IS\n",
      "WHAT\n",
      "HAPPENS\n",
      "WHEN\n",
      "MAKING\n",
      "OTHER\n",
      "PLANS\n",
      "\n",
      "LIFE\n",
      "IS\n",
      "WHAT\n",
      "HAPPENS\n",
      "WHEN\n",
      "MAKING\n",
      "OTHER\n",
      "PLANS\n"
     ]
    }
   ],
   "source": [
    "# [] create words after \"G\" following the Assignment requirements use of functions, menhods and kwyowrds\n",
    "# sample quote \"Wheresoever you go, go with all your heart\" ~ Confucius (551 BC - 479 BC)\n",
    "quote = input(\"type a quote\")\n",
    "word = \"\"\n",
    "for l in quote.split(\" \"):\n",
    "    if l.isalpha():\n",
    "        if l.lower() >= \"h\":\n",
    "            word += l + \"\\n\"\n",
    "    else:\n",
    "        word += \"\"\n",
    "\n",
    "print(word.upper())\n",
    "\n",
    "words = \"\"\n",
    "inp_quote = quote + \" \"\n",
    "start = 0\n",
    "space_index = quote.find(\" \")\n",
    "while space_index != -1:\n",
    "    words = inp_quote[start:space_index]\n",
    "    start = space_index + 1\n",
    "    space_index = inp_quote.find(\" \", space_index + 1)\n",
    "    if words.isalpha() and words[0].lower() > \"g\":\n",
    "        print(words.upper())\n"
   ]
  },
  {
   "cell_type": "markdown",
   "metadata": {},
   "source": [
    "[Terms of use](http://go.microsoft.com/fwlink/?LinkID=206977) &nbsp; [Privacy & cookies](https://go.microsoft.com/fwlink/?LinkId=521839) &nbsp; © 2017 Microsoft"
   ]
  }
 ],
 "metadata": {
  "anaconda-cloud": {},
  "kernelspec": {
   "display_name": "Python 3",
   "language": "python",
   "name": "python3"
  },
  "language_info": {
   "codemirror_mode": {
    "name": "ipython",
    "version": 3
   },
   "file_extension": ".py",
   "mimetype": "text/x-python",
   "name": "python",
   "nbconvert_exporter": "python",
   "pygments_lexer": "ipython3",
   "version": "3.8.13"
  },
  "vscode": {
   "interpreter": {
    "hash": "9ac03a0a6051494cc606d484d27d20fce22fb7b4d169f583271e11d5ba46a56e"
   }
  }
 },
 "nbformat": 4,
 "nbformat_minor": 0
}
