{
  "cells": [
    {
      "cell_type": "markdown",
      "metadata": {},
      "source": [
        "# Section 1.2\n",
        "## Index Slicing\n",
        "- Accessing string characters with index\n",
        "- **Accessing substrings with index slicing**\n",
        "- Iterating through characters of a string\n",
        "- More string methods\n",
        "\n",
        "----- \n",
        "\n",
        "### Student will be able to\n",
        "- Work with string characters\n",
        "- **Slice strings into substrings**\n",
        "- Iterate through string characters\n",
        "- Use string methods"
      ]
    },
    {
      "cell_type": "markdown",
      "metadata": {},
      "source": [
        "## Concept: Accessing Substrings \n",
        "[![view video](https://iajupyterprodblobs.blob.core.windows.net/imagecontainer/common/play_video.png)]( http://edxinteractivepage.blob.core.windows.net/edxpages/f7cff1a7-5601-48a1-95a6-fd1fdfabd20e.html?details=[{\"src\":\"http://jupyternootbookwams.streaming.mediaservices.windows.net/251ad8c1-588b-47de-8638-a5bcd0f29800/Unit2_Section1.2a-Index_Slicing-Substrings.ism/manifest\",\"type\":\"application/vnd.ms-sstr+xml\"}],[{\"src\":\"http://jupyternootbookwams.streaming.mediaservices.windows.net/251ad8c1-588b-47de-8638-a5bcd0f29800/Unit2_Section1.2a-Index_Slicing-Substrings.vtt\",\"srclang\":\"en\",\"kind\":\"subtitles\",\"label\":\"english\"}])\n",
        "### Index Slicing [start:stop]\n",
        "String slicing returns a string section by addressing the start and stop indexes\n",
        "\n",
        "```python\n",
        "# assign string to student_name\n",
        "student_name = \"Colette\"\n",
        "# addressing the 3rd, 4th and 5th characters\n",
        "student_name[2:5]\n",
        "```\n",
        "The slice starts at index 2 and ends at index 5 (but does not include index 5)"
      ]
    },
    {
      "cell_type": "markdown",
      "metadata": {},
      "source": [
        "### Examples"
      ]
    },
    {
      "cell_type": "code",
      "execution_count": 1,
      "metadata": {
        "trusted": false
      },
      "outputs": [
        {
          "name": "stdout",
          "output_type": "stream",
          "text": [
            "slice student_name[2:5]: let\n"
          ]
        }
      ],
      "source": [
        "# [ ] review and run example\n",
        "# assign string to student_name\n",
        "student_name = \"Colette\"\n",
        "\n",
        "# addressing the 3rd, 4th and 5th characters using a slice\n",
        "print(\"slice student_name[2:5]:\",student_name[2:5])"
      ]
    },
    {
      "cell_type": "code",
      "execution_count": 2,
      "metadata": {
        "trusted": false
      },
      "outputs": [
        {
          "name": "stdout",
          "output_type": "stream",
          "text": [
            "index 2, 3 & 4 of student_name: let\n"
          ]
        }
      ],
      "source": [
        "# [ ] review and run example\n",
        "# assign string to student_name\n",
        "student_name = \"Colette\"\n",
        "\n",
        "# addressing the 3rd, 4th and 5th characters individually\n",
        "print(\"index 2, 3 & 4 of student_name:\", student_name[2] + student_name[3] + student_name[4])"
      ]
    },
    {
      "cell_type": "code",
      "execution_count": 3,
      "metadata": {
        "trusted": false
      },
      "outputs": [
        {
          "name": "stdout",
          "output_type": "stream",
          "text": [
            "knowledge\n",
            "knowledge is the 3rd char through the 11th char\n",
            "knowledge is the index 2, \"k\", through index 10, \"e\"\n"
          ]
        }
      ],
      "source": [
        "# [ ] review and run example\n",
        "long_word = 'Acknowledgement'\n",
        "print(long_word[2:11])\n",
        "print(long_word[2:11], \"is the 3rd char through the 11th char\")\n",
        "print(long_word[2:11], \"is the index 2, \\\"\" + long_word[2] + \"\\\",\", \"through index 10, \\\"\" + long_word[10] + \"\\\"\")"
      ]
    },
    {
      "cell_type": "markdown",
      "metadata": {
        "collapsed": true
      },
      "source": [
        "## Task 1: Slice a string\n",
        "### Start & stop index"
      ]
    },
    {
      "cell_type": "code",
      "execution_count": 6,
      "metadata": {
        "trusted": false
      },
      "outputs": [
        {
          "name": "stdout",
          "output_type": "stream",
          "text": [
            "act tic\n"
          ]
        }
      ],
      "source": [
        "# [ ] slice long_word to print \"act\" and to print \"tic\"\n",
        "long_word = \"characteristics\"\n",
        "\n",
        "print(long_word[4:7], long_word[11:14])\n"
      ]
    },
    {
      "cell_type": "code",
      "execution_count": 7,
      "metadata": {
        "trusted": false
      },
      "outputs": [
        {
          "name": "stdout",
          "output_type": "stream",
          "text": [
            "sequence\n"
          ]
        }
      ],
      "source": [
        "# [ ] slice long_word to print \"sequence\"\n",
        "long_word = \"Consequences\"\n",
        "print(long_word[3:11])\n"
      ]
    },
    {
      "cell_type": "markdown",
      "metadata": {},
      "source": [
        "## Concept: Accessing Substring Beginnings \n",
        "[![view video](https://iajupyterprodblobs.blob.core.windows.net/imagecontainer/common/play_video.png)]( http://edxinteractivepage.blob.core.windows.net/edxpages/f7cff1a7-5601-48a1-95a6-fd1fdfabd20e.html?details=[{\"src\":\"http://jupyternootbookwams.streaming.mediaservices.windows.net/368b352f-6061-488c-80a4-d75e455f4416/Unit2_Section1.2b-Index_Slicing_Beginnings.ism/manifest\",\"type\":\"application/vnd.ms-sstr+xml\"}],[{\"src\":\"http://jupyternootbookwams.streaming.mediaservices.windows.net/368b352f-6061-488c-80a4-d75e455f4416/Unit2_Section1.2b-Index_Slicing_Beginnings.vtt\",\"srclang\":\"en\",\"kind\":\"subtitles\",\"label\":\"english\"}])\n",
        "### Index Slicing [:stop]\n",
        "String slicing returns a string section from index 0 by addressing only the stop index\n",
        "\n",
        "```python\n",
        "student_name = \"Colette\"\n",
        "# addressing the 1st, 2nd & 3rd characters\n",
        "student_name[:3]\n",
        "```\n",
        "**default start for a slice is index 0**"
      ]
    },
    {
      "cell_type": "markdown",
      "metadata": {},
      "source": [
        "### Example"
      ]
    },
    {
      "cell_type": "code",
      "execution_count": 8,
      "metadata": {
        "trusted": false
      },
      "outputs": [
        {
          "name": "stdout",
          "output_type": "stream",
          "text": [
            "Col\n"
          ]
        }
      ],
      "source": [
        "# [ ] review and run example\n",
        "student_name = \"Colette\"\n",
        "# addressing the 1st, 2nd & 3rd characters\n",
        "print(student_name[:3])"
      ]
    },
    {
      "cell_type": "markdown",
      "metadata": {
        "collapsed": true
      },
      "source": [
        "## Task 2"
      ]
    },
    {
      "cell_type": "code",
      "execution_count": 11,
      "metadata": {
        "trusted": false
      },
      "outputs": [
        {
          "name": "stdout",
          "output_type": "stream",
          "text": [
            "Conseq\n",
            "east street\n"
          ]
        }
      ],
      "source": [
        "# [ ] print the first half of the long_word\n",
        "long_word = \"Consequences\"\n",
        "print(long_word[:6])\n",
        "# [ ] print a message that there is \"No Parking\" on index 0 or index 4 streets\n",
        "streets = [\"west street\", 1,2,3, \"east street\"]\n",
        "print(streets[4])\n"
      ]
    },
    {
      "cell_type": "markdown",
      "metadata": {},
      "source": [
        "## Concept: Accessing Substring Endings \n",
        "[![view video](https://iajupyterprodblobs.blob.core.windows.net/imagecontainer/common/play_video.png)]( http://edxinteractivepage.blob.core.windows.net/edxpages/f7cff1a7-5601-48a1-95a6-fd1fdfabd20e.html?details=[{\"src\":\"http://jupyternootbookwams.streaming.mediaservices.windows.net/29beb75a-aee7-43df-9569-e9ad22cffac4/Unit2_Section1.2c-Index_Slicing_Endings.ism/manifest\",\"type\":\"application/vnd.ms-sstr+xml\"}],[{\"src\":\"http://jupyternootbookwams.streaming.mediaservices.windows.net/29beb75a-aee7-43df-9569-e9ad22cffac4/Unit2_Section1.2c-Index_Slicing_Endings.vtt\",\"srclang\":\"en\",\"kind\":\"subtitles\",\"label\":\"english\"}])\n",
        "### Index Slicing [start:]\n",
        "String slicing returns a string section including by addressing only the start index\n",
        "\n",
        "```python\n",
        "student_name = \"Colette\"\n",
        "# addressing the 4th, 5th and 6th characters\n",
        "student_name[3:]\n",
        "```\n",
        "**default end index returns up to and including the last string character**"
      ]
    },
    {
      "cell_type": "markdown",
      "metadata": {},
      "source": [
        "### Example"
      ]
    },
    {
      "cell_type": "code",
      "execution_count": 12,
      "metadata": {
        "trusted": false
      },
      "outputs": [
        {
          "data": {
            "text/plain": [
              "'ette'"
            ]
          },
          "execution_count": 12,
          "metadata": {},
          "output_type": "execute_result"
        }
      ],
      "source": [
        "# [ ] review and run example\n",
        "student_name = \"Colette\"\n",
        "#  4th, 5th, 6th and 7th characters\n",
        "student_name[3:]"
      ]
    },
    {
      "cell_type": "markdown",
      "metadata": {
        "collapsed": true
      },
      "source": [
        "## Task 3"
      ]
    },
    {
      "cell_type": "code",
      "execution_count": 13,
      "metadata": {
        "trusted": false
      },
      "outputs": [
        {
          "name": "stdout",
          "output_type": "stream",
          "text": [
            "uences\n"
          ]
        }
      ],
      "source": [
        "# [ ] print the second half of the long_word\n",
        "long_word = \"Consequences\"\n",
        "\n",
        "print(long_word[6:])\n",
        "\n"
      ]
    },
    {
      "cell_type": "markdown",
      "metadata": {},
      "source": [
        "## Concept: Accessing Substrings by Step Size\n",
        "[![view video](https://iajupyterprodblobs.blob.core.windows.net/imagecontainer/common/play_video.png)]( http://edxinteractivepage.blob.core.windows.net/edxpages/f7cff1a7-5601-48a1-95a6-fd1fdfabd20e.html?details=[{\"src\":\"http://jupyternootbookwams.streaming.mediaservices.windows.net/62c65917-4979-4d26-9a05-09e1ed02cc51/Unit2_Section1.2d-Index_Slicing-Step_Sizes.ism/manifest\",\"type\":\"application/vnd.ms-sstr+xml\"}],[{\"src\":\"http://jupyternootbookwams.streaming.mediaservices.windows.net/62c65917-4979-4d26-9a05-09e1ed02cc51/Unit2_Section1.2d-Index_Slicing-Step_Sizes.vtt\",\"srclang\":\"en\",\"kind\":\"subtitles\",\"label\":\"english\"}])\n",
        "### Index Slicing [:], [::2]\n",
        "- **[:]** returns the entire string\n",
        "- **[::2]** returns the first char and then steps to every other char in the string\n",
        "- **[1::3]** returns the second char and then steps to every third char in the string  \n",
        "\n",
        "the number **2**, in the print statement below, represents the **step** \n",
        "\n",
        "```python\n",
        "print(long_word[::2])\n",
        "```"
      ]
    },
    {
      "cell_type": "markdown",
      "metadata": {},
      "source": [
        "### Examples"
      ]
    },
    {
      "cell_type": "code",
      "execution_count": 14,
      "metadata": {
        "trusted": false
      },
      "outputs": [
        {
          "name": "stdout",
          "output_type": "stream",
          "text": [
            "Colette\n"
          ]
        }
      ],
      "source": [
        "# [ ] review and run example\n",
        "student_name = \"Colette\"\n",
        "# return all\n",
        "print(student_name[:])"
      ]
    },
    {
      "cell_type": "code",
      "execution_count": 15,
      "metadata": {
        "trusted": false
      },
      "outputs": [
        {
          "name": "stdout",
          "output_type": "stream",
          "text": [
            "Clte\n"
          ]
        }
      ],
      "source": [
        "# [ ] review and run example\n",
        "student_name = \"Colette\"\n",
        "# return every other\n",
        "print(student_name[::2])"
      ]
    },
    {
      "cell_type": "code",
      "execution_count": 16,
      "metadata": {
        "trusted": false
      },
      "outputs": [
        {
          "name": "stdout",
          "output_type": "stream",
          "text": [
            "oet\n"
          ]
        }
      ],
      "source": [
        "# [ ] review and run example\n",
        "student_name = \"Colette\"\n",
        "# return every third, starting at 2nd character\n",
        "print(student_name[1::2])"
      ]
    },
    {
      "cell_type": "code",
      "execution_count": 17,
      "metadata": {
        "trusted": false
      },
      "outputs": [
        {
          "name": "stdout",
          "output_type": "stream",
          "text": [
            "osqe\n"
          ]
        }
      ],
      "source": [
        "# [ ] review and run example\n",
        "long_word = \"Consequences\"\n",
        "# starting at 2nd char (index 1) to 9th character, return every other character\n",
        "print(long_word[1:9:2])"
      ]
    },
    {
      "cell_type": "markdown",
      "metadata": {
        "collapsed": true
      },
      "source": [
        "## Task 4"
      ]
    },
    {
      "cell_type": "code",
      "execution_count": 18,
      "metadata": {
        "trusted": false
      },
      "outputs": [
        {
          "name": "stdout",
          "output_type": "stream",
          "text": [
            "Anlge\n"
          ]
        }
      ],
      "source": [
        "# [ ] print the 1st and every 3rd letter of long_word\n",
        "long_word = \"Acknowledgement\"\n",
        "print(long_word[0::3])\n"
      ]
    },
    {
      "cell_type": "code",
      "execution_count": 19,
      "metadata": {
        "trusted": false
      },
      "outputs": [
        {
          "name": "stdout",
          "output_type": "stream",
          "text": [
            "koldeet\n"
          ]
        }
      ],
      "source": [
        "# [ ] print every other character of long_word starting at the 3rd character\n",
        "long_word = \"Acknowledgement\"\n",
        "print(long_word[2::2])"
      ]
    },
    {
      "cell_type": "markdown",
      "metadata": {},
      "source": [
        "## Concept: Accessing Substrings Continued  \n",
        "[![view video](https://iajupyterprodblobs.blob.core.windows.net/imagecontainer/common/play_video.png)]( http://edxinteractivepage.blob.core.windows.net/edxpages/f7cff1a7-5601-48a1-95a6-fd1fdfabd20e.html?details=[{\"src\":\"http://jupyternootbookwams.streaming.mediaservices.windows.net/2e59f526-fadb-434e-822e-afe3732f75df/Unit2_Section1.2e-Index_Slicing-Reverse.ism/manifest\",\"type\":\"application/vnd.ms-sstr+xml\"}],[{\"src\":\"http://jupyternootbookwams.streaming.mediaservices.windows.net/2e59f526-fadb-434e-822e-afe3732f75df/Unit2_Section1.2e-Index_Slicing-Reverse.vtt\",\"srclang\":\"en\",\"kind\":\"subtitles\",\"label\":\"english\"}])\n",
        "### Stepping backwards \n",
        "\n",
        "```python\n",
        "print(long_word[::-1])\n",
        "```  \n",
        "\n",
        "Use **[::-1]** to reverse a string."
      ]
    },
    {
      "cell_type": "markdown",
      "metadata": {},
      "source": [
        "### Example"
      ]
    },
    {
      "cell_type": "code",
      "execution_count": 20,
      "metadata": {
        "scrolled": true,
        "trusted": false
      },
      "outputs": [
        {
          "name": "stdout",
          "output_type": "stream",
          "text": [
            "scitsiretcarahc\n"
          ]
        }
      ],
      "source": [
        "# [ ] review and run example of stepping backwards using [::-1]\n",
        "long_word = \"characteristics\"\n",
        "# make the step increment -1 to step backwards\n",
        "print(long_word[::-1])"
      ]
    },
    {
      "cell_type": "code",
      "execution_count": 21,
      "metadata": {
        "trusted": false
      },
      "outputs": [
        {
          "name": "stdout",
          "output_type": "stream",
          "text": [
            "tcarahc\n"
          ]
        }
      ],
      "source": [
        "# [ ] review and run example of stepping backwards using [6::-1]\n",
        "long_word = \"characteristics\"\n",
        "# start at the 7th letter backwards to start\n",
        "print(long_word[6::-1])"
      ]
    },
    {
      "cell_type": "markdown",
      "metadata": {
        "collapsed": true
      },
      "source": [
        "## Task 5: Use slicing"
      ]
    },
    {
      "cell_type": "code",
      "execution_count": 22,
      "metadata": {
        "trusted": false
      },
      "outputs": [
        {
          "name": "stdout",
          "output_type": "stream",
          "text": [
            "desserts\n"
          ]
        }
      ],
      "source": [
        "# [ ] reverse long_word\n",
        "long_word = \"stressed\"\n",
        "\n",
        "print(long_word[::-1])"
      ]
    },
    {
      "cell_type": "code",
      "execution_count": 23,
      "metadata": {
        "trusted": false
      },
      "outputs": [
        {
          "name": "stdout",
          "output_type": "stream",
          "text": [
            "arahc\n"
          ]
        }
      ],
      "source": [
        "# [ ] print the first 5 letters of long_word in reverse\n",
        "long_word = \"characteristics\"\n",
        "print(long_word[4::-1])\n"
      ]
    },
    {
      "cell_type": "markdown",
      "metadata": {
        "collapsed": true
      },
      "source": [
        "## Task 6: Use slicing"
      ]
    },
    {
      "cell_type": "code",
      "execution_count": 35,
      "metadata": {
        "trusted": false
      },
      "outputs": [
        {
          "name": "stdout",
          "output_type": "stream",
          "text": [
            "time\n",
            "emit\n",
            "enil\n",
            "nil\n"
          ]
        }
      ],
      "source": [
        "# [ ] print the first 4 letters of long_word\n",
        "# [ ] print the first 4 letters of long_word in reverse\n",
        "# [ ] print the last 4 letters of long_word in reverse\n",
        "# [ ] print the letters spanning indexes 3 to 6 of long_word in Reverse\n",
        "long_word = \"timeline\"\n",
        "\n",
        "print(long_word[0:4])\n",
        "print(long_word[3::-1])\n",
        "print(long_word[7:3:-1])\n",
        "print(long_word[6:3:-1])"
      ]
    },
    {
      "cell_type": "markdown",
      "metadata": {},
      "source": [
        "[Terms of use](http://go.microsoft.com/fwlink/?LinkID=206977) &nbsp; [Privacy & cookies](https://go.microsoft.com/fwlink/?LinkId=521839) &nbsp; © 2017 Microsoft"
      ]
    }
  ],
  "metadata": {
    "anaconda-cloud": {},
    "kernelspec": {
      "display_name": "Python 3",
      "language": "python",
      "name": "python3"
    },
    "language_info": {
      "codemirror_mode": {
        "name": "ipython",
        "version": 3
      },
      "file_extension": ".py",
      "mimetype": "text/x-python",
      "name": "python",
      "nbconvert_exporter": "python",
      "pygments_lexer": "ipython3",
      "version": "3.9.0"
    },
    "vscode": {
      "interpreter": {
        "hash": "11938c6bc6919ae2720b4d5011047913343b08a43b18698fd82dedb0d4417594"
      }
    }
  },
  "nbformat": 4,
  "nbformat_minor": 1
}
