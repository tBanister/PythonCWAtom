{
 "cells": [
  {
   "cell_type": "markdown",
   "metadata": {},
   "source": [
    "# Section 3.3\n",
    "## .extend(), .reverse(), and .sort() Methods\n",
    "- for in: `for` loop using `in`\n",
    "- for range: `for range(start,stop,step)` \n",
    "- **More list methods: `.extend()`, `+, .reverse(), .sort()`**\n",
    "- Strings to lists,`.split()`, and list to strings, `.join()`\n",
    "\n",
    "----- \n",
    "\n",
    "### Student will be able to\n",
    "- Iterate through lists using `for` with `in`\n",
    "- Use `for range()` in looping operations\n",
    "- **Use list methods `.extend()`, `+, .reverse(), .sort()`**\n",
    "- Convert between lists and strings using `.split()` and `.join()` "
   ]
  },
  {
   "cell_type": "markdown",
   "metadata": {},
   "source": [
    "## Concept: Combine Lists\n",
    "[![view video](https://iajupyterprodblobs.blob.core.windows.net/imagecontainer/common/play_video.png)](http://edxinteractivepage.blob.core.windows.net/edxpages/f7cff1a7-5601-48a1-95a6-fd1fdfabd20e.html?details=[{\"src\":\"http://jupyternootbookwams.streaming.mediaservices.windows.net/249a8d33-1e69-47e1-ab59-a8cf93f3fa8b/Unit2_Section3.3a_concatenate_lists.ism/manifest\",\"type\":\"application/vnd.ms-sstr+xml\"}],[{\"src\":\"http://jupyternootbookwams.streaming.mediaservices.windows.net/249a8d33-1e69-47e1-ab59-a8cf93f3fa8b/Unit2_Section3.3a_concatenate_lists.vtt\",\"srclang\":\"en\",\"kind\":\"subtitles\",\"label\":\"english\"}])\n",
    "### `+`  list addition\n",
    "###  `.extend()` list method   \n",
    "\n",
    "#### Combine lists with `+` and `.extend()`\n",
    "```python\n",
    "visited_cities = [\"New York\", \"Shanghai\", \"Munich\", \"Toyko\", \"Dubai\", \"Mexico City\", \"São Paulo\", \"Hyderabad\"]\n",
    "wish_cities = [\"Reykjavík\", \"Moscow\", \"Beijing\", \"Lamu\"]\n",
    "# combine in a new list\n",
    "all_cities = visited_cities + wish_cities\n",
    "\n",
    "# add a list to an existing list\n",
    "visited_cities.extend(wish_cities)\n",
    "```"
   ]
  },
  {
   "cell_type": "markdown",
   "metadata": {},
   "source": [
    "### Examples"
   ]
  },
  {
   "cell_type": "code",
   "execution_count": 1,
   "metadata": {
    "collapsed": false
   },
   "outputs": [
    {
     "name": "stdout",
     "output_type": "stream",
     "text": [
      "ALL CITIES ['New York', 'Shanghai', 'Munich', 'Toyko', 'Dubai', 'Mexico City', 'São Paulo', 'Hyderabad', 'Reykjavík', 'Moscow', 'Beijing', 'Lamu']\n"
     ]
    }
   ],
   "source": [
    "# [ ] review and run example\n",
    "visited_cities = [\"New York\", \"Shanghai\", \"Munich\", \"Toyko\", \"Dubai\", \"Mexico City\", \"São Paulo\", \"Hyderabad\"]\n",
    "wish_cities = [\"Reykjavík\", \"Moscow\", \"Beijing\", \"Lamu\"]\n",
    "\n",
    "# .extend() \n",
    "# extending visited_cities list (IN PLACE) by concatenating wish_cities\n",
    "visited_cities.extend(wish_cities)\n",
    "print(\"ALL CITIES\",visited_cities)"
   ]
  },
  {
   "cell_type": "code",
   "execution_count": 2,
   "metadata": {
    "collapsed": false
   },
   "outputs": [
    {
     "name": "stdout",
     "output_type": "stream",
     "text": [
      "ALL CITIES\n",
      "New York\n",
      "Shanghai\n",
      "Munich\n",
      "Toyko\n",
      "Dubai\n",
      "Mexico City\n",
      "São Paulo\n",
      "Hyderabad\n",
      "Reykjavík\n",
      "Moscow\n",
      "Beijing\n",
      "Lamu\n"
     ]
    }
   ],
   "source": [
    "# [ ] review and run example\n",
    "visited_cities = [\"New York\", \"Shanghai\", \"Munich\", \"Toyko\", \"Dubai\", \"Mexico City\", \"São Paulo\", \"Hyderabad\"]\n",
    "wish_cities = [\"Reykjavík\", \"Moscow\", \"Beijing\", \"Lamu\"]\n",
    "\n",
    "# (+) Addition operator for lists creates a (NEW) combined List\n",
    "all_cities = visited_cities + wish_cities\n",
    "\n",
    "print(\"ALL CITIES\")\n",
    "for city in all_cities:\n",
    "    print(city)"
   ]
  },
  {
   "cell_type": "code",
   "execution_count": 3,
   "metadata": {
    "collapsed": false
   },
   "outputs": [
    {
     "name": "stdout",
     "output_type": "stream",
     "text": [
      "Team A: [0, 2, 2, 2, 4, 4, 4, 5, 6, 6, 6] \n",
      "Team B: [0, 0, 0, 1, 1, 2, 3, 3, 3, 6, 8]\n",
      "Team Totals [0, 2, 2, 2, 4, 4, 4, 5, 6, 6, 6, 0, 0, 0, 1, 1, 2, 3, 3, 3, 6, 8]\n"
     ]
    }
   ],
   "source": [
    "# [ ] review and run example\n",
    "team_a = [0,2,2,2,4,4,4,5,6,6,6]\n",
    "team_b = [0,0,0,1,1,2,3,3,3,6,8]\n",
    "print(\"Team A:\", team_a, \"\\nTeam B:\",team_b)\n",
    "\n",
    "# (+) Addition operator \n",
    "team_totals = team_a + team_b\n",
    "print(\"Team Totals\", team_totals)"
   ]
  },
  {
   "cell_type": "code",
   "execution_count": 4,
   "metadata": {
    "collapsed": false
   },
   "outputs": [
    {
     "name": "stdout",
     "output_type": "stream",
     "text": [
      "Team_a extended [0, 2, 2, 2, 4, 4, 4, 5, 6, 6, 6, 0, 0, 0, 1, 1, 2, 3, 3, 3, 6, 8]\n"
     ]
    }
   ],
   "source": [
    "# [ ] review and run example after running cell above\n",
    "# .extend() \n",
    "team_a.extend(team_b)\n",
    "print(\"Team_a extended\", team_a)\n",
    "\n",
    "# what happens if you keep running this cell?"
   ]
  },
  {
   "cell_type": "markdown",
   "metadata": {
    "collapsed": true
   },
   "source": [
    "## Task 1: Combine lists"
   ]
  },
  {
   "cell_type": "code",
   "execution_count": 7,
   "metadata": {
    "collapsed": false
   },
   "outputs": [
    {
     "name": "stdout",
     "output_type": "stream",
     "text": [
      "['chicken', 'blue jay', 'crow', 'pigeon', 'tit', 'seagull']\n"
     ]
    }
   ],
   "source": [
    "# [ ] extend the list common_birds with list birds_seen which you must create\n",
    "common_birds = [\"chicken\", \"blue jay\", \"crow\", \"pigeon\"]\n",
    "birds_seen = [\"tit\", \"seagull\"]\n",
    "\n",
    "all_birds = common_birds + birds_seen\n",
    "print(all_birds)"
   ]
  },
  {
   "cell_type": "code",
   "execution_count": 8,
   "metadata": {
    "collapsed": false
   },
   "outputs": [
    {
     "name": "stdout",
     "output_type": "stream",
     "text": [
      "[0, 1, 2, 3, 4, 5, 6, 7, 8, 9, 10, 20, 30, 40, 50, 60, 70, 80, 90, 100]\n"
     ]
    }
   ],
   "source": [
    "# [ ] Create 2 lists zero_nine and ten_onehundred that contain 1-9, and 10 - 100 by 10's.\n",
    "# [ ] use list addition to concatenate the lists into all_num and print\n",
    "zero_nine = list(range(0,10))\n",
    "ten_onehundred = list(range(10,101,10))\n",
    "\n",
    "all_num = zero_nine + ten_onehundred\n",
    "print(all_num)"
   ]
  },
  {
   "cell_type": "markdown",
   "metadata": {},
   "source": [
    "## Concept: Reverse a list in place\n",
    "### .reverse()\n",
    "[![view video](https://iajupyterprodblobs.blob.core.windows.net/imagecontainer/common/play_video.png)](http://edxinteractivepage.blob.core.windows.net/edxpages/f7cff1a7-5601-48a1-95a6-fd1fdfabd20e.html?details=[{\"src\":\"http://jupyternootbookwams.streaming.mediaservices.windows.net/cde2807d-9151-4515-aa05-e83640c57712/Unit2_Section3.3b_reverse_lists.ism/manifest\",\"type\":\"application/vnd.ms-sstr+xml\"}],[{\"src\":\"http://jupyternootbookwams.streaming.mediaservices.windows.net/cde2807d-9151-4515-aa05-e83640c57712/Unit2_Section3.3b_reverse_lists.vtt\",\"srclang\":\"en\",\"kind\":\"subtitles\",\"label\":\"english\"}])\n",
    "\n",
    "```python\n",
    "cities_1 = [\"Dubai\", \"Mexico City\", \"São Paulo\", \"Hyderabad\"]\n",
    "\n",
    "print(\"regular\", cities_1)\n",
    "cities_1.reverse()\n",
    "print(\"reversed\", cities_1)\n",
    "```\n"
   ]
  },
  {
   "cell_type": "markdown",
   "metadata": {},
   "source": [
    "### Examples"
   ]
  },
  {
   "cell_type": "code",
   "execution_count": 9,
   "metadata": {
    "collapsed": false
   },
   "outputs": [
    {
     "name": "stdout",
     "output_type": "stream",
     "text": [
      "regular ['Dubai', 'Mexico City', 'São Paulo', 'Hyderabad']\n",
      "reversed ['Hyderabad', 'São Paulo', 'Mexico City', 'Dubai']\n"
     ]
    }
   ],
   "source": [
    "# [ ] review and run example\n",
    "cities_1 = [\"Dubai\", \"Mexico City\", \"São Paulo\", \"Hyderabad\"]\n",
    "\n",
    "print(\"regular\", cities_1)\n",
    "cities_1.reverse()\n",
    "print(\"reversed\", cities_1)"
   ]
  },
  {
   "cell_type": "code",
   "execution_count": 10,
   "metadata": {
    "collapsed": false
   },
   "outputs": [
    {
     "name": "stdout",
     "output_type": "stream",
     "text": [
      "regular list [0, 1, 2, 3, 4, 5, 6, 7, 8, 9, 10, 20, 30, 40, 50, 60, 70, 80, 90, 100] \n",
      "\n",
      "reverse list [100, 90, 80, 70, 60, 50, 40, 30, 20, 10, 9, 8, 7, 6, 5, 4, 3, 2, 1, 0] \n",
      "\n",
      "Three Multiple\n",
      "90\n",
      "60\n",
      "30\n",
      "9\n",
      "6\n",
      "3\n",
      "0\n"
     ]
    }
   ],
   "source": [
    "# [ ] review and run example\n",
    "all_num = [0, 1, 2, 3, 4, 5, 6, 7, 8, 9, 10, 20, 30, 40, 50, 60, 70, 80, 90, 100]\n",
    "print(\"regular list\",all_num, \"\\n\")\n",
    "all_num.reverse()\n",
    "print(\"reverse list\",all_num, \"\\n\")\n",
    "num_len = len(all_num)\n",
    "\n",
    "print(\"Three Multiple\")\n",
    "for num in all_num:\n",
    "    if num/3 == int(num/3):\n",
    "        print(num)\n",
    "    else:\n",
    "        pass\n",
    "    "
   ]
  },
  {
   "cell_type": "code",
   "execution_count": 11,
   "metadata": {
    "collapsed": false
   },
   "outputs": [
    {
     "name": "stdout",
     "output_type": "stream",
     "text": [
      "before list [0, 1, 2, 3, 4, 5, 6, 7, 8, 9, 10, 11, 12, 13, 14, 15, 16, 17, 18, 19, 20]\n",
      "after list [20, 19, 18, 17, 16, 15, 14, 13, 12, 11, 10, 9, 8, 7, 6, 5, 4, 3, 2, 1, 0]\n"
     ]
    }
   ],
   "source": [
    "# [ ] review and run example\n",
    "# create a list of  numbers by casting a range \n",
    "count_list = list(range(21))\n",
    "print(\"before list\", count_list)\n",
    "\n",
    "# and reverse\n",
    "count_list.reverse()\n",
    "print(\"after list\", count_list)"
   ]
  },
  {
   "cell_type": "markdown",
   "metadata": {
    "collapsed": true
   },
   "source": [
    "## Task 2: .reverse()"
   ]
  },
  {
   "cell_type": "code",
   "execution_count": 14,
   "metadata": {
    "collapsed": false
   },
   "outputs": [
    {
     "name": "stdout",
     "output_type": "stream",
     "text": [
      "[5, 10, 15, 20, 25, 30, 35, 40, 45, 50, 55, 60, 65, 70, 75, 80, 85, 90, 95, 100]\n",
      "[100, 95, 90, 85, 80, 75, 70, 65, 60, 55, 50, 45, 40, 35, 30, 25, 20, 15, 10, 5]\n"
     ]
    }
   ],
   "source": [
    "# [ ] create and  print a list of multiples of 5 from 5 to 100\n",
    "# { ] reverse the list and print\n",
    "nums = list(range(5,101,5))\n",
    "print(nums)\n",
    "nums.reverse()\n",
    "print(nums)"
   ]
  },
  {
   "cell_type": "code",
   "execution_count": 29,
   "metadata": {
    "collapsed": false
   },
   "outputs": [
    {
     "name": "stdout",
     "output_type": "stream",
     "text": [
      "[4, 8, 12, 16, 20, 24, 28, 32, 36, 40, 44, 44, 40, 36, 32, 28, 24, 20, 16, 12, 8, 4]\n"
     ]
    }
   ],
   "source": [
    "# [ ] Create two lists: fours & more_fours containing multiples of four from 4 to 44\n",
    "# [ ] combine and print so that the output is mirrored [44, 40,...8, 4, 4, 8, ...40, 44]\n",
    "fours = list(range(4,45,4))\n",
    "more_fours = list(range(4,45,4))\n",
    "more_fours.reverse()\n",
    "fours.extend(more_fours)\n",
    "print(fours)"
   ]
  },
  {
   "cell_type": "markdown",
   "metadata": {},
   "source": [
    "## Concept: .sort() and sorted()\n",
    "[![view video](https://iajupyterprodblobs.blob.core.windows.net/imagecontainer/common/play_video.png)](http://edxinteractivepage.blob.core.windows.net/edxpages/f7cff1a7-5601-48a1-95a6-fd1fdfabd20e.html?details=[{\"src\":\"http://jupyternootbookwams.streaming.mediaservices.windows.net/375c6bd9-9f91-4a3c-9a67-c01c35ea64ff/Unit2_Section3.3c_sort_sorted.ism/manifest\",\"type\":\"application/vnd.ms-sstr+xml\"}],[{\"src\":\"http://jupyternootbookwams.streaming.mediaservices.windows.net/375c6bd9-9f91-4a3c-9a67-c01c35ea64ff/Unit2_Section3.3c_Sort_Sorted.vtt\",\"srclang\":\"en\",\"kind\":\"subtitles\",\"label\":\"english\"}])\n",
    "\n",
    " \n",
    "\n",
    "### .sort() in place  \n",
    "**.sort()** - orders a list in place \n",
    "```python\n",
    "quiz_scores = [20, 19, 20, 15, 20, 20, 20, 18, 18, 18, 19]\n",
    "quiz_scores.sort()\n",
    "```  \n",
    "\n",
    "### sorted() copy\n",
    "**sorted()** - creates an ordered list copy \n",
    "```python\n",
    "game_points = [3, 14, 0, 8, 21, 1, 3, 8]\n",
    "sorted_points = sorted(game_points)\n",
    "```"
   ]
  },
  {
   "cell_type": "markdown",
   "metadata": {},
   "source": [
    "### Examples: .sort() and sorted()"
   ]
  },
  {
   "cell_type": "code",
   "execution_count": 30,
   "metadata": {
    "collapsed": false
   },
   "outputs": [
    {
     "name": "stdout",
     "output_type": "stream",
     "text": [
      "quiz_scores: [15, 18, 18, 18, 19, 19, 20, 20, 20, 20, 20]\n"
     ]
    }
   ],
   "source": [
    "# [ ] review and run example\n",
    "quiz_scores = [20, 19, 20, 15, 20, 20, 20, 18, 18, 18, 19]\n",
    "\n",
    "# use .sort()\n",
    "quiz_scores.sort()\n",
    "\n",
    "print(\"quiz_scores:\", quiz_scores)"
   ]
  },
  {
   "cell_type": "code",
   "execution_count": 31,
   "metadata": {
    "collapsed": false
   },
   "outputs": [
    {
     "name": "stdout",
     "output_type": "stream",
     "text": [
      "game_points: [3, 14, 0, 8, 21, 1, 3, 8]\n",
      "sorted_points: [0, 1, 3, 3, 8, 8, 14, 21]\n"
     ]
    }
   ],
   "source": [
    "# [ ] review and run example\n",
    "game_points = [3, 14, 0, 8, 21, 1, 3, 8]\n",
    "\n",
    "# use sorted()\n",
    "sorted_points = sorted(game_points)\n",
    "\n",
    "print(\"game_points:\", game_points)\n",
    "print(\"sorted_points:\", sorted_points)"
   ]
  },
  {
   "cell_type": "code",
   "execution_count": 32,
   "metadata": {
    "collapsed": false
   },
   "outputs": [
    {
     "name": "stdout",
     "output_type": "stream",
     "text": [
      "Unsorted ['Dubai', 'Mexico City', 'São Paulo', 'Hyderabad']\n",
      "Sorted ['Dubai', 'Hyderabad', 'Mexico City', 'São Paulo']\n"
     ]
    }
   ],
   "source": [
    "# [ ] review and run example\n",
    "cities_1 = [\"Dubai\", \"Mexico City\", \"São Paulo\", \"Hyderabad\"]\n",
    "\n",
    "print(\"Unsorted\", cities_1)\n",
    "cities_1.sort()\n",
    "print(\"Sorted\", cities_1)"
   ]
  },
  {
   "cell_type": "markdown",
   "metadata": {
    "collapsed": true
   },
   "source": [
    "## Task 3: .sort() & sorted()"
   ]
  },
  {
   "cell_type": "code",
   "execution_count": 37,
   "metadata": {
    "collapsed": false
   },
   "outputs": [
    {
     "name": "stdout",
     "output_type": "stream",
     "text": [
      "['Dubai', 'Hyderabad', 'Mexico City', 'Munich', 'New York', 'Shanghai', 'São Paulo', 'Toyko'] \n",
      "\n",
      "Starts with Q or earlier:\n",
      "Dubai\n",
      "Hyderabad\n",
      "Mexico City\n",
      "Munich\n",
      "New York\n"
     ]
    }
   ],
   "source": [
    "# [ ] print cites from visited_cities list in alphbetical order using .sort()\n",
    "# [ ] only print cities that names start \"Q\" or earlier\n",
    "visited_cities = [\"New York\", \"Shanghai\", \"Munich\", \"Toyko\", \"Dubai\", \"Mexico City\", \"São Paulo\", \"Hyderabad\"]\n",
    "\n",
    "visited_cities.sort()\n",
    "print(visited_cities, \"\\n\")\n",
    "print(\"Starts with Q or earlier:\")\n",
    "for c in visited_cities:\n",
    "    if c <= \"Q\":\n",
    "        print(c)\n",
    "    else:\n",
    "        pass"
   ]
  },
  {
   "cell_type": "code",
   "execution_count": 40,
   "metadata": {
    "collapsed": false
   },
   "outputs": [
    {
     "name": "stdout",
     "output_type": "stream",
     "text": [
      "Hyderabad\n",
      "Mexico City\n",
      "Munich\n",
      "New York\n",
      "Shanghai\n",
      "São Paulo\n"
     ]
    }
   ],
   "source": [
    "# [ ] make a sorted copy (sorted_cities) of visited_cities list\n",
    "# [ ] remove city names 5 characters or less from sorted_cities \n",
    "# [ ] print visitied cites and sorted cities\n",
    "visited_cities = [\"New York\", \"Shanghai\", \"Munich\", \"Toyko\", \"Dubai\", \"Mexico City\", \"São Paulo\", \"Hyderabad\"]\n",
    "sorted_cities = sorted(visited_cities)\n",
    "\n",
    "for city in sorted_cities:\n",
    "    if len(city) > 5:\n",
    "        print(city)\n",
    "    else:\n",
    "        pass\n"
   ]
  },
  {
   "cell_type": "markdown",
   "metadata": {
    "collapsed": true
   },
   "source": [
    "## Task 3 (program): Merge & Sort Animals\n",
    "Create a program that \n",
    "- takes user to build a list: add_animals \n",
    "- merges add_anmials with exisiting list: anmimals\n",
    "- provides a sorted list to view in alpa or reverse alpha order"
   ]
  },
  {
   "cell_type": "markdown",
   "metadata": {},
   "source": [
    "\n",
    "<font size=\"4\" color=\"#B24C00\"  face=\"verdana\"> <B>step 1 </B></font> get user input to build add_animals list\n"
   ]
  },
  {
   "cell_type": "code",
   "execution_count": 48,
   "metadata": {
    "collapsed": false
   },
   "outputs": [
    {
     "name": "stdout",
     "output_type": "stream",
     "text": [
      "['Dolphin', 'Horse', 'Zebra']\n"
     ]
    }
   ],
   "source": [
    "# [ ] build a list (add_animals) using a while loop, stop adding when an empty string is entered\n",
    "add_animals = []\n",
    "while True:\n",
    "    ani = input(\"add animal, enter blank to stop\")\n",
    "    if ani == \"\":\n",
    "        break\n",
    "    elif ani.isalpha():\n",
    "        add_animals.append(ani.title())\n",
    "    else:\n",
    "        pass\n",
    "print(add_animals)\n"
   ]
  },
  {
   "cell_type": "markdown",
   "metadata": {},
   "source": [
    "\n",
    "<font size=\"4\" color=\"#B24C00\"  face=\"verdana\"> <B>step 2 </B></font> Merge the lists: add_animals into animals\n"
   ]
  },
  {
   "cell_type": "code",
   "execution_count": 50,
   "metadata": {
    "collapsed": false
   },
   "outputs": [
    {
     "name": "stdout",
     "output_type": "stream",
     "text": [
      "['Armadillo', 'Chimpanzee', 'Dolphin', 'Horse', 'Panther', 'Wolf', 'Zebra']\n"
     ]
    }
   ],
   "source": [
    "# [ ] extend the lists into animals, then sort \n",
    "animals = [\"Chimpanzee\", \"Panther\", \"Wolf\", \"Armadillo\"]\n",
    "animals.extend(add_animals)\n",
    "animals.sort()\n",
    "print(animals)\n"
   ]
  },
  {
   "cell_type": "markdown",
   "metadata": {},
   "source": [
    "\n",
    "<font size=\"4\" color=\"#B24C00\"  face=\"verdana\"> <B>step 3 </B></font> Allow animals list to be viewed alpha or reverse alpha order\n"
   ]
  },
  {
   "cell_type": "code",
   "execution_count": 52,
   "metadata": {
    "collapsed": false
   },
   "outputs": [
    {
     "name": "stdout",
     "output_type": "stream",
     "text": [
      "['Armadillo', 'Chimpanzee', 'Dolphin', 'Horse', 'Panther', 'Wolf', 'Zebra']\n"
     ]
    }
   ],
   "source": [
    "# [ ] get input if list should be viewed alpha or reverse alpha and display list\n",
    "\n",
    "while True: \n",
    "    aorr = input(\"a or r\")\n",
    "    if aorr.lower() == \"a\":\n",
    "        print(animals)\n",
    "        break\n",
    "    elif aorr.lower() == \"r\":\n",
    "        animals.reverse()\n",
    "        print(animals)\n",
    "        break\n",
    "    else:\n",
    "        print(\"'a' or 'r' only\")\n",
    "\n"
   ]
  },
  {
   "cell_type": "code",
   "execution_count": null,
   "metadata": {
    "collapsed": true
   },
   "outputs": [],
   "source": []
  },
  {
   "cell_type": "markdown",
   "metadata": {
    "collapsed": true
   },
   "source": [
    "[Terms of use](http://go.microsoft.com/fwlink/?LinkID=206977) &nbsp; [Privacy & cookies](https://go.microsoft.com/fwlink/?LinkId=521839) &nbsp; © 2017 Microsoft"
   ]
  }
 ],
 "metadata": {
  "anaconda-cloud": {},
  "kernelspec": {
   "display_name": "Python 3",
   "language": "python",
   "name": "python3"
  },
  "language_info": {
   "codemirror_mode": {
    "name": "ipython",
    "version": 3
   },
   "file_extension": ".py",
   "mimetype": "text/x-python",
   "name": "python",
   "nbconvert_exporter": "python",
   "pygments_lexer": "ipython3",
   "version": "3.8.13 (default, Oct  4 2022, 14:00:32) \n[GCC 9.4.0]"
  },
  "vscode": {
   "interpreter": {
    "hash": "9ac03a0a6051494cc606d484d27d20fce22fb7b4d169f583271e11d5ba46a56e"
   }
  }
 },
 "nbformat": 4,
 "nbformat_minor": 1
}
