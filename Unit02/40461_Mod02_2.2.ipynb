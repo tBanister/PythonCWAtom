{
 "cells": [
  {
   "cell_type": "markdown",
   "metadata": {},
   "source": [
    "# Section 2.2\n",
    "## List Append\n",
    "- List Creation\n",
    "- List Access\n",
    "- **List Append**\n",
    "- List Insert\n",
    "- List Delete\n",
    "\n",
    "----- \n",
    "\n",
    "### Student will be able to\n",
    "- Create lists\n",
    "- Access items in a list\n",
    "- **Add items to the end of a list**\n",
    "- Modify and insert items into a list\n",
    "- Delete items from a list\n"
   ]
  },
  {
   "cell_type": "markdown",
   "metadata": {},
   "source": [
    "## Concept: Appending to Lists\n",
    "[![view video](https://iajupyterprodblobs.blob.core.windows.net/imagecontainer/common/play_video.png)]( http://edxinteractivepage.blob.core.windows.net/edxpages/f7cff1a7-5601-48a1-95a6-fd1fdfabd20e.html?details=[{\"src\":\"http://jupyternootbookwams.streaming.mediaservices.windows.net/121939c6-f81e-4787-a7a9-15ab15c69168/Unit2_Section2.2a-Appending_to_Lists.ism/manifest\",\"type\":\"application/vnd.ms-sstr+xml\"}],[{\"src\":\"http://jupyternootbookwams.streaming.mediaservices.windows.net/121939c6-f81e-4787-a7a9-15ab15c69168/Unit2_Section2.2a-Appending_to_Lists.vtt\",\"srclang\":\"en\",\"kind\":\"subtitles\",\"label\":\"english\"}])\n",
    "**`.append()`** method adds an item to the end of a list   \n",
    "```python\n",
    "party_list.append(\"Alton\")\n",
    "```"
   ]
  },
  {
   "cell_type": "markdown",
   "metadata": {},
   "source": [
    "### Examples"
   ]
  },
  {
   "cell_type": "code",
   "execution_count": 4,
   "metadata": {
    "collapsed": false
   },
   "outputs": [
    {
     "name": "stdout",
     "output_type": "stream",
     "text": [
      "sample_list before:  [1, 1, 2]\n",
      "sample_list after:   [1, 1, 2, 3]\n"
     ]
    }
   ],
   "source": [
    "# [ ] review and run example\n",
    "# the list before append\n",
    "sample_list = [1, 1, 2]\n",
    "print(\"sample_list before: \", sample_list)\n",
    "\n",
    "sample_list.append(3)\n",
    "# the list after append\n",
    "print(\"sample_list after:  \", sample_list)"
   ]
  },
  {
   "cell_type": "code",
   "execution_count": 6,
   "metadata": {
    "collapsed": false
   },
   "outputs": [
    {
     "name": "stdout",
     "output_type": "stream",
     "text": [
      "sample_list start:   [1, 1, 2, 3, 3, 8, 5]\n",
      "sample_list added:   [1, 1, 2, 3, 3, 8, 5, 3]\n",
      "sample_list added:   [1, 1, 2, 3, 3, 8, 5, 3, 8]\n",
      "sample_list added:   [1, 1, 2, 3, 3, 8, 5, 3, 8, 5]\n"
     ]
    }
   ],
   "source": [
    "# [ ] review and run example\n",
    "# append number to sample_list\n",
    "print(\"sample_list start:  \", sample_list)\n",
    "sample_list.append(3)\n",
    "print(\"sample_list added:  \", sample_list)\n",
    "\n",
    "# append again\n",
    "sample_list.append(8)\n",
    "print(\"sample_list added:  \", sample_list)\n",
    "\n",
    "# append again\n",
    "sample_list.append(5)\n",
    "print(\"sample_list added:  \", sample_list)\n",
    "\n",
    "# [ ] run this cell several times in a row \n",
    "# [ ] run cell above, then run this cell again"
   ]
  },
  {
   "cell_type": "code",
   "execution_count": 7,
   "metadata": {
    "collapsed": false
   },
   "outputs": [
    {
     "name": "stdout",
     "output_type": "stream",
     "text": [
      "mixed_types list:  [1, 'cat', 3]\n",
      "mixed_types list:  [1, 'cat', 3, 'turtle']\n"
     ]
    }
   ],
   "source": [
    "# [ ] review and run example\n",
    "mixed_types = [1, \"cat\"]\n",
    "# append number\n",
    "mixed_types.append(3)\n",
    "print(\"mixed_types list: \", mixed_types)\n",
    "\n",
    "# append string\n",
    "mixed_types.append(\"turtle\")\n",
    "print(\"mixed_types list: \", mixed_types)"
   ]
  },
  {
   "cell_type": "markdown",
   "metadata": {
    "collapsed": true
   },
   "source": [
    "## Task 1: `.append()`"
   ]
  },
  {
   "cell_type": "code",
   "execution_count": 10,
   "metadata": {
    "collapsed": false
   },
   "outputs": [
    {
     "name": "stdout",
     "output_type": "stream",
     "text": [
      "original list: [0.1, 0.04, 1.4, 2.5, 0.15]\n",
      "Updated list: [0.1, 0.04, 1.4, 2.5, 0.15, 2.3]\n"
     ]
    }
   ],
   "source": [
    "# Currency Values\n",
    "# [ ] create a list of 3 or more currency denomination values, cur_values\n",
    "# cur_values, contains values of coins and paper bills (.01, .05, etc.)\n",
    "cur_values = [0.1, 0.04, 1.4,2.5,0.15]\n",
    "# [ ] print the list\n",
    "print(\"original list:\", cur_values)\n",
    "\n",
    "# [ ] append an item to the list and print the list\n",
    "cur_values.append(2.3)\n",
    "print(\"Updated list:\",cur_values)\n"
   ]
  },
  {
   "cell_type": "code",
   "execution_count": 12,
   "metadata": {
    "collapsed": false
   },
   "outputs": [
    {
     "name": "stdout",
     "output_type": "stream",
     "text": [
      "original list: ['penny', 'dollar', 'pound', 'cent']\n",
      "Updated list: ['penny', 'dollar', 'pound', 'cent', 'dime']\n"
     ]
    }
   ],
   "source": [
    "# Currency Names\n",
    "# [ ] create a list of 3 or more currency denomination NAMES, cur_names\n",
    "# cur_names contains the NAMES of coins and paper bills (penny, etc.)\n",
    "cur_names = [\"penny\", \"dollar\", \"pound\", \"cent\"]\n",
    "# [ ] print the list\n",
    "print(\"original list:\", cur_names)\n",
    "\n",
    "# [ ] append an item to the list and print the list\n",
    "cur_names.append(\"dime\")\n",
    "print(\"Updated list:\", cur_names)"
   ]
  },
  {
   "cell_type": "markdown",
   "metadata": {
    "collapsed": true
   },
   "source": [
    "## Task 2: Append items to a list with `input()` "
   ]
  },
  {
   "cell_type": "code",
   "execution_count": 13,
   "metadata": {
    "collapsed": false
   },
   "outputs": [
    {
     "name": "stdout",
     "output_type": "stream",
     "text": [
      "['penny', 'dollar', 'pound', 'cent', 'dime', 'quarter']\n"
     ]
    }
   ],
   "source": [
    "# [ ] append additional values to the Currency Names list using input()\n",
    "cur_names.append(input(\"Currency name\"))\n",
    "# [ ] print the appended list\n",
    "print(cur_names)\n"
   ]
  },
  {
   "cell_type": "markdown",
   "metadata": {},
   "source": [
    "## Task 3: `while` loop `.append()`\n",
    "- define an empty list: **`bday_survey`**\n",
    "- get user input, **`bday`**, asking for the day of the month they were born (1-31) or \"q\" to finish\n",
    "- using a **`while`** loop\n",
    "  - get user input, **`bday`**, asking for the day of the month they were born (1-31) or \"q\" to finish\n",
    "  - append the **`bday`** input to the **`bday_survey`** list\n",
    "  - repeat input until a user enters **\"q\"** to quit\n",
    "- print bday_survey list"
   ]
  },
  {
   "cell_type": "code",
   "execution_count": 22,
   "metadata": {
    "collapsed": false
   },
   "outputs": [
    {
     "name": "stdout",
     "output_type": "stream",
     "text": [
      "dates between 1-31 only\n",
      "Number only\n",
      "[3, 1, 2, 3, 3, 4]\n"
     ]
    }
   ],
   "source": [
    "# [ ] complete the Birthday Survey task above\n",
    "bday_survey = []\n",
    "bday = 0\n",
    "while bday != \"q\":\n",
    "    bday = input(\"bday\")\n",
    "    if bday.isdigit():\n",
    "        if int(bday) >= 1 and int(bday) <= 31:\n",
    "            bday_survey.append(int(bday))\n",
    "        else:\n",
    "            print(\"dates between 1-31 only\")\n",
    "    else:\n",
    "        print (\"Number only\")\n",
    "print(bday_survey)       \n",
    "\n",
    "\n",
    "\n"
   ]
  },
  {
   "cell_type": "markdown",
   "metadata": {},
   "source": [
    "## Task 4: Fix the error\n"
   ]
  },
  {
   "cell_type": "code",
   "execution_count": 21,
   "metadata": {
    "collapsed": false
   },
   "outputs": [
    {
     "name": "stdout",
     "output_type": "stream",
     "text": [
      "an item in the list is:  2\n"
     ]
    }
   ],
   "source": [
    "# [ ] Fix the Error\n",
    "three_numbers = [1, 1, 2]\n",
    "print(\"an item in the list is: \", three_numbers[2])\n",
    "\n"
   ]
  },
  {
   "cell_type": "markdown",
   "metadata": {},
   "source": [
    "[Terms of use](http://go.microsoft.com/fwlink/?LinkID=206977) &nbsp; [Privacy & cookies](https://go.microsoft.com/fwlink/?LinkId=521839) &nbsp; © 2017 Microsoft"
   ]
  }
 ],
 "metadata": {
  "anaconda-cloud": {},
  "kernelspec": {
   "display_name": "Python 3",
   "language": "python",
   "name": "python3"
  },
  "language_info": {
   "codemirror_mode": {
    "name": "ipython",
    "version": 3
   },
   "file_extension": ".py",
   "mimetype": "text/x-python",
   "name": "python",
   "nbconvert_exporter": "python",
   "pygments_lexer": "ipython3",
   "version": "3.8.13"
  },
  "vscode": {
   "interpreter": {
    "hash": "9ac03a0a6051494cc606d484d27d20fce22fb7b4d169f583271e11d5ba46a56e"
   }
  }
 },
 "nbformat": 4,
 "nbformat_minor": 1
}
