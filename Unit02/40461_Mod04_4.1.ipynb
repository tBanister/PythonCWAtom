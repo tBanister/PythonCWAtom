{
 "cells": [
  {
   "cell_type": "markdown",
   "metadata": {},
   "source": [
    "# Section 4.1\n",
    "## Files Import, Open, and Read\n",
    "- File import in Jupyter Notebooks\n",
    "- File `open(`) and `.read()`\n",
    "\n",
    "----- \n",
    "\n",
    "### Student will be able to\n",
    "- Import files in Jupyter Notebooks using the curl command\n",
    "- `open()` and `.read()` local files in memory\n",
    "- `.read()` a specific number of characters"
   ]
  },
  {
   "cell_type": "markdown",
   "metadata": {},
   "source": [
    "## Concept: Import Files to Jupyter\n",
    "[![view video](https://iajupyterprodblobs.blob.core.windows.net/imagecontainer/common/play_video.png)]( http://edxinteractivepage.blob.core.windows.net/edxpages/f7cff1a7-5601-48a1-95a6-fd1fdfabd20e.html?details=[{\"src\":\"http://jupyternootbookwams.streaming.mediaservices.windows.net/850e52a7-2082-4cb7-926f-54bf2527cee0/Unit2_Section4.1a-Import_Files_to_Jupyter.ism/manifest\",\"type\":\"application/vnd.ms-sstr+xml\"}],[{\"src\":\"http://jupyternootbookwams.streaming.mediaservices.windows.net/850e52a7-2082-4cb7-926f-54bf2527cee0/Unit2_Section4.1a-Import_Files_to_Jupyter.vtt\",\"srclang\":\"en\",\"kind\":\"subtitles\",\"label\":\"english\"}])\n",
    "### curl imports files to Jupyter session from a web address\n",
    "Below is code using curl to import poem1.txt, the code is in a command line interface syntax.\n",
    "\n",
    ">#### `!curl https://raw.githubusercontent.com/MicrosoftLearning/intropython/master/poem1.txt -o poem1.txt`  \n",
    "\n",
    "The table explains each element of the  command above.  \n",
    "\n",
    "| code | meaning |\n",
    "|-----|---|\n",
    "| **`!`** | runs command interface supporting **curl** | \n",
    "| **`curl`** | enables **curl** that can download files |  \n",
    "| **`https://raw.githubusercontent.com/...`** | is the address for data file to import |  \n",
    "| **`-o`** | tells **`curl`** write data to a file |  \n",
    "| ** *`poem1.txt`* ** | name **`curl`** will give the file  |\n"
   ]
  },
  {
   "cell_type": "markdown",
   "metadata": {},
   "source": [
    "### Examples"
   ]
  },
  {
   "cell_type": "code",
   "execution_count": 50,
   "metadata": {
    "collapsed": false
   },
   "outputs": [
    {
     "name": "stdout",
     "output_type": "stream",
     "text": [
      "  % Total    % Received % Xferd  Average Speed   Time    Time     Time  Current\n",
      "                                 Dload  Upload   Total   Spent    Left  Speed\n",
      "100    56  100    56    0     0   1037      0 --:--:-- --:--:-- --:--:--  1696\n"
     ]
    }
   ],
   "source": [
    "# [ ] review and run example\n",
    "!curl https://raw.githubusercontent.com/MicrosoftLearning/intropython/master/poem1.txt -o poem1.txt\n"
   ]
  },
  {
   "cell_type": "markdown",
   "metadata": {},
   "source": [
    "## Concept: Opening a local file in read mode\n",
    ">```python\n",
    "poem_file = open('poem1.txt', 'r') \n",
    "```  \n",
    "[![view video](https://iajupyterprodblobs.blob.core.windows.net/imagecontainer/common/play_video.png)]( http://edxinteractivepage.blob.core.windows.net/edxpages/f7cff1a7-5601-48a1-95a6-fd1fdfabd20e.html?details=[{\"src\":\"http://jupyternootbookwams.streaming.mediaservices.windows.net/07e5f863-e416-4534-a45c-df50d0d3df33/Unit2_Section4.1b-Opening_Files_Read_Mode.ism/manifest\",\"type\":\"application/vnd.ms-sstr+xml\"}],[{\"src\":\"http://jupyternootbookwams.streaming.mediaservices.windows.net/07e5f863-e416-4534-a45c-df50d0d3df33/Unit2_Section4.1b-Opening_Files_Read_Mode.vtt\",\"srclang\":\"en\",\"kind\":\"subtitles\",\"label\":\"english\"}])\n",
    "### Read  mode &nbsp; `'r'`\n",
    "| MODE    |  Description  |\n",
    "|:-------:|:--------------|\n",
    "| **'r'**  | **read only mode** |\n",
    "| 'w'  | write - overwrites file with same name |\n",
    "| 'r+' | read and write mode |\n",
    "| 'a'  | opens for appending to end of file |\n",
    "\n",
    "### `open()` creates an object that can be addressed in python code"
   ]
  },
  {
   "cell_type": "markdown",
   "metadata": {},
   "source": [
    "### Examples"
   ]
  },
  {
   "cell_type": "code",
   "execution_count": 26,
   "metadata": {
    "collapsed": false
   },
   "outputs": [],
   "source": [
    "# [ ]Run to open the file in memory as poem_file\n",
    "poem_file = open('poem1.txt', 'r')"
   ]
  },
  {
   "cell_type": "code",
   "execution_count": 27,
   "metadata": {
    "collapsed": false
   },
   "outputs": [
    {
     "data": {
      "text/plain": [
       "<_io.TextIOWrapper name='poem1.txt' mode='r' encoding='UTF-8'>"
      ]
     },
     "execution_count": 27,
     "metadata": {},
     "output_type": "execute_result"
    }
   ],
   "source": [
    "# [ ] run and review code to test if open worked \n",
    "# should display name='poem1.txt' and no errors\n",
    "poem_file"
   ]
  },
  {
   "cell_type": "markdown",
   "metadata": {
    "collapsed": true
   },
   "source": [
    "## Task 1: Import and open a local file in read mode\n",
    "1. **Import a list of cities using curl**  \n",
    "  a. Get the list from https://raw.githubusercontent.com/MicrosoftLearning/intropython/master/cities  \n",
    "  b. Name the list cities.txt  \n",
    "2. **Open cities.txt in read mode using a variable = cities_file**  \n",
    "3. **Test that cities_file opened cities.txt with a print statement**  "
   ]
  },
  {
   "cell_type": "code",
   "execution_count": 84,
   "metadata": {
    "collapsed": false
   },
   "outputs": [
    {
     "name": "stdout",
     "output_type": "stream",
     "text": [
      "  % Total    % Received % Xferd  Average Speed   Time    Time     Time  Current\n",
      "                                 Dload  Upload   Total   Spent    Left  Speed\n",
      "100    56  100    56    0     0   1931      0 --:--:-- --:--:-- --:--:--  1931\n"
     ]
    }
   ],
   "source": [
    "# [ ] import cities.txt\n",
    "!curl https://raw.githubusercontent.com/MicrosoftLearning/intropython/master/cities -o cities.txt \n"
   ]
  },
  {
   "cell_type": "code",
   "execution_count": 22,
   "metadata": {
    "collapsed": false
   },
   "outputs": [
    {
     "data": {
      "text/plain": [
       "<_io.TextIOWrapper name='cities.txt' mode='r' encoding='UTF-8'>"
      ]
     },
     "execution_count": 22,
     "metadata": {},
     "output_type": "execute_result"
    }
   ],
   "source": [
    "# [ ] open cities.txt as cities_file\n",
    "# [ ] test cities.txt was opened \n",
    "cities_file = open(\"cities.txt\", \"r\")\n",
    "cities_file"
   ]
  },
  {
   "cell_type": "markdown",
   "metadata": {},
   "source": [
    "## Concept: Read a file using `.read()`\n",
    "[![view video](https://iajupyterprodblobs.blob.core.windows.net/imagecontainer/common/play_video.png)]( http://edxinteractivepage.blob.core.windows.net/edxpages/f7cff1a7-5601-48a1-95a6-fd1fdfabd20e.html?details=[{\"src\":\"http://jupyternootbookwams.streaming.mediaservices.windows.net/c37a03df-7d95-4339-8fec-8f199b747a08/Unit2_Section4.1c-Reading_Files.ism/manifest\",\"type\":\"application/vnd.ms-sstr+xml\"}],[{\"src\":\"http://jupyternootbookwams.streaming.mediaservices.windows.net/c37a03df-7d95-4339-8fec-8f199b747a08/Unit2_Section4.1c-Reading_Files.vtt\",\"srclang\":\"en\",\"kind\":\"subtitles\",\"label\":\"english\"}])\n",
    "### reading text\n",
    "```python\n",
    "poem_contents = poem_file.read()\n",
    "```\n",
    "### `.read()` loads the content of the file into memory as a string, including formatting such as new line (`\\n`)"
   ]
  },
  {
   "cell_type": "markdown",
   "metadata": {},
   "source": [
    "### Examples\n",
    "Note: The examples expect that the cells that import and open poem1.txt have been run without a read().\n",
    "Run the cells that import and open poem1.txt."
   ]
  },
  {
   "cell_type": "code",
   "execution_count": 28,
   "metadata": {
    "collapsed": false
   },
   "outputs": [],
   "source": [
    "# [ ] review and run example\n",
    "poem_contents = poem_file.read()"
   ]
  },
  {
   "cell_type": "code",
   "execution_count": 29,
   "metadata": {
    "collapsed": false
   },
   "outputs": [
    {
     "data": {
      "text/plain": [
       "'Loops I repeat\\nloops\\nloops\\nloops\\nI repeat\\nuntil I\\nbreak\\n'"
      ]
     },
     "execution_count": 29,
     "metadata": {},
     "output_type": "execute_result"
    }
   ],
   "source": [
    "# [ ] review and run example\n",
    "# shows the file as a string with formatting characters such as \"\\n\", output should be non-blank\n",
    "poem_contents"
   ]
  },
  {
   "cell_type": "code",
   "execution_count": 30,
   "metadata": {
    "collapsed": false
   },
   "outputs": [
    {
     "name": "stdout",
     "output_type": "stream",
     "text": [
      "Loops I repeat\n",
      "loops\n",
      "loops\n",
      "loops\n",
      "I repeat\n",
      "until I\n",
      "break\n",
      "\n"
     ]
    }
   ],
   "source": [
    "# [ ] review and run example\n",
    "# since .read() loaded the file as a string it can be printed\n",
    "print(poem_contents)"
   ]
  },
  {
   "cell_type": "markdown",
   "metadata": {
    "collapsed": true
   },
   "source": [
    "## Task 2: Read a file\n",
    "### Read the file cities.text that was imported in Task 1\n",
    "1. **Import and open cities.txt**  \n",
    "  a. Ensure the code was created and run in **Task 1** to import cities.txt  \n",
    "  b. Create and run code to re-open cities.txt as cities_file  \n",
    "2. **read() cities_file into a variable called cities**\n",
    "3. Test the read() by displaying the string contained in cities\n",
    "4. Test the read() by printing the cities string"
   ]
  },
  {
   "cell_type": "code",
   "execution_count": 23,
   "metadata": {
    "collapsed": false
   },
   "outputs": [
    {
     "data": {
      "text/plain": [
       "'Beijing\\nCairo\\nLondon\\nNairobi\\nNew York City\\nSydney\\nTokyo\\n'"
      ]
     },
     "execution_count": 23,
     "metadata": {},
     "output_type": "execute_result"
    }
   ],
   "source": [
    "# [ ] after import and open of cities.txt in task 1\n",
    "# [ ] read cities_file as cities\n",
    "# [ ] display the string: cities\n",
    "cities = cities_file.read()\n",
    "cities\n"
   ]
  },
  {
   "cell_type": "code",
   "execution_count": 24,
   "metadata": {
    "collapsed": false
   },
   "outputs": [
    {
     "name": "stdout",
     "output_type": "stream",
     "text": [
      "Beijing\n",
      "Cairo\n",
      "London\n",
      "Nairobi\n",
      "New York City\n",
      "Sydney\n",
      "Tokyo\n",
      "\n"
     ]
    }
   ],
   "source": [
    "# [ ] print the string: cities\n",
    "\n",
    "print(cities)"
   ]
  },
  {
   "cell_type": "markdown",
   "metadata": {
    "collapsed": true
   },
   "source": [
    "## Concept: Reading a file with `.read(n)` \n",
    "### Where n = number of characters to read\n",
    "[![view video](https://iajupyterprodblobs.blob.core.windows.net/imagecontainer/common/play_video.png)]( http://edxinteractivepage.blob.core.windows.net/edxpages/f7cff1a7-5601-48a1-95a6-fd1fdfabd20e.html?details=[{\"src\":\"http://jupyternootbookwams.streaming.mediaservices.windows.net/9960a973-339b-40e1-b5b3-1f7db661934e/Unit2_Section4.1d-Reading_Number_of_Characters.ism/manifest\",\"type\":\"application/vnd.ms-sstr+xml\"}],[{\"src\":\"http://jupyternootbookwams.streaming.mediaservices.windows.net/9960a973-339b-40e1-b5b3-1f7db661934e/Unit2_Section4.1d-Reading_Number_of_Characters.vtt\",\"srclang\":\"en\",\"kind\":\"subtitles\",\"label\":\"english\"}])\n",
    "### Each time `poem_file.read(10)` runs, the next 10 characters are read.\n",
    "\n",
    "> **Note:** if .read(10) result is = '' &nbsp;(or empty string with no characters), it is likely that the end of the file has been reached. Perform a fresh **.open()** to reset read() to the beginning of the file."
   ]
  },
  {
   "cell_type": "markdown",
   "metadata": {},
   "source": [
    "### Examples\n",
    "Note: The examples expect that the cells that import and open poem1.txt have been run without a read().\n",
    "Run the cell at the top of the notebook to ** import poem1.txt**.\n",
    "Each line is a different approach to reading and displaying 10 characters of the poem."
   ]
  },
  {
   "cell_type": "code",
   "execution_count": 43,
   "metadata": {
    "collapsed": false
   },
   "outputs": [
    {
     "name": "stdout",
     "output_type": "stream",
     "text": [
      "Loops I re\n"
     ]
    },
    {
     "data": {
      "text/plain": [
       "'Loops I re'"
      ]
     },
     "execution_count": 43,
     "metadata": {},
     "output_type": "execute_result"
    }
   ],
   "source": [
    "# [ ] review and run example to read poem1.txt 10 characters at a time\n",
    "poem_file = open('poem1.txt', 'r')\n",
    "poem_10char = poem_file.read(10)\n",
    "print(poem_10char)\n",
    "poem_10char"
   ]
  },
  {
   "cell_type": "code",
   "execution_count": 44,
   "metadata": {
    "collapsed": false
   },
   "outputs": [
    {
     "data": {
      "text/plain": [
       "'peat\\nloops'"
      ]
     },
     "execution_count": 44,
     "metadata": {},
     "output_type": "execute_result"
    }
   ],
   "source": [
    "# [ ] review and run example, + 10 more characters\n",
    "# reads and displays without storing in a variable\n",
    "poem_file.read(10)"
   ]
  },
  {
   "cell_type": "code",
   "execution_count": 45,
   "metadata": {
    "collapsed": false
   },
   "outputs": [
    {
     "name": "stdout",
     "output_type": "stream",
     "text": [
      "\n",
      "loops\n",
      "loo\n"
     ]
    },
    {
     "data": {
      "text/plain": [
       "'\\nloops\\nloo'"
      ]
     },
     "execution_count": 45,
     "metadata": {},
     "output_type": "execute_result"
    }
   ],
   "source": [
    "# [ ] review and run example, + 10 more characters\n",
    "# reads and stores in variable poem_parts\n",
    "poem_parts = poem_file.read(10)\n",
    "print(poem_parts)\n",
    "poem_parts"
   ]
  },
  {
   "cell_type": "code",
   "execution_count": 46,
   "metadata": {
    "collapsed": false
   },
   "outputs": [
    {
     "name": "stdout",
     "output_type": "stream",
     "text": [
      "\n",
      "loops\n",
      "loops\n",
      "I \n"
     ]
    }
   ],
   "source": [
    "# [ ] REPEATEDLY RUN this cell,  + 5 more characters each time run are appended using string addition\n",
    "# [ ]  consider why no additional text displays after multiple runs\n",
    "poem_parts += poem_file.read(5)\n",
    "print(poem_parts)\n"
   ]
  },
  {
   "cell_type": "markdown",
   "metadata": {
    "collapsed": true
   },
   "source": [
    "## Task 3: Digits of pi  \n",
    "### Read a set number of digits with .read(n)\n",
    "### Import, open, read, print\n",
    "1. Import digits_of_pi.txt located at https://raw.githubusercontent.com/MicrosoftLearning/intropython/master/digits_of_pi  \n",
    "2. Open as **digits_of_pi_text** \n",
    "3. Read()the first 4 characters of digits_of_pi_text into a variable called pi_digits  \n",
    "4. Print pi_digits  \n",
    "5. Add to pi_digits string with string addition  \n",
    "  a. Add next 4 characters from digits_of_pi obtained from read()  \n",
    "  b. Run the cell multiple times to get more digits of *pi*  "
   ]
  },
  {
   "cell_type": "code",
   "execution_count": 47,
   "metadata": {
    "collapsed": false
   },
   "outputs": [
    {
     "name": "stdout",
     "output_type": "stream",
     "text": [
      "  % Total    % Received % Xferd  Average Speed   Time    Time     Time  Current\n",
      "                                 Dload  Upload   Total   Spent    Left  Speed\n",
      "100   303  100   303    0     0   1683      0 --:--:-- --:--:-- --:--:--  1683\n"
     ]
    }
   ],
   "source": [
    "# [ ] digits of pi\n",
    "# 1. import digits_of_pi.txt\n",
    "!curl https://raw.githubusercontent.com/MicrosoftLearning/intropython/master/digits_of_pi -o digits_of_pi.txt \n"
   ]
  },
  {
   "cell_type": "code",
   "execution_count": 48,
   "metadata": {
    "collapsed": false
   },
   "outputs": [
    {
     "name": "stdout",
     "output_type": "stream",
     "text": [
      "3.14\n"
     ]
    }
   ],
   "source": [
    "# [ ] digits of pi\n",
    "# 2. open as digits_of_pi_text \n",
    "# 3. read() 4 char of digits_of_pi_text to pi_digits variable \n",
    "# 4. print pi_digits  \n",
    "\n",
    "digits_of_pi_text = open(\"digits_of_pi.txt\", \"r\")\n",
    "\n",
    "pi_digits = digits_of_pi_text.read(4)\n",
    "\n",
    "print(pi_digits)"
   ]
  },
  {
   "cell_type": "code",
   "execution_count": 49,
   "metadata": {
    "collapsed": false
   },
   "outputs": [
    {
     "name": "stdout",
     "output_type": "stream",
     "text": [
      "3.141592\n"
     ]
    }
   ],
   "source": [
    "# [ ] digits of pi\n",
    "# 5. add to pi_digits string with string addition  \n",
    "#   a. add next 4 characters from digits_of_pi obtained from read()  \n",
    "#   b. run the cell multiple times to get more digits of *pi*\n",
    "\n",
    "pi_digits += digits_of_pi_text.read(4)\n",
    "print(pi_digits)"
   ]
  },
  {
   "cell_type": "markdown",
   "metadata": {},
   "source": [
    "## Concept: .read() returns a string \n",
    "### These strings can be manipulated just like any other string\n",
    "[![view video](https://iajupyterprodblobs.blob.core.windows.net/imagecontainer/common/play_video.png)]( http://edxinteractivepage.blob.core.windows.net/edxpages/f7cff1a7-5601-48a1-95a6-fd1fdfabd20e.html?details=[{\"src\":\"http://jupyternootbookwams.streaming.mediaservices.windows.net/f7fb0136-24a3-4a0e-aff2-b1abc2f83029/Unit2_Section4.1e-Read_Returns_a_String.ism/manifest\",\"type\":\"application/vnd.ms-sstr+xml\"}],[{\"src\":\"http://jupyternootbookwams.streaming.mediaservices.windows.net/f7fb0136-24a3-4a0e-aff2-b1abc2f83029/Unit2_Section4.1e-Read_Returns_a_String.vtt\",\"srclang\":\"en\",\"kind\":\"subtitles\",\"label\":\"english\"}])\n",
    "### Boolean tests such as:\n",
    "- .upper()  \n",
    "- .title() \n",
    "- string slices, e.g.- `cities[3:9]`  \n",
    "- etc..  \n",
    "\n",
    "### And string methods can be performed such as:\n",
    "- .isdigit()  \n",
    "- .isalpha()  \n",
    "- etc..."
   ]
  },
  {
   "cell_type": "markdown",
   "metadata": {},
   "source": [
    "### Examples\n",
    "Note: The examples expect that the cells that import have has been run.\n",
    "It may be necessary to run the cell to **import poem1.txt** at the beginning of this notebook."
   ]
  },
  {
   "cell_type": "code",
   "execution_count": 77,
   "metadata": {
    "collapsed": false
   },
   "outputs": [
    {
     "name": "stdout",
     "output_type": "stream",
     "text": [
      "LOOPS I REPEAT\n",
      "\n"
     ]
    }
   ],
   "source": [
    "# [ ] review and run example\n",
    "poem_file = open('poem1.txt', 'r')\n",
    "poem_part = poem_file.read(15).upper()\n",
    "print(poem_part)"
   ]
  },
  {
   "cell_type": "code",
   "execution_count": 78,
   "metadata": {
    "collapsed": false
   },
   "outputs": [
    {
     "name": "stdout",
     "output_type": "stream",
     "text": [
      "Loops\n",
      "\n"
     ]
    }
   ],
   "source": [
    "# [ ] review and run example\n",
    "poem_part = poem_file.read(6).title()\n",
    "print(poem_part)"
   ]
  },
  {
   "cell_type": "code",
   "execution_count": 79,
   "metadata": {
    "collapsed": false
   },
   "outputs": [
    {
     "name": "stdout",
     "output_type": "stream",
     "text": [
      "loops\n",
      "\n",
      "False isalpha() because of `\\n`\n"
     ]
    },
    {
     "data": {
      "text/plain": [
       "'loops\\n'"
      ]
     },
     "execution_count": 79,
     "metadata": {},
     "output_type": "execute_result"
    }
   ],
   "source": [
    "# [ ] review and run example\n",
    "poem_part = poem_file.read(6)\n",
    "print(poem_part)\n",
    "print(poem_part.isalpha(), \"isalpha() because of `\\\\n`\")\n",
    "poem_part"
   ]
  },
  {
   "cell_type": "code",
   "execution_count": 83,
   "metadata": {
    "collapsed": false
   },
   "outputs": [
    {
     "name": "stdout",
     "output_type": "stream",
     "text": [
      "repeat\n",
      "loops\n",
      "loops\n"
     ]
    }
   ],
   "source": [
    "# [ ] review and run example\n",
    "poem_file = open('poem1.txt', 'r')\n",
    "poem_text = poem_file.read()\n",
    "print(poem_text[8:26])"
   ]
  },
  {
   "cell_type": "markdown",
   "metadata": {},
   "source": [
    "## Task 4: City Initials\n",
    "### Read the file cities.text that was imported in Task 1\n",
    "1. Ensure the code was created and run in **Task 1** to import cities.txt  \n",
    "2. Create and run code to re-open cities.txt as cities_file  \n",
    "3. **`read()`** cities_file into a variable called cities  \n",
    "4. Iterate through the characters in cities \n",
    "  a. Test if .isupper(), if True append the character to a string variable: initials\n",
    "  c. Else if (elif) character is \"\\n\", if True append the \"\\n\" to initials  \n",
    "5. Print initials"
   ]
  },
  {
   "cell_type": "code",
   "execution_count": 101,
   "metadata": {
    "collapsed": false
   },
   "outputs": [
    {
     "data": {
      "text/plain": [
       "'Beijing\\nCairo\\nLondon\\nNairobi\\nNew York City\\nSydney\\nTokyo\\n'"
      ]
     },
     "execution_count": 101,
     "metadata": {},
     "output_type": "execute_result"
    }
   ],
   "source": [
    "# [ ] complete the task\n",
    "\n",
    "cities_file = open(\"cities.txt\", \"r\")\n",
    "cities = cities_file.read()\n",
    "cities \n",
    "\n"
   ]
  },
  {
   "cell_type": "code",
   "execution_count": 103,
   "metadata": {
    "collapsed": true
   },
   "outputs": [
    {
     "name": "stdout",
     "output_type": "stream",
     "text": [
      "B\n",
      "C\n",
      "L\n",
      "N\n",
      "NYC\n",
      "S\n",
      "T\n",
      "\n"
     ]
    }
   ],
   "source": [
    "initial = \"\"\n",
    "for city in cities:\n",
    "    if city.isupper():\n",
    "       initial += city\n",
    "    elif city == \"\\n\":\n",
    "        initial += city\n",
    "    else:\n",
    "        pass \n",
    "\n",
    "print(initial)"
   ]
  },
  {
   "cell_type": "markdown",
   "metadata": {
    "collapsed": true
   },
   "source": [
    "[Terms of use](http://go.microsoft.com/fwlink/?LinkID=206977) &nbsp; [Privacy & cookies](https://go.microsoft.com/fwlink/?LinkId=521839) &nbsp; © 2017 Microsoft"
   ]
  }
 ],
 "metadata": {
  "anaconda-cloud": {},
  "kernelspec": {
   "display_name": "Python 3",
   "language": "python",
   "name": "python3"
  },
  "language_info": {
   "codemirror_mode": {
    "name": "ipython",
    "version": 3
   },
   "file_extension": ".py",
   "mimetype": "text/x-python",
   "name": "python",
   "nbconvert_exporter": "python",
   "pygments_lexer": "ipython3",
   "version": "3.8.13"
  },
  "vscode": {
   "interpreter": {
    "hash": "9ac03a0a6051494cc606d484d27d20fce22fb7b4d169f583271e11d5ba46a56e"
   }
  }
 },
 "nbformat": 4,
 "nbformat_minor": 1
}
