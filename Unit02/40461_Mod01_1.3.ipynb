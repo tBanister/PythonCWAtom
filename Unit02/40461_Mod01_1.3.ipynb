{
  "cells": [
    {
      "cell_type": "markdown",
      "metadata": {},
      "source": [
        "# Section 1.3\n",
        "## Iterating Strings\n",
        "- Accessing string characters with index\n",
        "- Accessing substrings with index slicing\n",
        "- **Iterating through characters of a string**\n",
        "- More string methods\n",
        "\n",
        "----- \n",
        "\n",
        "### Student will be able to\n",
        "- Work with string characters\n",
        "- Slice strings into substrings\n",
        "- **Iterate through string characters**\n",
        "- Use string methods"
      ]
    },
    {
      "cell_type": "markdown",
      "metadata": {},
      "source": [
        "## Concept: Iterate a String by Character\n",
        "[![view video](https://iajupyterprodblobs.blob.core.windows.net/imagecontainer/common/play_video.png)]( http://edxinteractivepage.blob.core.windows.net/edxpages/f7cff1a7-5601-48a1-95a6-fd1fdfabd20e.html?details=[{\"src\":\"http://jupyternootbookwams.streaming.mediaservices.windows.net/edd3631b-bceb-45a1-82bb-addf532aba4d/Unit2_Section1.3a-Iterate_a_String.ism/manifest\",\"type\":\"application/vnd.ms-sstr+xml\"}],[{\"src\":\"http://jupyternootbookwams.streaming.mediaservices.windows.net/edd3631b-bceb-45a1-82bb-addf532aba4d/Unit2_Section1.3a-Iterate_a_String.vtt\",\"srclang\":\"en\",\"kind\":\"subtitles\",\"label\":\"english\"}])\n",
        "### `for letter in word:`\n",
        "Python provides powerful sequence iteration features.  Below, **`for letter in word:`** loops through each letter in *word*.\n",
        "\n",
        "```python\n",
        "word = \"cello\"\n",
        "\n",
        "for letter in word:\n",
        "    print(letter)\n",
        "```  \n",
        "\n",
        "The variable **`letter`** is an arbitrary variable name .  Any valid variable name can be used.\n"
      ]
    },
    {
      "cell_type": "markdown",
      "metadata": {},
      "source": [
        "### Examples"
      ]
    },
    {
      "cell_type": "code",
      "execution_count": 1,
      "metadata": {
        "trusted": false
      },
      "outputs": [
        {
          "name": "stdout",
          "output_type": "stream",
          "text": [
            "c\n",
            "e\n",
            "l\n",
            "l\n",
            "o\n"
          ]
        }
      ],
      "source": [
        "# [ ] review and run example\n",
        "word = \"cello\"\n",
        "\n",
        "for letter in word:\n",
        "    print(letter)"
      ]
    },
    {
      "cell_type": "code",
      "execution_count": 2,
      "metadata": {
        "trusted": false
      },
      "outputs": [
        {
          "name": "stdout",
          "output_type": "stream",
          "text": [
            "t\n",
            "r\n",
            "u\n",
            "m\n",
            "p\n",
            "e\n",
            "t\n"
          ]
        }
      ],
      "source": [
        "# [ ] review and run example\n",
        "# note: the variable 'letter' changed to 'item'\n",
        "word = \"trumpet\"\n",
        "\n",
        "for item in word:\n",
        "    print(item)"
      ]
    },
    {
      "cell_type": "code",
      "execution_count": 3,
      "metadata": {
        "trusted": false
      },
      "outputs": [
        {
          "name": "stdout",
          "output_type": "stream",
          "text": [
            "p\n",
            "i\n",
            "a\n",
            "n\n",
            "o\n"
          ]
        }
      ],
      "source": [
        "# [ ] review and run example\n",
        "# note: variable is now 'xyz' \n",
        "# using 'xyz', 'item' or 'letter' are all the same result\n",
        "word = \"piano\"\n",
        "\n",
        "for xyz in word:\n",
        "    print(xyz)"
      ]
    },
    {
      "cell_type": "code",
      "execution_count": 6,
      "metadata": {
        "trusted": false
      },
      "outputs": [
        {
          "name": "stdout",
          "output_type": "stream",
          "text": [
            "Skye to SkYe\n"
          ]
        }
      ],
      "source": [
        "# [ ] review and run example\n",
        "# creates a new string (new_name) adding a letter (ltr) each loop\n",
        "# Q?: how many times will the loop run?\n",
        "student_name = \"Skye\"\n",
        "new_name = \"\"\n",
        "\n",
        "for ltr in student_name:\n",
        "    if ltr.lower() == \"y\":\n",
        "        new_name += ltr.upper()\n",
        "    else:\n",
        "        new_name += ltr\n",
        "print(student_name,\"to\",new_name)"
      ]
    },
    {
      "cell_type": "markdown",
      "metadata": {
        "collapsed": true
      },
      "source": [
        "## Task 1: Iterate a String\n",
        "### One character at a time"
      ]
    },
    {
      "cell_type": "code",
      "execution_count": 2,
      "metadata": {
        "trusted": false
      },
      "outputs": [
        {
          "name": "stdout",
          "output_type": "stream",
          "text": [
            "T\n",
            "o\n",
            "m\n"
          ]
        }
      ],
      "source": [
        "# [ ] Get user input for first_name\n",
        "# [ ] iterate through letters in first_name \n",
        "#    - print each letter on a new line\n",
        "first_name = input(\"First Name?\").title()\n",
        "\n",
        "for l in first_name:\n",
        "    print(l)\n",
        "\n"
      ]
    },
    {
      "cell_type": "markdown",
      "metadata": {},
      "source": [
        "## Task 2 (Program): capitalize-io\n",
        "- Get user input for first_name\n",
        "- Create an empty string variable: new_name\n",
        "- Iterate through letters in first_name \n",
        "  - Add each letter in new_name\n",
        "  - Capitalize if letter is an \"i\" or \"o\" *(hint: if, elif, else)\n",
        "- Print new_name"
      ]
    },
    {
      "cell_type": "code",
      "execution_count": 3,
      "metadata": {
        "trusted": false
      },
      "outputs": [
        {
          "name": "stdout",
          "output_type": "stream",
          "text": [
            "thomas to thOmas\n"
          ]
        }
      ],
      "source": [
        "# [ ] Create capitalize-io\n",
        "first_name = input(\"First Name?\")\n",
        "new_name = \"\"\n",
        "\n",
        "for ltr in first_name:\n",
        "    if ltr.lower() == \"i\":\n",
        "        new_name += ltr.upper()\n",
        "    elif ltr.lower() == \"o\":\n",
        "        new_name += ltr.upper()\n",
        "    else:\n",
        "        new_name += ltr\n",
        "print(first_name,\"to\",new_name)\n"
      ]
    },
    {
      "cell_type": "markdown",
      "metadata": {},
      "source": [
        "## Concept: Iterate Substrings \n",
        "[![view video](https://iajupyterprodblobs.blob.core.windows.net/imagecontainer/common/play_video.png)]( http://edxinteractivepage.blob.core.windows.net/edxpages/f7cff1a7-5601-48a1-95a6-fd1fdfabd20e.html?details=[{\"src\":\"http://jupyternootbookwams.streaming.mediaservices.windows.net/257ed101-c530-406a-ba20-6d437d88e529/Unit2_Section1.3b-Iterate-Substrings.ism/manifest\",\"type\":\"application/vnd.ms-sstr+xml\"}],[{\"src\":\"http://jupyternootbookwams.streaming.mediaservices.windows.net/257ed101-c530-406a-ba20-6d437d88e529/Unit2_Section1.3b-Iterate-Substrings.vtt\",\"srclang\":\"en\",\"kind\":\"subtitles\",\"label\":\"english\"}])\n",
        "Combine string slicing and iteration:\n",
        "\n",
        "```python\n",
        "student_name = \"Skye\"\n",
        "\n",
        "for letter in student_name[:3]:\n",
        "    print(letter)\n",
        "```  \n",
        "\n",
        "Iterate backwards using: **`student_name[::-1]`**."
      ]
    },
    {
      "cell_type": "markdown",
      "metadata": {},
      "source": [
        "### Example"
      ]
    },
    {
      "cell_type": "code",
      "execution_count": 4,
      "metadata": {
        "trusted": false
      },
      "outputs": [
        {
          "name": "stdout",
          "output_type": "stream",
          "text": [
            "S\n",
            "k\n",
            "y\n"
          ]
        }
      ],
      "source": [
        "# [ ] review and run example\n",
        "student_name = \"Skye\"\n",
        "\n",
        "for letter in student_name[:3]:\n",
        "    print(letter)"
      ]
    },
    {
      "cell_type": "code",
      "execution_count": 5,
      "metadata": {
        "trusted": false
      },
      "outputs": [
        {
          "name": "stdout",
          "output_type": "stream",
          "text": [
            "y\n",
            "k\n",
            "S\n"
          ]
        }
      ],
      "source": [
        "# Iterate BACKWARDS\n",
        "# [ ] review and run example\n",
        "student_name = \"Skye\"\n",
        "\n",
        "# start at \"y\" (student_name[2]), iterate backwards\n",
        "for letter in student_name[2::-1]:\n",
        "    print(letter)"
      ]
    },
    {
      "cell_type": "markdown",
      "metadata": {
        "collapsed": true
      },
      "source": [
        "## Task 3: String slicing and iteration"
      ]
    },
    {
      "cell_type": "code",
      "execution_count": 8,
      "metadata": {
        "trusted": false
      },
      "outputs": [
        {
          "name": "stdout",
          "output_type": "stream",
          "text": [
            "j\n",
            "x\n",
            "a\n",
            "o\n",
            "i\n",
            "i\n",
            "n\n"
          ]
        }
      ],
      "source": [
        "# [ ] create & print a variable, other_word, made of every other letter in long_word\n",
        "long_word = \"juxtaposition\"\n",
        "\n",
        "other_word = long_word[::2]\n",
        "for l in other_word:\n",
        "    print(l)"
      ]
    },
    {
      "cell_type": "code",
      "execution_count": 11,
      "metadata": {
        "trusted": false
      },
      "outputs": [
        {
          "name": "stdout",
          "output_type": "stream",
          "text": [
            "eulBBlue\n"
          ]
        }
      ],
      "source": [
        "# Mirror Color\n",
        "# [ ] get user input, fav_color\n",
        "# [ ] print fav_color backwards + fav_color\n",
        "# example: \"Red\" prints \"deRRed\"\n",
        "fav_colour = input(\"Fav colour\").capitalize()\n",
        "print(fav_colour[::-1] + fav_colour)\n"
      ]
    },
    {
      "cell_type": "markdown",
      "metadata": {},
      "source": [
        "[Terms of use](http://go.microsoft.com/fwlink/?LinkID=206977) &nbsp; [Privacy & cookies](https://go.microsoft.com/fwlink/?LinkId=521839) &nbsp; © 2017 Microsoft"
      ]
    }
  ],
  "metadata": {
    "anaconda-cloud": {},
    "kernelspec": {
      "display_name": "Python 3",
      "language": "python",
      "name": "python3"
    },
    "language_info": {
      "codemirror_mode": {
        "name": "ipython",
        "version": 3
      },
      "file_extension": ".py",
      "mimetype": "text/x-python",
      "name": "python",
      "nbconvert_exporter": "python",
      "pygments_lexer": "ipython3",
      "version": "3.9.0"
    },
    "vscode": {
      "interpreter": {
        "hash": "11938c6bc6919ae2720b4d5011047913343b08a43b18698fd82dedb0d4417594"
      }
    }
  },
  "nbformat": 4,
  "nbformat_minor": 1
}
