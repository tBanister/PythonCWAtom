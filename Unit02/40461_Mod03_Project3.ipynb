{
 "cells": [
  {
   "cell_type": "markdown",
   "metadata": {},
   "source": [
    "\n",
    "#  Module 3 Project \n",
    "\n",
    "Course 40461: Introduction to Python, Unit 2\n",
    "\n",
    "This is an activity based on the Module 3 Lab, which you may have already completed.\n",
    "\n",
    "|  Assignment Requirements |  \n",
    "|:-------------------------------|  \n",
    "| **NOTE:** This program requires **`print`** output and using code syntax used in Module 3: **`if`**, **`input`**, **`def`**, **`return`**, **`for`**/**`in`** keywords, **`.lower()`** and **`.upper()`** method, **`.append`**, **`.pop`**, **`.split`** methods, **`range`** and **`len`** functions  |  \n",
    "\n",
    "## Program: Poem mixer  \n",
    "This program takes string input and then prints out a mixed order version of the string.    \n",
    "\n",
    "\n",
    "**Program Parts**  \n",
    "- **program flow** gathers the word list, modifies the case and order, and prints.      \n",
    "  - Get string input, input like a poem, verse or saying \n",
    "  - Split the string into a list of individual words  \n",
    "  - Determine the length of the list\n",
    "  - Loop the length of the list by index number and for each list index:  \n",
    "    - If a word is short (3 letters or less) make the word in the list lowercase \n",
    "    - If a word is long (7 letters or more) make the word in the list uppercase   \n",
    "  - **Call the word_mixer** function with the modified list  \n",
    "  - Print the return value from the word_mixer function  \n",
    "\n",
    "- **word_mixer** Function has one argument: an original list of string words, containing greater than five words, and the function returns a new list.\n",
    "  - Sort the original list  \n",
    "  - Create a new list  \n",
    "  - Loop while the list is longer than 5 words:  \n",
    "    - *In each loop pop a word from the sorted original list and append to the new list*  \n",
    "    - Pop the word 5th from the end of the list and append to the new list  \n",
    "    - Pop the first word in the list and append to the new list  \n",
    "    - Pop the last word in the list and append to the new list  \n",
    "  - **Return** the new list on exiting the loop\n",
    "\n",
    "\n",
    "\n",
    "![TODO: upload image to blob](https://qitcyg-ch3302.files.1drv.com/y4mtK8FJlu7bvNCw_NFrJNnMEX05-bGQKZ-ljIB7ofo8jg14zZKLdYrjXQfPcL1PnNKqaBc_v85pd-47J8BBRN3Eg5LXSmxbhZG99zHmQwVTSQBd6n3S1IXgcG0lqjA8PGW1NVMQyPtX-_m_sGry5j1iCJzjiZmUrFmGckPrEYxvjPIHHelgxQ4oVYG32S32otj0cdV8f9aDv3cnvb9AvDKqg?width=727&height=586&cropmode=none)\n",
    "\n",
    "\n",
    " **input example**  *(beginning of William Blake poem, \"The Fly\")*\n",
    "\n",
    " >enter a saying or poem: `Little fly, Thy summer’s play My thoughtless hand Has brushed away. Am not I A fly like thee? Or art not thou A man like me?`  \n",
    "\n",
    "\n",
    "**output example**   \n",
    ">`or BRUSHED thy not Little thou me? SUMMER’S thee? like THOUGHTLESS play i a not hand a my fly am man`\n",
    "\n",
    "\n",
    "**alternative output** in each loop in the function that creates the new list add a \"\\\\n\" to the list   \n",
    "```\n",
    " or BRUSHED thy \n",
    " not Little thou \n",
    " me? SUMMER’S thee? \n",
    " like THOUGHTLESS play \n",
    " i a not \n",
    " hand a my \n",
    " fly am man\n",
    "```\n",
    "\n"
   ]
  },
  {
   "cell_type": "code",
   "execution_count": 1,
   "metadata": {
    "collapsed": true
   },
   "outputs": [
    {
     "name": "stdout",
     "output_type": "stream",
     "text": [
      "or BRUSHED thy not Little thou me? SUMMER’S thee? like THOUGHTLESS play i a not hand a my fly am man\n"
     ]
    }
   ],
   "source": [
    "# [] create poem mixer\n",
    "joiner = \" \"\n",
    "#empty new list\n",
    "new_list = []\n",
    "#input phrase and split words by \" \" into a list\n",
    "phrase = input(\"type a long phrase\")\n",
    "words_list = phrase.split()\n",
    "# get length of list\n",
    "list_length = len(words_list)\n",
    "# loop index of word list\n",
    "count = 0\n",
    "\n",
    "while count < list_length:\n",
    "    for word in words_list:\n",
    "        # get word length -1 for index\n",
    "        word_index = words_list.index(word)\n",
    "    # changing of cases based on index length\n",
    "        if len(word) <= 3:\n",
    "            word = word.lower()\n",
    "            # change word in list to new case based on index\n",
    "            words_list[word_index] = word\n",
    "            count += 1\n",
    "        elif len(word) >= 7:\n",
    "            word = word.upper()\n",
    "            # change word in list to new case based on index \n",
    "            words_list[word_index] = word\n",
    "            count += 1\n",
    "        else:\n",
    "            count += 1\n",
    "            pass \n",
    "\n",
    "def word_mixer(w_list):\n",
    "    # sort list\n",
    "    w_list.sort()\n",
    "    # while length of list list greater than 5 words\n",
    "    while len(w_list) > 5:\n",
    "        # pop 5th from last word\n",
    "        popped5_word = w_list.pop(-5)\n",
    "        #add popped word to new list\n",
    "        new_list.append(popped5_word)\n",
    "        # pop 1st word\n",
    "        popped1_word = w_list.pop(0)\n",
    "        # add to new list\n",
    "        new_list.append(popped1_word)\n",
    "        # pop last word\n",
    "        lastpop = w_list.pop()\n",
    "        # add to new list\n",
    "        new_list.append(lastpop)\n",
    "    return new_list\n",
    "\n",
    "word_mixer(words_list)\n",
    "phrase = joiner.join(new_list)\n",
    "print(phrase)"
   ]
  },
  {
   "cell_type": "markdown",
   "metadata": {},
   "source": [
    "[Terms of use](http://go.microsoft.com/fwlink/?LinkID=206977) &nbsp; [Privacy & cookies](https://go.microsoft.com/fwlink/?LinkId=521839) &nbsp; © 2017 Microsoft"
   ]
  }
 ],
 "metadata": {
  "anaconda-cloud": {},
  "kernelspec": {
   "display_name": "Python 3",
   "language": "python",
   "name": "python3"
  },
  "language_info": {
   "codemirror_mode": {
    "name": "ipython",
    "version": 3
   },
   "file_extension": ".py",
   "mimetype": "text/x-python",
   "name": "python",
   "nbconvert_exporter": "python",
   "pygments_lexer": "ipython3",
   "version": "3.8.13 (default, Oct  4 2022, 14:00:32) \n[GCC 9.4.0]"
  },
  "vscode": {
   "interpreter": {
    "hash": "9ac03a0a6051494cc606d484d27d20fce22fb7b4d169f583271e11d5ba46a56e"
   }
  }
 },
 "nbformat": 4,
 "nbformat_minor": 0
}
