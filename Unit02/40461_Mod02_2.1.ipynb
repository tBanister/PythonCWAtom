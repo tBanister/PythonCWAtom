{
 "cells": [
  {
   "cell_type": "markdown",
   "metadata": {},
   "source": [
    "# Section 2.1\n",
    "## List Sequences\n",
    "- **List Creation**\n",
    "- **List Access**\n",
    "- List Append\n",
    "- List Insert\n",
    "- List Delete\n",
    "\n",
    "----- \n",
    "\n",
    "### Student will be able to\n",
    "- **Create lists**\n",
    "- **Access items in a list**\n",
    "- Add items to the end of a list\n",
    "- Modify and insert items into a list\n",
    "- Delete items from a list"
   ]
  },
  {
   "cell_type": "markdown",
   "metadata": {},
   "source": [
    "## Concept: Creating Lists\n",
    "[![view video](https://iajupyterprodblobs.blob.core.windows.net/imagecontainer/common/play_video.png)]( http://edxinteractivepage.blob.core.windows.net/edxpages/f7cff1a7-5601-48a1-95a6-fd1fdfabd20e.html?details=[{\"src\":\"http://jupyternootbookwams.streaming.mediaservices.windows.net/933c4e57-93ae-4660-8725-6eff3987dd1c/Unit2_Section2.1a-Creating_Lists.ism/manifest\",\"type\":\"application/vnd.ms-sstr+xml\"}],[{\"src\":\"http://jupyternootbookwams.streaming.mediaservices.windows.net/933c4e57-93ae-4660-8725-6eff3987dd1c/Unit2_Section2.1a-Creating_Lists.vtt\",\"srclang\":\"en\",\"kind\":\"subtitles\",\"label\":\"english\"}])\n",
    "A simple lists contains **comma separated** objects enclosed in **square brackets**.\n",
    "```python\n",
    "empty_list = [ ]\n",
    "sample_list = [1, 1, 2, 3, 3, 3, 3, 4, 5, 5, 5, 5, 5]\n",
    "```\n",
    "\n",
    "List object types are not restricted so a mix of object types can be in single list\n",
    "```python\n",
    "mixed_list = [1, 1, \"one\", \"two\", 2.0, sample_list, \"Hello World\"]\n",
    "```"
   ]
  },
  {
   "cell_type": "markdown",
   "metadata": {},
   "source": [
    "### Examples"
   ]
  },
  {
   "cell_type": "code",
   "execution_count": null,
   "metadata": {
    "collapsed": false
   },
   "outputs": [],
   "source": [
    "# [ ] review and run example\n",
    "# define list of strings\n",
    "ft_bones = [\"calcaneus\", \"talus\", \"cuboid\", \"navicular\", \"lateral cuneiform\", \"intermediate cuneiform\", \"medial cuneiform\"]\n",
    "\n",
    "# display type information\n",
    "print(\"ft_bones: \", type(ft_bones))\n",
    "\n",
    "# print the list\n",
    "print(ft_bones)"
   ]
  },
  {
   "cell_type": "code",
   "execution_count": null,
   "metadata": {
    "collapsed": false
   },
   "outputs": [],
   "source": [
    "# [ ] review and run example\n",
    "# define list of integers\n",
    "age_survey = [12, 14, 12, 29, 12, 14, 12, 12, 13, 12, 14, 13, 13, 46, 13, 12, 12, 13, 13, 12, 12]\n",
    "\n",
    "# display type information\n",
    "print(\"age_survey: \", type(age_survey))\n",
    "\n",
    "# print the list\n",
    "print(age_survey)"
   ]
  },
  {
   "cell_type": "code",
   "execution_count": null,
   "metadata": {
    "collapsed": false
   },
   "outputs": [],
   "source": [
    "# [ ] review and run example\n",
    "# define list of mixed data type\n",
    "mixed_list = [1, 34, 0.999, \"dog\", \"cat\", ft_bones, age_survey]\n",
    "\n",
    "# display type information\n",
    "print(\"mixed_list: \", type(mixed_list))\n",
    "\n",
    "# print the list\n",
    "print(mixed_list)"
   ]
  },
  {
   "cell_type": "markdown",
   "metadata": {
    "collapsed": true
   },
   "source": [
    "## Task 1: Create Lists"
   ]
  },
  {
   "cell_type": "code",
   "execution_count": null,
   "metadata": {
    "collapsed": false
   },
   "outputs": [],
   "source": [
    "# [ ] create team_names list and populate with 3-5 team name strings\n",
    "\n",
    "# [ ] print the list\n",
    "\n"
   ]
  },
  {
   "cell_type": "code",
   "execution_count": null,
   "metadata": {
    "collapsed": false
   },
   "outputs": [],
   "source": [
    "# [ ] Create a list mix_list with numbers and strings with 4-6 items\n",
    "\n",
    "# [ ] print the list\n",
    "\n"
   ]
  },
  {
   "cell_type": "markdown",
   "metadata": {},
   "source": [
    "## Concept: List Access \n",
    "[![view video](https://iajupyterprodblobs.blob.core.windows.net/imagecontainer/common/play_video.png)]( http://edxinteractivepage.blob.core.windows.net/edxpages/f7cff1a7-5601-48a1-95a6-fd1fdfabd20e.html?details=[{\"src\":\"http://jupyternootbookwams.streaming.mediaservices.windows.net/efc23682-3b15-4c73-afe0-77067fac2769/Unit2_Section2.1b-Accessing_Lists.ism/manifest\",\"type\":\"application/vnd.ms-sstr+xml\"}],[{\"src\":\"http://jupyternootbookwams.streaming.mediaservices.windows.net/efc23682-3b15-4c73-afe0-77067fac2769/Unit2_Section2.1b-Accessing_Lists.vtt\",\"srclang\":\"en\",\"kind\":\"subtitles\",\"label\":\"english\"}])\n",
    "### Counting like a computer\n",
    "#### To access a list we need to count like a computer, and that means starting with zero (0)\n",
    "Lists give an **index** number to each list item.\n",
    "\n",
    "- first element in a list is index 0\n",
    "- second element in a list is index 1\n",
    "\n",
    "To access the first item in a list use the list name, followed by square brackets containing the index number.\n",
    "```python\n",
    "age_survey[0]\n",
    "```\n"
   ]
  },
  {
   "cell_type": "markdown",
   "metadata": {},
   "source": [
    "### Examples\n",
    "\n",
    "|run previous examples before running the examples below|\n",
    "|-----------------------------------------------------------|\n"
   ]
  },
  {
   "cell_type": "code",
   "execution_count": null,
   "metadata": {
    "collapsed": false
   },
   "outputs": [],
   "source": [
    "# [ ] review and run example\n",
    "print(ft_bones[0], \"is the 1st bone on the list\")\n",
    "print(ft_bones[2], \"is the 3rd bone on the list\")\n",
    "print(ft_bones[-1], \"is the last bone on the list\")"
   ]
  },
  {
   "cell_type": "code",
   "execution_count": null,
   "metadata": {
    "collapsed": false
   },
   "outputs": [],
   "source": [
    "# [ ] review and run example\n",
    "print(ft_bones[1], \"is connected to the\",ft_bones[3])"
   ]
  },
  {
   "cell_type": "code",
   "execution_count": null,
   "metadata": {
    "collapsed": false
   },
   "outputs": [],
   "source": [
    "# [ ] review and run example\n",
    "three_ages_sum = age_survey[0] + age_survey[1] + age_survey[2]\n",
    "print(\"The first three ages total\", three_ages_sum)"
   ]
  },
  {
   "cell_type": "markdown",
   "metadata": {
    "collapsed": true
   },
   "source": [
    "## Task 2"
   ]
  },
  {
   "cell_type": "code",
   "execution_count": null,
   "metadata": {
    "collapsed": false
   },
   "outputs": [],
   "source": [
    "# [ ] Create a list, streets, that lists the name of 5 street name strings\n",
    "\n",
    "# [ ] print a message that there is \"No Parking\" on index 0 or index 4 streets\n",
    "\n"
   ]
  },
  {
   "cell_type": "code",
   "execution_count": null,
   "metadata": {
    "collapsed": false
   },
   "outputs": [],
   "source": [
    "# [ ] Create a list, num_2_add, made of 5 different numbers between 0 - 25\n",
    "\n",
    "# [ ] print the sum of the numbers\n",
    "\n"
   ]
  },
  {
   "cell_type": "markdown",
   "metadata": {
    "collapsed": true
   },
   "source": [
    "## Task 3: Fix the errors"
   ]
  },
  {
   "cell_type": "code",
   "execution_count": null,
   "metadata": {
    "collapsed": false
   },
   "outputs": [],
   "source": [
    "# [ ] Review & Run, but ***Do Not Edit*** this code cell\n",
    "# [ ] Fix the error by only editing and running the block below\n",
    "\n",
    "print(\" Total of checks 3 & 4 = $\", pay_checks[2] + pay_checks[3])\n"
   ]
  },
  {
   "cell_type": "code",
   "execution_count": null,
   "metadata": {
    "collapsed": false
   },
   "outputs": [],
   "source": [
    "# [ ] Fix the error above by creating and running code in this cell\n",
    "\n"
   ]
  },
  {
   "cell_type": "markdown",
   "metadata": {},
   "source": [
    "[Terms of use](http://go.microsoft.com/fwlink/?LinkID=206977) &nbsp; [Privacy & cookies](https://go.microsoft.com/fwlink/?LinkId=521839) &nbsp; © 2017 Microsoft"
   ]
  }
 ],
 "metadata": {
  "anaconda-cloud": {},
  "kernelspec": {
   "display_name": "Python 3",
   "language": "python",
   "name": "python3"
  },
  "language_info": {
   "codemirror_mode": {
    "name": "ipython",
    "version": 3
   },
   "file_extension": ".py",
   "mimetype": "text/x-python",
   "name": "python",
   "nbconvert_exporter": "python",
   "pygments_lexer": "ipython3",
   "version": "3.9.0 (tags/v3.9.0:9cf6752, Oct  5 2020, 15:34:40) [MSC v.1927 64 bit (AMD64)]"
  },
  "vscode": {
   "interpreter": {
    "hash": "11938c6bc6919ae2720b4d5011047913343b08a43b18698fd82dedb0d4417594"
   }
  }
 },
 "nbformat": 4,
 "nbformat_minor": 1
}
