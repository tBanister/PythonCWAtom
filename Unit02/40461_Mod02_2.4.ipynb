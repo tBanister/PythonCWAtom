{
  "cells": [
    {
      "cell_type": "markdown",
      "metadata": {},
      "source": [
        "# Section 2.4\n",
        "## List Delete\n",
        "- List Creation\n",
        "- List Access\n",
        "- List Append\n",
        "- List Insert\n",
        "- **List Delete (`del`, `.pop()` and `.remove()`)**\n",
        "\n",
        "----- \n",
        "\n",
        "### Student will be able to\n",
        "\n",
        "- Create lists\n",
        "- Access items in a list\n",
        "- Add items to the end of a list\n",
        "- Modify and insert items into a list\n",
        "- **Delete items from a list with `del`, `.pop()` & `.remove()`**"
      ]
    },
    {
      "cell_type": "markdown",
      "metadata": {},
      "source": [
        "## Concept: Delete a specific list index\n",
        "[![view video](https://iajupyterprodblobs.blob.core.windows.net/imagecontainer/common/play_video.png)]( http://edxinteractivepage.blob.core.windows.net/edxpages/f7cff1a7-5601-48a1-95a6-fd1fdfabd20e.html?details=[{\"src\":\"http://jupyternootbookwams.streaming.mediaservices.windows.net/072d8761-7811-438e-a77f-72c9634c0f8c/Unit2_Section2.4a-Deleting_Specific_Index.ism/manifest\",\"type\":\"application/vnd.ms-sstr+xml\"}],[{\"src\":\"http://jupyternootbookwams.streaming.mediaservices.windows.net/072d8761-7811-438e-a77f-72c9634c0f8c/Unit2_Section2.4a-Deleting_Specific_Index.vtt\",\"srclang\":\"en\",\"kind\":\"subtitles\",\"label\":\"english\"}])\n",
        "### `del ` statement  \n",
        "```python\n",
        "del party_list[2]\n",
        "```"
      ]
    },
    {
      "cell_type": "markdown",
      "metadata": {},
      "source": [
        "### Examples"
      ]
    },
    {
      "cell_type": "code",
      "execution_count": 1,
      "metadata": {
        "trusted": false
      },
      "outputs": [
        {
          "name": "stdout",
          "output_type": "stream",
          "text": [
            "sample_list before:  [11, 21, 13, 14, 51, 161, 117, 181]\n",
            "sample_list after:   [11, 13, 14, 51, 161, 117, 181]\n"
          ]
        }
      ],
      "source": [
        "# [ ] review and run example\n",
        "# the list before delete\n",
        "sample_list = [11, 21, 13, 14, 51, 161, 117, 181]\n",
        "print(\"sample_list before: \", sample_list)\n",
        "\n",
        "del sample_list[1]\n",
        "# the list after delete\n",
        "print(\"sample_list after:  \", sample_list)"
      ]
    },
    {
      "cell_type": "code",
      "execution_count": 2,
      "metadata": {
        "trusted": false
      },
      "outputs": [
        {
          "name": "stdout",
          "output_type": "stream",
          "text": [
            "sample_list before: [11, 13, 14, 51, 161, 117, 181]\n",
            "sample_list after: [13, 14, 51, 161, 117, 181]\n"
          ]
        }
      ],
      "source": [
        "# [ ] review and run example Multiple Times\n",
        "# [ ] consider how to reset the list values?\n",
        "print(\"sample_list before:\", sample_list)\n",
        "del sample_list[0]\n",
        "print(\"sample_list after:\", sample_list)"
      ]
    },
    {
      "cell_type": "code",
      "execution_count": 3,
      "metadata": {
        "trusted": false
      },
      "outputs": [
        {
          "name": "stdout",
          "output_type": "stream",
          "text": [
            "mixed_types list:  [1, 'cat', 3]\n",
            "mixed_types list:  [1, 'cat', 3, 'turtle']\n"
          ]
        }
      ],
      "source": [
        "# [ ] review and run example\n",
        "mixed_types = [1, \"cat\"]\n",
        "# append number\n",
        "mixed_types.append(3)\n",
        "print(\"mixed_types list: \", mixed_types)\n",
        "\n",
        "# append string\n",
        "mixed_types.append(\"turtle\")\n",
        "print(\"mixed_types list: \", mixed_types)"
      ]
    },
    {
      "cell_type": "markdown",
      "metadata": {
        "collapsed": true
      },
      "source": [
        "## Task 1: `del` statement"
      ]
    },
    {
      "cell_type": "code",
      "execution_count": 5,
      "metadata": {
        "trusted": false
      },
      "outputs": [
        {
          "name": "stdout",
          "output_type": "stream",
          "text": [
            "['calcaneus', 'talus', 'navicular', 'lateral cuneiform', 'intermediate cuneiform', 'medial cuneiform']\n"
          ]
        }
      ],
      "source": [
        "# [ ] print ft_bones list\n",
        "# [ ] delete \"cuboid\" from ft_bones\n",
        "# [ ] reprint list\n",
        "ft_bones = [\"calcaneus\", \"talus\", \"cuboid\", \"navicular\", \"lateral cuneiform\", \n",
        "            \"intermediate cuneiform\", \"medial cuneiform\"]\n",
        "\n",
        "del ft_bones[2]\n",
        "print(ft_bones)\n"
      ]
    },
    {
      "cell_type": "markdown",
      "metadata": {},
      "source": [
        "## Task 2: Multiple `del` statements "
      ]
    },
    {
      "cell_type": "code",
      "execution_count": 7,
      "metadata": {
        "trusted": false
      },
      "outputs": [
        {
          "name": "stdout",
          "output_type": "stream",
          "text": [
            "['calcaneus', 'talus', 'cuboid', 'navicular', 'lateral cuneiform', 'intermediate cuneiform', 'medial cuneiform']\n",
            "['calcaneus', 'talus', 'lateral cuneiform', 'intermediate cuneiform', 'medial cuneiform']\n"
          ]
        }
      ],
      "source": [
        "# [ ] print ft_bones list\n",
        "# [ ] delete \"cuboid\" from ft_bones\n",
        "# [ ] delete \"navicular\" from list\n",
        "# [ ] reprint list\n",
        "# [ ] check for deletion of \"cuboid\" and \"navicular\"\n",
        "ft_bones = [\"calcaneus\", \"talus\", \"cuboid\", \"navicular\", \"lateral cuneiform\", \n",
        "            \"intermediate cuneiform\", \"medial cuneiform\"]\n",
        "\n",
        "print(ft_bones)\n",
        "del ft_bones[2]\n",
        "del ft_bones[2]\n",
        "print(ft_bones)"
      ]
    },
    {
      "cell_type": "markdown",
      "metadata": {},
      "source": [
        "## Concept: .pop() gets and deletes item in list\n",
        "[![view video](https://iajupyterprodblobs.blob.core.windows.net/imagecontainer/common/play_video.png)]( http://edxinteractivepage.blob.core.windows.net/edxpages/f7cff1a7-5601-48a1-95a6-fd1fdfabd20e.html?details=[{\"src\":\"http://jupyternootbookwams.streaming.mediaservices.windows.net/67b83f30-a92c-4d1f-a7a3-ca257dd4db4e/Unit2_Section2.4b-List_Pop_Method.ism/manifest\",\"type\":\"application/vnd.ms-sstr+xml\"}],[{\"src\":\"http://jupyternootbookwams.streaming.mediaservices.windows.net/67b83f30-a92c-4d1f-a7a3-ca257dd4db4e/Unit2_Section2.4b-List_Pop_Method.vtt\",\"srclang\":\"en\",\"kind\":\"subtitles\",\"label\":\"english\"}])\n",
        "### `.pop()`  method default is last item in a list\n",
        "```python\n",
        "last_item = party_list.pop()\n",
        "first_item = party_list.pop(0)\n",
        "```"
      ]
    },
    {
      "cell_type": "markdown",
      "metadata": {},
      "source": [
        "### Examples"
      ]
    },
    {
      "cell_type": "code",
      "execution_count": 8,
      "metadata": {
        "trusted": false
      },
      "outputs": [
        {
          "name": "stdout",
          "output_type": "stream",
          "text": [
            "['Joana', 'Alton', 'Tobias']\n",
            "Hello, Tobias\n",
            "\n",
            " ['Joana', 'Alton']\n",
            "Hello, Alton\n",
            "\n",
            " ['Joana']\n",
            "Hello, Joana\n",
            "\n",
            " []\n"
          ]
        }
      ],
      "source": [
        "# [ ] review and run example\n",
        "# pop() gets the last item by default\n",
        "party_list = [\"Joana\", \"Alton\", \"Tobias\"]\n",
        "print(party_list)\n",
        "print(\"Hello,\", party_list.pop())\n",
        "\n",
        "print(\"\\n\", party_list)\n",
        "print(\"Hello,\", party_list.pop())\n",
        "\n",
        "print(\"\\n\", party_list)\n",
        "print(\"Hello,\", party_list.pop())\n",
        "\n",
        "print(\"\\n\", party_list)"
      ]
    },
    {
      "cell_type": "code",
      "execution_count": 3,
      "metadata": {
        "trusted": false
      },
      "outputs": [
        {
          "name": "stdout",
          "output_type": "stream",
          "text": [
            "before: [11, 21, 13, 14, 51, 161, 117, 181]\n",
            "after : [21, 13, 14, 51, 161, 117, 181]\n"
          ]
        }
      ],
      "source": [
        "# [ ] review and run example\n",
        "# can pop specific index like pop(3)\n",
        "number_list = [11, 21, 13, 14, 51, 161, 117, 181]\n",
        "print(\"before:\", number_list)\n",
        "number_list.pop(0)\n",
        "print(\"after :\", number_list)\n"
      ]
    },
    {
      "cell_type": "code",
      "execution_count": 10,
      "metadata": {
        "trusted": true
      },
      "outputs": [
        {
          "name": "stdout",
          "output_type": "stream",
          "text": [
            "list before: [11, 21, 13, 14, 51, 161, 117, 181]\n",
            "list after : [11, 21, 13, 14, 51, 161]\n",
            "add the popped values: 181 + 117 = 298\n"
          ]
        }
      ],
      "source": [
        "# [ ] review and run example\n",
        "# set a variable to a poped value\n",
        "number_list = [11, 21, 13, 14, 51, 161, 117, 181]\n",
        "print(\"list before:\", number_list)\n",
        "num_1 = number_list.pop()\n",
        "num_2 = number_list.pop()\n",
        "print(\"list after :\", number_list)\n",
        "print(\"add the popped values:\", num_1, \"+\", num_2, \"=\", num_1 + num_2)"
      ]
    },
    {
      "cell_type": "markdown",
      "metadata": {
        "collapsed": true
      },
      "source": [
        "## Task 3: `pop()`"
      ]
    },
    {
      "cell_type": "code",
      "execution_count": 14,
      "metadata": {
        "trusted": false
      },
      "outputs": [
        {
          "name": "stdout",
          "output_type": "stream",
          "text": [
            "calcaneus\n",
            "medial cuneiform\n",
            "['talus', 'cuboid', 'navicular', 'lateral cuneiform', 'intermediate cuneiform']\n"
          ]
        }
      ],
      "source": [
        "# [ ] pop() and print the first and last items from the ft_bones list\n",
        "ft_bones = [\"calcaneus\", \"talus\", \"cuboid\", \"navicular\", \"lateral cuneiform\", \n",
        "            \"intermediate cuneiform\", \"medial cuneiform\"]\n",
        "\n",
        "print(ft_bones.pop(0))\n",
        "print(ft_bones.pop())\n",
        "\n",
        "# [ ] print the remaining list\n",
        "print(ft_bones)\n"
      ]
    },
    {
      "cell_type": "markdown",
      "metadata": {},
      "source": [
        "## Concept: An empty list is False\n",
        "[![view video](https://iajupyterprodblobs.blob.core.windows.net/imagecontainer/common/play_video.png)]( http://edxinteractivepage.blob.core.windows.net/edxpages/f7cff1a7-5601-48a1-95a6-fd1fdfabd20e.html?details=[{\"src\":\"http://jupyternootbookwams.streaming.mediaservices.windows.net/20e00a13-a9d2-4a35-b75d-f6533fa15cbd/Unit2_Section2.4c-Empty_List_is_False.ism/manifest\",\"type\":\"application/vnd.ms-sstr+xml\"}],[{\"src\":\"http://jupyternootbookwams.streaming.mediaservices.windows.net/20e00a13-a9d2-4a35-b75d-f6533fa15cbd/Unit2_Section2.4c-Empty_List_is_False.vtt\",\"srclang\":\"en\",\"kind\":\"subtitles\",\"label\":\"english\"}])\n",
        "### in a conditional an empty list will evaluate `False`\n",
        "This allows creating a while loop that runs until a list is empty\n",
        "```python\n",
        "while dog_types: \n",
        "```"
      ]
    },
    {
      "cell_type": "markdown",
      "metadata": {},
      "source": [
        "### Example"
      ]
    },
    {
      "cell_type": "code",
      "execution_count": 18,
      "metadata": {
        "trusted": false
      },
      "outputs": [
        {
          "name": "stdout",
          "output_type": "stream",
          "text": [
            "Poodle\n",
            "Pug\n",
            "Lab\n"
          ]
        }
      ],
      "source": [
        "dog_types = [\"Lab\", \"Pug\", \"Poodle\"]\n",
        "\n",
        "while dog_types: \n",
        "    print(dog_types.pop())"
      ]
    },
    {
      "cell_type": "markdown",
      "metadata": {},
      "source": [
        "## Task 4 (Part 1): Cash Register Input\n",
        "- Create a empty list `purchase_amounts`\n",
        "- Populate the list with user input for the price of items\n",
        "- Continue adding to list with `while` until \"done\" is entered\n",
        "  - Can use `while True:` with `break`\n",
        "- Print `purchase_amounts`\n",
        "- Continue to Part 2"
      ]
    },
    {
      "cell_type": "code",
      "execution_count": 26,
      "metadata": {
        "trusted": false
      },
      "outputs": [
        {
          "name": "stdout",
          "output_type": "stream",
          "text": [
            "[1, 2, 3, 4]\n"
          ]
        }
      ],
      "source": [
        "#[ ] complete the Register Input task above\n",
        "purchase_amounts = []\n",
        "while True:\n",
        "    amount = input(\"amount.. 'done' to stop\")\n",
        "    if amount.isdigit():\n",
        "        purchase_amounts.append(int(amount))\n",
        "    elif amount.lower() == \"done\":\n",
        "        break\n",
        "    else:\n",
        "        print(\"numbers only\")\n",
        "print(purchase_amounts)"
      ]
    },
    {
      "cell_type": "markdown",
      "metadata": {},
      "source": [
        "## Task 4 (Part 2): Cash Register Total\n",
        "- Create a **`subtotal`** variable = 0\n",
        "- Create a while loop that runs **`while`** purchase_amount (is not empty)\n",
        "- Inside the loop: \n",
        "  - **`pop()`** the last list value cast as a float type\n",
        "  - Add the float value to a **`subtotal`** variable\n",
        "- After exiting the loop print **`subtotal`**  \n",
        "  \n",
        "  *Be sure to populate purchase_amounts by running Part 1 above.*"
      ]
    },
    {
      "cell_type": "code",
      "execution_count": 31,
      "metadata": {
        "trusted": false
      },
      "outputs": [
        {
          "name": "stdout",
          "output_type": "stream",
          "text": [
            "numbers only\n",
            "[1, 2, 3, 4, 5, 6, 7, 4436, 4, 32, 5, 7, 8]\n",
            "Amount taken: 8.0 New subtotal is: 8.0\n",
            "Amount taken: 7.0 New subtotal is: 15.0\n",
            "Amount taken: 5.0 New subtotal is: 20.0\n",
            "Amount taken: 32.0 New subtotal is: 52.0\n",
            "Amount taken: 4.0 New subtotal is: 56.0\n",
            "Amount taken: 4436.0 New subtotal is: 4492.0\n",
            "Amount taken: 7.0 New subtotal is: 4499.0\n",
            "Amount taken: 6.0 New subtotal is: 4505.0\n",
            "Amount taken: 5.0 New subtotal is: 4510.0\n",
            "Amount taken: 4.0 New subtotal is: 4514.0\n",
            "Amount taken: 3.0 New subtotal is: 4517.0\n",
            "Amount taken: 2.0 New subtotal is: 4519.0\n",
            "Amount taken: 1.0 New subtotal is: 4520.0\n",
            "Total: 4520.0\n"
          ]
        }
      ],
      "source": [
        "# [ ] complete the Register Total task above\n",
        "purchase_amounts = []\n",
        "while True:\n",
        "    amount = input(\"amount.. 'done' to stop\")\n",
        "    if amount.isdigit():\n",
        "        purchase_amounts.append(int(amount))\n",
        "    elif amount.lower() == \"done\":\n",
        "        break\n",
        "    else:\n",
        "        print(\"numbers only\")\n",
        "print(purchase_amounts)\n",
        "\n",
        "subtotal = 0 \n",
        "while purchase_amounts:\n",
        "    popp = float(purchase_amounts.pop())\n",
        "    subtotal += popp\n",
        "    print(\"Amount taken:\", popp, \"New subtotal is:\", subtotal)\n",
        "print(\"Total:\", subtotal)"
      ]
    },
    {
      "cell_type": "markdown",
      "metadata": {},
      "source": [
        "## Concept: Delete a specific object from a list with `.remove()`\n",
        "[![view video](https://iajupyterprodblobs.blob.core.windows.net/imagecontainer/common/play_video.png)]( http://edxinteractivepage.blob.core.windows.net/edxpages/f7cff1a7-5601-48a1-95a6-fd1fdfabd20e.html?details=[{\"src\":\"http://jupyternootbookwams.streaming.mediaservices.windows.net/31fadf38-670c-4ba9-aa68-1934db459c4d/Unit2_Section2.4d-Removing_Object_from_List.ism/manifest\",\"type\":\"application/vnd.ms-sstr+xml\"}],[{\"src\":\"http://jupyternootbookwams.streaming.mediaservices.windows.net/31fadf38-670c-4ba9-aa68-1934db459c4d/Unit2_Section2.4d-Removing_Object_from_List.vtt\",\"srclang\":\"en\",\"kind\":\"subtitles\",\"label\":\"english\"}])\n",
        "### `.remove(object)` removes the 1st item that matches\n",
        "\n",
        "```python\n",
        "dog_types.remove(\"Pug\")\n",
        "```\n",
        ">**`ValueError`** occurs if the object is not available to be removed.  "
      ]
    },
    {
      "cell_type": "markdown",
      "metadata": {},
      "source": [
        "### Examples"
      ]
    },
    {
      "cell_type": "code",
      "execution_count": 35,
      "metadata": {
        "trusted": false
      },
      "outputs": [
        {
          "name": "stdout",
          "output_type": "stream",
          "text": [
            "['Lab', 'Poodle']\n"
          ]
        }
      ],
      "source": [
        "# [ ] review and run example\n",
        "dog_types = [\"Lab\", \"Pug\", \"Poodle\"]\n",
        "\n",
        "if \"Pug\" in dog_types:\n",
        "    dog_types.remove(\"Pug\")\n",
        "else:\n",
        "    print(\"no Pug found\")\n",
        "print(dog_types)"
      ]
    },
    {
      "cell_type": "code",
      "execution_count": 36,
      "metadata": {
        "trusted": false
      },
      "outputs": [
        {
          "name": "stdout",
          "output_type": "stream",
          "text": [
            "['Lab', 'Pug', 'Poodle', 'Poodle', 'Pug', 'Poodle']\n",
            "['Lab', 'Pug', 'Poodle', 'Pug', 'Poodle']\n",
            "['Lab', 'Pug', 'Pug', 'Poodle']\n",
            "['Lab', 'Pug', 'Pug']\n"
          ]
        }
      ],
      "source": [
        "# [ ] review and run example\n",
        "dogs = [\"Lab\", \"Pug\", \"Poodle\", \"Poodle\", \"Pug\", \"Poodle\"]\n",
        "\n",
        "print(dogs)\n",
        "while \"Poodle\" in dogs:\n",
        "    dogs.remove(\"Poodle\")\n",
        "    print(dogs)"
      ]
    },
    {
      "cell_type": "markdown",
      "metadata": {},
      "source": [
        "### ValueError"
      ]
    },
    {
      "cell_type": "code",
      "execution_count": 37,
      "metadata": {
        "trusted": false
      },
      "outputs": [
        {
          "ename": "ValueError",
          "evalue": "list.remove(x): x not in list",
          "output_type": "error",
          "traceback": [
            "\u001b[0;31m---------------------------------------------------------------------------\u001b[0m",
            "\u001b[0;31mValueError\u001b[0m                                Traceback (most recent call last)",
            "Cell \u001b[0;32mIn [37], line 3\u001b[0m\n\u001b[1;32m      1\u001b[0m \u001b[39m# [ ] review and run example\u001b[39;00m\n\u001b[1;32m      2\u001b[0m \u001b[39m# Change to \"Lab\", etc... to fix error\u001b[39;00m\n\u001b[0;32m----> 3\u001b[0m dogs\u001b[39m.\u001b[39mremove(\u001b[39m\"\u001b[39m\u001b[39mCollie\u001b[39m\u001b[39m\"\u001b[39m)\n\u001b[1;32m      4\u001b[0m \u001b[39mprint\u001b[39m(dogs)\n",
            "\u001b[0;31mValueError\u001b[0m: list.remove(x): x not in list"
          ]
        }
      ],
      "source": [
        "# [ ] review and run example\n",
        "# Change to \"Lab\", etc... to fix error\n",
        "dogs.remove(\"Collie\")\n",
        "print(dogs)"
      ]
    },
    {
      "cell_type": "markdown",
      "metadata": {
        "collapsed": true
      },
      "source": [
        "## Task 3: `.remove()`"
      ]
    },
    {
      "cell_type": "code",
      "execution_count": 38,
      "metadata": {
        "trusted": false
      },
      "outputs": [
        {
          "name": "stdout",
          "output_type": "stream",
          "text": [
            "['Lab', 'Pug', 'Poodle', 'Pug', 'Poodle']\n"
          ]
        }
      ],
      "source": [
        "# [ ] remove one \"Poodle\" from the list: dogs , or print \"no Poodle found\"\n",
        "# [ ] print list before and after\n",
        "dogs = [\"Lab\", \"Pug\", \"Poodle\", \"Poodle\", \"Pug\", \"Poodle\"]\n",
        "\n",
        "dogs.remove(\"Poodle\")\n",
        "print(dogs)"
      ]
    },
    {
      "cell_type": "markdown",
      "metadata": {},
      "source": [
        "[Terms of use](http://go.microsoft.com/fwlink/?LinkID=206977) &nbsp; [Privacy & cookies](https://go.microsoft.com/fwlink/?LinkId=521839) &nbsp; © 2017 Microsoft"
      ]
    }
  ],
  "metadata": {
    "anaconda-cloud": {},
    "kernelspec": {
      "display_name": "Python 3",
      "language": "python",
      "name": "python3"
    },
    "language_info": {
      "codemirror_mode": {
        "name": "ipython",
        "version": 3
      },
      "file_extension": ".py",
      "mimetype": "text/x-python",
      "name": "python",
      "nbconvert_exporter": "python",
      "pygments_lexer": "ipython3",
      "version": "3.8.13"
    },
    "vscode": {
      "interpreter": {
        "hash": "9ac03a0a6051494cc606d484d27d20fce22fb7b4d169f583271e11d5ba46a56e"
      }
    }
  },
  "nbformat": 4,
  "nbformat_minor": 1
}
