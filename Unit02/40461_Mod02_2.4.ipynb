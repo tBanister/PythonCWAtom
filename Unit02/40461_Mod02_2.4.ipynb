{
  "cells": [
    {
      "cell_type": "markdown",
      "metadata": {},
      "source": [
        "# Section 2.4\n",
        "## List Delete\n",
        "- List Creation\n",
        "- List Access\n",
        "- List Append\n",
        "- List Insert\n",
        "- **List Delete (`del`, `.pop()` and `.remove()`)**\n",
        "\n",
        "----- \n",
        "\n",
        "### Student will be able to\n",
        "\n",
        "- Create lists\n",
        "- Access items in a list\n",
        "- Add items to the end of a list\n",
        "- Modify and insert items into a list\n",
        "- **Delete items from a list with `del`, `.pop()` & `.remove()`**"
      ]
    },
    {
      "cell_type": "markdown",
      "metadata": {},
      "source": [
        "## Concept: Delete a specific list index\n",
        "[![view video](https://iajupyterprodblobs.blob.core.windows.net/imagecontainer/common/play_video.png)]( http://edxinteractivepage.blob.core.windows.net/edxpages/f7cff1a7-5601-48a1-95a6-fd1fdfabd20e.html?details=[{\"src\":\"http://jupyternootbookwams.streaming.mediaservices.windows.net/072d8761-7811-438e-a77f-72c9634c0f8c/Unit2_Section2.4a-Deleting_Specific_Index.ism/manifest\",\"type\":\"application/vnd.ms-sstr+xml\"}],[{\"src\":\"http://jupyternootbookwams.streaming.mediaservices.windows.net/072d8761-7811-438e-a77f-72c9634c0f8c/Unit2_Section2.4a-Deleting_Specific_Index.vtt\",\"srclang\":\"en\",\"kind\":\"subtitles\",\"label\":\"english\"}])\n",
        "### `del ` statement  \n",
        "```python\n",
        "del party_list[2]\n",
        "```"
      ]
    },
    {
      "cell_type": "markdown",
      "metadata": {},
      "source": [
        "### Examples"
      ]
    },
    {
      "cell_type": "code",
      "execution_count": null,
      "metadata": {
        "trusted": false
      },
      "outputs": [],
      "source": [
        "# [ ] review and run example\n",
        "# the list before delete\n",
        "sample_list = [11, 21, 13, 14, 51, 161, 117, 181]\n",
        "print(\"sample_list before: \", sample_list)\n",
        "\n",
        "del sample_list[1]\n",
        "# the list after delete\n",
        "print(\"sample_list after:  \", sample_list)"
      ]
    },
    {
      "cell_type": "code",
      "execution_count": null,
      "metadata": {
        "trusted": false
      },
      "outputs": [],
      "source": [
        "# [ ] review and run example Multiple Times\n",
        "# [ ] consider how to reset the list values?\n",
        "print(\"sample_list before:\", sample_list)\n",
        "del sample_list[0]\n",
        "print(\"sample_list after:\", sample_list)"
      ]
    },
    {
      "cell_type": "code",
      "execution_count": null,
      "metadata": {
        "trusted": false
      },
      "outputs": [],
      "source": [
        "# [ ] review and run example\n",
        "mixed_types = [1, \"cat\"]\n",
        "# append number\n",
        "mixed_types.append(3)\n",
        "print(\"mixed_types list: \", mixed_types)\n",
        "\n",
        "# append string\n",
        "mixed_types.append(\"turtle\")\n",
        "print(\"mixed_types list: \", mixed_types)"
      ]
    },
    {
      "cell_type": "markdown",
      "metadata": {
        "collapsed": true
      },
      "source": [
        "## Task 1: `del` statement"
      ]
    },
    {
      "cell_type": "code",
      "execution_count": null,
      "metadata": {
        "trusted": false
      },
      "outputs": [],
      "source": [
        "# [ ] print ft_bones list\n",
        "# [ ] delete \"cuboid\" from ft_bones\n",
        "# [ ] reprint list\n",
        "ft_bones = [\"calcaneus\", \"talus\", \"cuboid\", \"navicular\", \"lateral cuneiform\", \n",
        "            \"intermediate cuneiform\", \"medial cuneiform\"]\n",
        "\n",
        "\n"
      ]
    },
    {
      "cell_type": "markdown",
      "metadata": {},
      "source": [
        "## Task 2: Multiple `del` statements "
      ]
    },
    {
      "cell_type": "code",
      "execution_count": null,
      "metadata": {
        "trusted": false
      },
      "outputs": [],
      "source": [
        "# [ ] print ft_bones list\n",
        "# [ ] delete \"cuboid\" from ft_bones\n",
        "# [ ] delete \"navicular\" from list\n",
        "# [ ] reprint list\n",
        "# [ ] check for deletion of \"cuboid\" and \"navicular\"\n",
        "ft_bones = [\"calcaneus\", \"talus\", \"cuboid\", \"navicular\", \"lateral cuneiform\", \n",
        "            \"intermediate cuneiform\", \"medial cuneiform\"]\n",
        "\n",
        "\n"
      ]
    },
    {
      "cell_type": "markdown",
      "metadata": {},
      "source": [
        "## Concept: .pop() gets and deletes item in list\n",
        "[![view video](https://iajupyterprodblobs.blob.core.windows.net/imagecontainer/common/play_video.png)]( http://edxinteractivepage.blob.core.windows.net/edxpages/f7cff1a7-5601-48a1-95a6-fd1fdfabd20e.html?details=[{\"src\":\"http://jupyternootbookwams.streaming.mediaservices.windows.net/67b83f30-a92c-4d1f-a7a3-ca257dd4db4e/Unit2_Section2.4b-List_Pop_Method.ism/manifest\",\"type\":\"application/vnd.ms-sstr+xml\"}],[{\"src\":\"http://jupyternootbookwams.streaming.mediaservices.windows.net/67b83f30-a92c-4d1f-a7a3-ca257dd4db4e/Unit2_Section2.4b-List_Pop_Method.vtt\",\"srclang\":\"en\",\"kind\":\"subtitles\",\"label\":\"english\"}])\n",
        "### `.pop()`  method default is last item in a list\n",
        "```python\n",
        "last_item = party_list.pop()\n",
        "first_item = party_list.pop(0)\n",
        "```"
      ]
    },
    {
      "cell_type": "markdown",
      "metadata": {},
      "source": [
        "### Examples"
      ]
    },
    {
      "cell_type": "code",
      "execution_count": null,
      "metadata": {
        "trusted": false
      },
      "outputs": [],
      "source": [
        "# [ ] review and run example\n",
        "# pop() gets the last item by default\n",
        "party_list = [\"Joana\", \"Alton\", \"Tobias\"]\n",
        "print(party_list)\n",
        "print(\"Hello,\", party_list.pop())\n",
        "\n",
        "print(\"\\n\", party_list)\n",
        "print(\"Hello,\", party_list.pop())\n",
        "\n",
        "print(\"\\n\", party_list)\n",
        "print(\"Hello,\", party_list.pop())\n",
        "\n",
        "print(\"\\n\", party_list)"
      ]
    },
    {
      "cell_type": "code",
      "execution_count": null,
      "metadata": {
        "trusted": false
      },
      "outputs": [],
      "source": [
        "# [ ] review and run example\n",
        "# can pop specific index like pop(3)\n",
        "number_list = [11, 21, 13, 14, 51, 161, 117, 181]\n",
        "print(\"before:\", number_list)\n",
        "number_list.pop(3)\n",
        "print(\"after :\", number_list)\n"
      ]
    },
    {
      "cell_type": "code",
      "execution_count": 1,
      "metadata": {
        "trusted": true
      },
      "outputs": [
        {
          "name": "stdout",
          "output_type": "stream",
          "text": [
            "list before: [11, 21, 13, 14, 51, 161, 117, 181]\n",
            "list after : [11, 21, 13, 14, 51, 161]\n",
            "add the popped values: 181 + 117 = 298\n"
          ]
        }
      ],
      "source": [
        "# [ ] review and run example\n",
        "# set a variable to a poped value\n",
        "number_list = [11, 21, 13, 14, 51, 161, 117, 181]\n",
        "print(\"list before:\", number_list)\n",
        "num_1 = number_list.pop()\n",
        "num_2 = number_list.pop()\n",
        "print(\"list after :\", number_list)\n",
        "print(\"add the popped values:\", num_1, \"+\", num_2, \"=\", num_1 + num_2)"
      ]
    },
    {
      "cell_type": "markdown",
      "metadata": {
        "collapsed": true
      },
      "source": [
        "## Task 3: `pop()`"
      ]
    },
    {
      "cell_type": "code",
      "execution_count": null,
      "metadata": {
        "trusted": false
      },
      "outputs": [],
      "source": [
        "# [ ] pop() and print the first and last items from the ft_bones list\n",
        "ft_bones = [\"calcaneus\", \"talus\", \"cuboid\", \"navicular\", \"lateral cuneiform\", \n",
        "            \"intermediate cuneiform\", \"medial cuneiform\"]\n",
        "\n",
        "# [ ] print the remaining list\n",
        "\n"
      ]
    },
    {
      "cell_type": "markdown",
      "metadata": {},
      "source": [
        "## Concept: An empty list is False\n",
        "[![view video](https://iajupyterprodblobs.blob.core.windows.net/imagecontainer/common/play_video.png)]( http://edxinteractivepage.blob.core.windows.net/edxpages/f7cff1a7-5601-48a1-95a6-fd1fdfabd20e.html?details=[{\"src\":\"http://jupyternootbookwams.streaming.mediaservices.windows.net/20e00a13-a9d2-4a35-b75d-f6533fa15cbd/Unit2_Section2.4c-Empty_List_is_False.ism/manifest\",\"type\":\"application/vnd.ms-sstr+xml\"}],[{\"src\":\"http://jupyternootbookwams.streaming.mediaservices.windows.net/20e00a13-a9d2-4a35-b75d-f6533fa15cbd/Unit2_Section2.4c-Empty_List_is_False.vtt\",\"srclang\":\"en\",\"kind\":\"subtitles\",\"label\":\"english\"}])\n",
        "### in a conditional an empty list will evaluate `False`\n",
        "This allows creating a while loop that runs until a list is empty\n",
        "```python\n",
        "while dog_types: \n",
        "```"
      ]
    },
    {
      "cell_type": "markdown",
      "metadata": {},
      "source": [
        "### Example"
      ]
    },
    {
      "cell_type": "code",
      "execution_count": null,
      "metadata": {
        "trusted": false
      },
      "outputs": [],
      "source": [
        "dog_types = [\"Lab\", \"Pug\", \"Poodle\"]\n",
        "\n",
        "while dog_types: \n",
        "    print(dog_types.pop())"
      ]
    },
    {
      "cell_type": "markdown",
      "metadata": {},
      "source": [
        "## Task 4 (Part 1): Cash Register Input\n",
        "- Create a empty list `purchase_amounts`\n",
        "- Populate the list with user input for the price of items\n",
        "- Continue adding to list with `while` until \"done\" is entered\n",
        "  - Can use `while True:` with `break`\n",
        "- Print `purchase_amounts`\n",
        "- Continue to Part 2"
      ]
    },
    {
      "cell_type": "code",
      "execution_count": null,
      "metadata": {
        "trusted": false
      },
      "outputs": [],
      "source": [
        "#[ ] complete the Register Input task above\n",
        "\n"
      ]
    },
    {
      "cell_type": "markdown",
      "metadata": {},
      "source": [
        "## Task 4 (Part 2): Cash Register Total\n",
        "- Create a **`subtotal`** variable = 0\n",
        "- Create a while loop that runs **`while`** purchase_amount (is not empty)\n",
        "- Inside the loop: \n",
        "  - **`pop()`** the last list value cast as a float type\n",
        "  - Add the float value to a **`subtotal`** variable\n",
        "- After exiting the loop print **`subtotal`**  \n",
        "  \n",
        "  *Be sure to populate purchase_amounts by running Part 1 above.*"
      ]
    },
    {
      "cell_type": "code",
      "execution_count": null,
      "metadata": {
        "trusted": false
      },
      "outputs": [],
      "source": [
        "# [ ] complete the Register Total task above\n",
        "\n"
      ]
    },
    {
      "cell_type": "markdown",
      "metadata": {},
      "source": [
        "## Concept: Delete a specific object from a list with `.remove()`\n",
        "[![view video](https://iajupyterprodblobs.blob.core.windows.net/imagecontainer/common/play_video.png)]( http://edxinteractivepage.blob.core.windows.net/edxpages/f7cff1a7-5601-48a1-95a6-fd1fdfabd20e.html?details=[{\"src\":\"http://jupyternootbookwams.streaming.mediaservices.windows.net/31fadf38-670c-4ba9-aa68-1934db459c4d/Unit2_Section2.4d-Removing_Object_from_List.ism/manifest\",\"type\":\"application/vnd.ms-sstr+xml\"}],[{\"src\":\"http://jupyternootbookwams.streaming.mediaservices.windows.net/31fadf38-670c-4ba9-aa68-1934db459c4d/Unit2_Section2.4d-Removing_Object_from_List.vtt\",\"srclang\":\"en\",\"kind\":\"subtitles\",\"label\":\"english\"}])\n",
        "### `.remove(object)` removes the 1st item that matches\n",
        "\n",
        "```python\n",
        "dog_types.remove(\"Pug\")\n",
        "```\n",
        ">**`ValueError`** occurs if the object is not available to be removed.  "
      ]
    },
    {
      "cell_type": "markdown",
      "metadata": {},
      "source": [
        "### Examples"
      ]
    },
    {
      "cell_type": "code",
      "execution_count": null,
      "metadata": {
        "trusted": false
      },
      "outputs": [],
      "source": [
        "# [ ] review and run example\n",
        "dog_types = [\"Lab\", \"Pug\", \"Poodle\"]\n",
        "\n",
        "if \"Pug\" in dog_types:\n",
        "    dog_types.remove(\"Pug\")\n",
        "else:\n",
        "    print(\"no Pug found\")\n",
        "print(dog_types)"
      ]
    },
    {
      "cell_type": "code",
      "execution_count": null,
      "metadata": {
        "trusted": false
      },
      "outputs": [],
      "source": [
        "# [ ] review and run example\n",
        "dogs = [\"Lab\", \"Pug\", \"Poodle\", \"Poodle\", \"Pug\", \"Poodle\"]\n",
        "\n",
        "print(dogs)\n",
        "while \"Poodle\" in dogs:\n",
        "    dogs.remove(\"Poodle\")\n",
        "    print(dogs)"
      ]
    },
    {
      "cell_type": "markdown",
      "metadata": {},
      "source": [
        "### ValueError"
      ]
    },
    {
      "cell_type": "code",
      "execution_count": null,
      "metadata": {
        "trusted": false
      },
      "outputs": [],
      "source": [
        "# [ ] review and run example\n",
        "# Change to \"Lab\", etc... to fix error\n",
        "dogs.remove(\"Collie\")\n",
        "print(dogs)"
      ]
    },
    {
      "cell_type": "markdown",
      "metadata": {
        "collapsed": true
      },
      "source": [
        "## Task 3: `.remove()`"
      ]
    },
    {
      "cell_type": "code",
      "execution_count": null,
      "metadata": {
        "trusted": false
      },
      "outputs": [],
      "source": [
        "# [ ] remove one \"Poodle\" from the list: dogs , or print \"no Poodle found\"\n",
        "# [ ] print list before and after\n",
        "dogs = [\"Lab\", \"Pug\", \"Poodle\", \"Poodle\", \"Pug\", \"Poodle\"]\n",
        "\n"
      ]
    },
    {
      "cell_type": "markdown",
      "metadata": {},
      "source": [
        "[Terms of use](http://go.microsoft.com/fwlink/?LinkID=206977) &nbsp; [Privacy & cookies](https://go.microsoft.com/fwlink/?LinkId=521839) &nbsp; © 2017 Microsoft"
      ]
    }
  ],
  "metadata": {
    "anaconda-cloud": {},
    "kernelspec": {
      "display_name": "Python 3",
      "language": "python",
      "name": "python3"
    },
    "language_info": {
      "codemirror_mode": {
        "name": "ipython",
        "version": 3
      },
      "file_extension": ".py",
      "mimetype": "text/x-python",
      "name": "python",
      "nbconvert_exporter": "python",
      "pygments_lexer": "ipython3",
      "version": "3.9.0 (tags/v3.9.0:9cf6752, Oct  5 2020, 15:34:40) [MSC v.1927 64 bit (AMD64)]"
    },
    "vscode": {
      "interpreter": {
        "hash": "11938c6bc6919ae2720b4d5011047913343b08a43b18698fd82dedb0d4417594"
      }
    }
  },
  "nbformat": 4,
  "nbformat_minor": 1
}
