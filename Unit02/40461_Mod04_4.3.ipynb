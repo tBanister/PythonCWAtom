{
  "cells": [
    {
      "cell_type": "markdown",
      "metadata": {},
      "source": [
        "# Section 4.3\n",
        "## File .readline() and .strip() Methods\n",
        "- File Read, a line at a time with `.readline()`\n",
        "- Remove characters using `.strip()`\n",
        "\n",
        "----- \n",
        "\n",
        "### Student will be able to\n",
        "- Use `.readline()` to read data from file, one line at a time\n",
        "- Use `.strip()` to remove new line characters and other whitespaces"
      ]
    },
    {
      "cell_type": "markdown",
      "metadata": {},
      "source": [
        "## Concept: Read files a line at a time\n",
        "### .readline()\n",
        "[![view video](https://iajupyterprodblobs.blob.core.windows.net/imagecontainer/common/play_video.png)]( http://edxinteractivepage.blob.core.windows.net/edxpages/f7cff1a7-5601-48a1-95a6-fd1fdfabd20e.html?details=[{\"src\":\"http://jupyternootbookwams.streaming.mediaservices.windows.net/8f41bf3b-05b1-459e-87e9-419168b2bf0d/Unit2_Section4.3a-Readlines-Line_by_Line.ism/manifest\",\"type\":\"application/vnd.ms-sstr+xml\"}],[{\"src\":\"http://jupyternootbookwams.streaming.mediaservices.windows.net/8f41bf3b-05b1-459e-87e9-419168b2bf0d/Unit2_Section4.3a-Readlines-Line_by_Line.vtt\",\"srclang\":\"en\",\"kind\":\"subtitles\",\"label\":\"english\"}])\n",
        "### Use .readline() to read a line in a file as a string\n",
        "Each .readline() moves to the next available line in the file.\n",
        "```python\n",
        "poem1 = open('poem1.txt', 'r')\n",
        "poem_line1 = poem1.readline()\n",
        "poem_line2 = poem1.readline()\n",
        "poem_line3 = poem1.readline()\n",
        "```"
      ]
    },
    {
      "cell_type": "markdown",
      "metadata": {},
      "source": [
        "### Examples"
      ]
    },
    {
      "cell_type": "code",
      "execution_count": 1,
      "metadata": {
        "trusted": false
      },
      "outputs": [
        {
          "name": "stdout",
          "output_type": "stream",
          "text": [
            "  % Total    % Received % Xferd  Average Speed   Time    Time     Time  Current\n",
            "                                 Dload  Upload   Total   Spent    Left  Speed\n",
            "100    56  100    56    0     0    270      0 --:--:-- --:--:-- --:--:--   270\n"
          ]
        }
      ],
      "source": [
        "# [ ]Run to download file poem1.txt\n",
        "!curl https://raw.githubusercontent.com/MicrosoftLearning/intropython/master/poem1.txt -o poem1.txt "
      ]
    },
    {
      "cell_type": "code",
      "execution_count": 2,
      "metadata": {
        "trusted": false
      },
      "outputs": [],
      "source": [
        "# [ ] review and run example\n",
        "# open address to file\n",
        "poem1 = open('poem1.txt', 'r')"
      ]
    },
    {
      "cell_type": "code",
      "execution_count": 3,
      "metadata": {
        "collapsed": true,
        "trusted": false
      },
      "outputs": [],
      "source": [
        "# [ ] review and run example\n",
        "# readline 1, 2, 3\n",
        "poem_line1 = poem1.readline()\n",
        "poem_line2 = poem1.readline()\n",
        "poem_line3 = poem1.readline()"
      ]
    },
    {
      "cell_type": "code",
      "execution_count": 16,
      "metadata": {
        "trusted": false
      },
      "outputs": [
        {
          "name": "stdout",
          "output_type": "stream",
          "text": [
            "Loops I repeat\n",
            "loops\n",
            "loops\n",
            "\n"
          ]
        }
      ],
      "source": [
        "# [ ] review and run example: print the first 3 .readline() values\n",
        "print(poem_line1 + poem_line2 + poem_line3)"
      ]
    },
    {
      "cell_type": "code",
      "execution_count": 12,
      "metadata": {
        "trusted": false
      },
      "outputs": [
        {
          "ename": "ValueError",
          "evalue": "I/O operation on closed file.",
          "output_type": "error",
          "traceback": [
            "\u001b[0;31m---------------------------------------------------------------------------\u001b[0m",
            "\u001b[0;31mValueError\u001b[0m                                Traceback (most recent call last)",
            "Cell \u001b[0;32mIn [12], line 2\u001b[0m\n\u001b[1;32m      1\u001b[0m \u001b[39m# [ ] review and run example printing return value & re-run several times\u001b[39;00m\n\u001b[0;32m----> 2\u001b[0m \u001b[39mprint\u001b[39m(poem1\u001b[39m.\u001b[39mreadline())\n",
            "\u001b[0;31mValueError\u001b[0m: I/O operation on closed file."
          ]
        }
      ],
      "source": [
        "# [ ] review and run example printing return value & re-run several times\n",
        "print(poem1.readline())"
      ]
    },
    {
      "cell_type": "code",
      "execution_count": 11,
      "metadata": {
        "collapsed": true,
        "trusted": false
      },
      "outputs": [],
      "source": [
        "# [ ] review and run example to close file in memory- then run previous cell\n",
        "\n",
        "poem1.close()"
      ]
    },
    {
      "cell_type": "markdown",
      "metadata": {
        "collapsed": true
      },
      "source": [
        "## Task 1: Use readline to get rainbow colors\n",
        "- Import https://raw.githubusercontent.com/MicrosoftLearning/intropython/master/rainbow as rainbow.txt  \n",
        "- Open rainbow.txt as rainbow_file as read-only  \n",
        "- Read the first 3 lines into variables: color1, color2, color3  \n",
        "- Close rainbow_file \n",
        "- Print the first 3 colors  "
      ]
    },
    {
      "cell_type": "code",
      "execution_count": 17,
      "metadata": {
        "trusted": false
      },
      "outputs": [
        {
          "name": "stdout",
          "output_type": "stream",
          "text": [
            "  % Total    % Received % Xferd  Average Speed   Time    Time     Time  Current\n",
            "                                 Dload  Upload   Total   Spent    Left  Speed\n",
            "100    43  100    43    0     0    165      0 --:--:-- --:--:-- --:--:--   165\n"
          ]
        }
      ],
      "source": [
        "# [ ] import https://raw.githubusercontent.com/MicrosoftLearning/intropython/master/rainbow as rainbow.txt\n",
        "\n",
        "!curl https://raw.githubusercontent.com/MicrosoftLearning/intropython/master/rainbow -o rainbow.txt\n",
        "\n"
      ]
    },
    {
      "cell_type": "code",
      "execution_count": 18,
      "metadata": {
        "trusted": false
      },
      "outputs": [
        {
          "data": {
            "text/plain": [
              "<_io.TextIOWrapper name='rainbow.txt' mode='r' encoding='UTF-8'>"
            ]
          },
          "execution_count": 18,
          "metadata": {},
          "output_type": "execute_result"
        }
      ],
      "source": [
        "# [ ] open rainbow.txt as rainbow_text\n",
        "\n",
        "rainbow_text = open(\"rainbow.txt\", \"r\")\n",
        "rainbow_text"
      ]
    },
    {
      "cell_type": "code",
      "execution_count": 19,
      "metadata": {
        "collapsed": true,
        "trusted": false
      },
      "outputs": [],
      "source": [
        "# [ ] read the first 3 lines into variables: color1, color2, color3\n",
        "\n",
        "colour1 = rainbow_text.readline()\n",
        "colour2 = rainbow_text.readline()\n",
        "colour3 = rainbow_text.readline()"
      ]
    },
    {
      "cell_type": "code",
      "execution_count": 21,
      "metadata": {
        "collapsed": true,
        "trusted": false
      },
      "outputs": [],
      "source": [
        "# [ ] close rainbow.txt\n",
        "\n",
        "rainbow_text.close()"
      ]
    },
    {
      "cell_type": "code",
      "execution_count": 22,
      "metadata": {
        "trusted": false
      },
      "outputs": [
        {
          "name": "stdout",
          "output_type": "stream",
          "text": [
            "red\n",
            "orange\n",
            "yellow\n",
            "\n"
          ]
        }
      ],
      "source": [
        "# [ ] print the first 3 colors\n",
        "\n",
        "print(colour1 + colour2 + colour3)"
      ]
    },
    {
      "cell_type": "markdown",
      "metadata": {},
      "source": [
        "## Concept: `.readline()` in a `while` loop\n",
        ">```python\n",
        "poem_line = poem1.readline()\n",
        "while poem_line:\n",
        "    print(poem_line.capitalized())\n",
        "    poem_line = poem1.readline()\n",
        "```  \n",
        "[![view video](https://iajupyterprodblobs.blob.core.windows.net/imagecontainer/common/play_video.png)]( http://edxinteractivepage.blob.core.windows.net/edxpages/f7cff1a7-5601-48a1-95a6-fd1fdfabd20e.html?details=[{\"src\":\"http://jupyternootbookwams.streaming.mediaservices.windows.net/4662ff60-8839-4fd7-a85d-3aba9ebf8cd3/Unit2_Section4.3b-Readlines-While_Loops.ism/manifest\",\"type\":\"application/vnd.ms-sstr+xml\"}],[{\"src\":\"http://jupyternootbookwams.streaming.mediaservices.windows.net/4662ff60-8839-4fd7-a85d-3aba9ebf8cd3/Unit2_Section4.3b-Readlines-While_Loops.vtt\",\"srclang\":\"en\",\"kind\":\"subtitles\",\"label\":\"english\"}])\n",
        "### `while .readline()` \n",
        "- while loop continues while the readline() value in poem_line returns text  \n",
        "  - A string value evaluates as True in the while loop  \n",
        "  - An empty string, '', evaluates **not True** in the while loop \n",
        "- When readline() reaches the end of the file, an empty string is returned  \n"
      ]
    },
    {
      "cell_type": "markdown",
      "metadata": {},
      "source": [
        "### Examples"
      ]
    },
    {
      "cell_type": "code",
      "execution_count": 27,
      "metadata": {
        "trusted": false
      },
      "outputs": [],
      "source": [
        "# [ ] review and run example\n",
        "# open address to file\n",
        "poem1 = open('poem1.txt', 'r')"
      ]
    },
    {
      "cell_type": "code",
      "execution_count": 28,
      "metadata": {
        "trusted": false
      },
      "outputs": [
        {
          "name": "stdout",
          "output_type": "stream",
          "text": [
            "LOOPS I REPEAT\n",
            "LOOPS\n",
            "LOOPS\n",
            "LOOPS\n",
            "I REPEAT\n",
            "UNTIL I\n",
            "BREAK\n"
          ]
        }
      ],
      "source": [
        "# [ ] review and run example - use a while loop to read each line of a file \n",
        "#  remove last character ('\\n') and print as upper case\n",
        "poem_line = poem1.readline()\n",
        "\n",
        "while poem_line:\n",
        "    print(poem_line[:-1].upper())\n",
        "    poem_line = poem1.readline()"
      ]
    },
    {
      "cell_type": "code",
      "execution_count": 29,
      "metadata": {
        "trusted": false
      },
      "outputs": [],
      "source": [
        "# [ ] review and run example\n",
        "poem1.close()"
      ]
    },
    {
      "cell_type": "markdown",
      "metadata": {
        "collapsed": true
      },
      "source": [
        "## Task 2: while .readline() rainbow colors\n",
        "Note: Assumes rainbow.txt has been imported in Task 1.\n",
        "\n",
        "- Open rainbow.txt as rainbow_file as read-only  \n",
        "- Read a color from each line of rainbow_file in a while loop  \n",
        "  - Print each color capitalized  \n",
        "- Close rainbow_file  "
      ]
    },
    {
      "cell_type": "code",
      "execution_count": 38,
      "metadata": {
        "trusted": false
      },
      "outputs": [],
      "source": [
        "# [ ] open rainbow.txt as rainbow_text as read-only\n",
        "\n",
        "rainbow_text = open(\"rainbow.txt\", \"r\")"
      ]
    },
    {
      "cell_type": "code",
      "execution_count": 39,
      "metadata": {
        "trusted": false
      },
      "outputs": [
        {
          "name": "stdout",
          "output_type": "stream",
          "text": [
            "Red\n",
            "Orange\n",
            "Yellow\n",
            "Green\n",
            "Blue\n",
            "Indigo\n",
            "Violet\n"
          ]
        }
      ],
      "source": [
        "# [ ] read the color from lines of rainbow_text in a while loop\n",
        "# [ ] print each color capitalized as the loop runs\n",
        "\n",
        "rain_line = rainbow_text.readline()\n",
        "\n",
        "while rain_line:\n",
        "    print(rain_line[:-1].capitalize())\n",
        "    rain_line = rainbow_text.readline()"
      ]
    },
    {
      "cell_type": "code",
      "execution_count": 40,
      "metadata": {
        "trusted": false
      },
      "outputs": [],
      "source": [
        "# [ ] close rainbow_text \n",
        "\n",
        "rainbow_text.close()"
      ]
    },
    {
      "cell_type": "markdown",
      "metadata": {},
      "source": [
        "## Concept: `.readline()`  with `.strip()`\n",
        "[![view video](https://iajupyterprodblobs.blob.core.windows.net/imagecontainer/common/play_video.png)]( http://edxinteractivepage.blob.core.windows.net/edxpages/f7cff1a7-5601-48a1-95a6-fd1fdfabd20e.html?details=[{\"src\":\"http://jupyternootbookwams.streaming.mediaservices.windows.net/809d6b2c-1be9-4bea-8702-9eb328b9f551/Unit2_Section4.3c-Remove_Whitespace.ism/manifest\",\"type\":\"application/vnd.ms-sstr+xml\"}],[{\"src\":\"http://jupyternootbookwams.streaming.mediaservices.windows.net/809d6b2c-1be9-4bea-8702-9eb328b9f551/Unit2_Section4.3c-Remove_Whitespace.vtt\",\"srclang\":\"en\",\"kind\":\"subtitles\",\"label\":\"english\"}])\n",
        "### .strip() whitespace\n",
        "```python\n",
        "poem_line = poem1.readline().strip()\n",
        "```\n",
        "**.strip()** removes leading and trailing whitespace, including the '\\n' formatting character."
      ]
    },
    {
      "cell_type": "markdown",
      "metadata": {},
      "source": [
        "### Examples"
      ]
    },
    {
      "cell_type": "code",
      "execution_count": 41,
      "metadata": {
        "trusted": false
      },
      "outputs": [],
      "source": [
        "# [ ] review and run example\n",
        "# open address to file\n",
        "poem1 = open('poem1.txt', 'r')\n"
      ]
    },
    {
      "cell_type": "code",
      "execution_count": 42,
      "metadata": {
        "trusted": false
      },
      "outputs": [
        {
          "name": "stdout",
          "output_type": "stream",
          "text": [
            "Loops I repeat\n",
            "\n",
            "loops\n",
            "\n",
            "loops\n",
            "\n",
            "loops\n",
            "\n",
            "I repeat\n",
            "\n",
            "until I\n",
            "\n",
            "break\n",
            "\n"
          ]
        }
      ],
      "source": [
        "# [ ] review and run example - readline while loop without removing '\\n'\n",
        "poem_line = poem1.readline()\n",
        "\n",
        "while poem_line:\n",
        "    print(poem_line)\n",
        "    poem_line = poem1.readline()\n",
        "\n",
        "poem1.close()"
      ]
    },
    {
      "cell_type": "markdown",
      "metadata": {},
      "source": [
        "### Now with `.strip()` to remove leading and trailing whitespace characters"
      ]
    },
    {
      "cell_type": "code",
      "execution_count": 43,
      "metadata": {
        "trusted": false
      },
      "outputs": [
        {
          "name": "stdout",
          "output_type": "stream",
          "text": [
            "Loops I repeat\n",
            "loops\n",
            "loops\n",
            "loops\n",
            "I repeat\n",
            "until I\n",
            "break\n"
          ]
        }
      ],
      "source": [
        "# [ ] review and run example - readline with .strip() to remove '\\n'\n",
        "poem1 = open('poem1.txt', 'r')\n",
        "poem_line = poem1.readline().strip()\n",
        "\n",
        "while poem_line:\n",
        "    print(poem_line)\n",
        "    poem_line = poem1.readline().strip()\n",
        "    \n",
        "poem1.close()"
      ]
    },
    {
      "cell_type": "markdown",
      "metadata": {
        "collapsed": true
      },
      "source": [
        "## Task 3: `.readline()`  with `.strip()` rainbow colors\n",
        "Note: Assumes rainbow.txt has been imported in Task 1.\n",
        "\n",
        "- Open rainbow.txt as rainbow_file as read-only  \n",
        "- Read a color from each line of rainbow_file in a while loop  \n",
        "  - Use .strip to remove the whitespace  \n",
        "  - Print each color upper case  \n",
        "- Close rainbow_file "
      ]
    },
    {
      "cell_type": "code",
      "execution_count": 57,
      "metadata": {
        "trusted": false
      },
      "outputs": [],
      "source": [
        "# [ ] open rainbow.txt as rainbow_text as read-only  \n",
        "\n",
        "rainbow_text = open(\"rainbow.txt\", \"r\")"
      ]
    },
    {
      "cell_type": "code",
      "execution_count": 58,
      "metadata": {
        "trusted": false
      },
      "outputs": [
        {
          "name": "stdout",
          "output_type": "stream",
          "text": [
            "Red\n",
            "Orange\n",
            "Yellow\n",
            "Green\n",
            "Blue\n",
            "Indigo\n",
            "Violet\n"
          ]
        }
      ],
      "source": [
        "# [ ] read a color from each line of rainbow_text in a while loop  \n",
        "# use .strip to remove the whitespace '\\n' character \n",
        "# print each color upper case \n",
        "\n",
        "rain_line = rainbow_text.readline().strip()\n",
        "\n",
        "while rain_line:\n",
        "    print(rain_line.capitalize())\n",
        "    rain_line = rainbow_text.readline().strip()"
      ]
    },
    {
      "cell_type": "markdown",
      "metadata": {
        "collapsed": true
      },
      "source": [
        "## Concept: `.strip()` with arguments\n",
        "[![view video](https://iajupyterprodblobs.blob.core.windows.net/imagecontainer/common/play_video.png)]( http://edxinteractivepage.blob.core.windows.net/edxpages/f7cff1a7-5601-48a1-95a6-fd1fdfabd20e.html?details=[{\"src\":\"http://jupyternootbookwams.streaming.mediaservices.windows.net/98672edd-b2c5-4478-aaec-42154a5b97c8/Unit2_Section4.3d-Strip_Arguments.ism/manifest\",\"type\":\"application/vnd.ms-sstr+xml\"}],[{\"src\":\"http://jupyternootbookwams.streaming.mediaservices.windows.net/98672edd-b2c5-4478-aaec-42154a5b97c8/Unit2_Section4.3d-Strip_Arguments.vtt\",\"srclang\":\"en\",\"kind\":\"subtitles\",\"label\":\"english\"}])\n",
        "### .strip() arguments\n",
        "```python\n",
        "color = rainbow_messy.readline().strip('*\\n*')\n",
        "```\n",
        "**`.strip('*\\n')`** removes leading and training **`*`** and **\\n**."
      ]
    },
    {
      "cell_type": "markdown",
      "metadata": {},
      "source": [
        "### Examples"
      ]
    },
    {
      "cell_type": "code",
      "execution_count": 59,
      "metadata": {
        "trusted": false
      },
      "outputs": [
        {
          "name": "stdout",
          "output_type": "stream",
          "text": [
            "  % Total    % Received % Xferd  Average Speed   Time    Time     Time  Current\n",
            "                                 Dload  Upload   Total   Spent    Left  Speed\n",
            "100    71  100    71    0     0   1918      0 --:--:-- --:--:-- --:--:--  1918\n"
          ]
        }
      ],
      "source": [
        "# [ ] review and run example: import rainbow_messy.txt\n",
        "!curl https://raw.githubusercontent.com/MicrosoftLearning/intropython/master/rainbow_messy -o rainbow_messy.txt"
      ]
    },
    {
      "cell_type": "code",
      "execution_count": 60,
      "metadata": {
        "trusted": false
      },
      "outputs": [],
      "source": [
        "# [ ] review and run example: open file read only\n",
        "rainbow_messy = open('rainbow_messy.txt', 'r')"
      ]
    },
    {
      "cell_type": "code",
      "execution_count": 61,
      "metadata": {
        "trusted": false
      },
      "outputs": [
        {
          "name": "stdout",
          "output_type": "stream",
          "text": [
            "**red**\n",
            "\n",
            "**orange**\n",
            "\n",
            "**yellow**\n",
            "\n",
            "**green**\n",
            "\n",
            "**blue**\n",
            "\n",
            "**indigo**\n",
            "\n",
            "**violet**\n",
            "\n"
          ]
        }
      ],
      "source": [
        "# [ ] review and run example: .readline() without .strip()\n",
        "\n",
        "color = rainbow_messy.readline()\n",
        "\n",
        "while color:\n",
        "    print(color)\n",
        "    color = rainbow_messy.readline()"
      ]
    },
    {
      "cell_type": "code",
      "execution_count": 62,
      "metadata": {
        "trusted": false
      },
      "outputs": [
        {
          "name": "stdout",
          "output_type": "stream",
          "text": [
            "red\n",
            "orange\n",
            "yellow\n",
            "green\n",
            "blue\n",
            "indigo\n",
            "violet\n"
          ]
        }
      ],
      "source": [
        "# [ ] review and run example: strip \"*\" and newline ('\\n')\n",
        "rainbow_messy = open('rainbow_messy.txt', 'r')\n",
        "\n",
        "color = rainbow_messy.readline().strip('*\\n')\n",
        "\n",
        "while color:\n",
        "    print(color)\n",
        "    color = rainbow_messy.readline().strip('*\\n')\n",
        "\n",
        "rainbow_messy.close()"
      ]
    },
    {
      "cell_type": "markdown",
      "metadata": {
        "collapsed": true
      },
      "source": [
        "## Task 4: `.strip()` with arguments\n",
        "\n",
        "- Run import of cities_messy.txt below at least once this notebook session\n",
        "- Run open cities_messy.txt below before each test of the while loop cell\n",
        "- Edit while loop to strip the colon ':' , newline and spaces\n",
        "- Close cities_messy"
      ]
    },
    {
      "cell_type": "code",
      "execution_count": 63,
      "metadata": {
        "trusted": false
      },
      "outputs": [
        {
          "name": "stdout",
          "output_type": "stream",
          "text": [
            "  % Total    % Received % Xferd  Average Speed   Time    Time     Time  Current\n",
            "                                 Dload  Upload   Total   Spent    Left  Speed\n",
            "100    77  100    77    0     0   2200      0 --:--:-- --:--:-- --:--:--  2200\n"
          ]
        }
      ],
      "source": [
        "# [ ] import the file\n",
        "!curl https://raw.githubusercontent.com/MicrosoftLearning/intropython/master/cities_messy -o cities_messy.txt"
      ]
    },
    {
      "cell_type": "code",
      "execution_count": 67,
      "metadata": {
        "trusted": false
      },
      "outputs": [],
      "source": [
        "# [ ] run to read the file into memory\n",
        "cities_messy = open('cities_messy.txt', 'r')\n"
      ]
    },
    {
      "cell_type": "code",
      "execution_count": 68,
      "metadata": {
        "trusted": false
      },
      "outputs": [
        {
          "name": "stdout",
          "output_type": "stream",
          "text": [
            "Beijing\n",
            "Cairo\n",
            "London\n",
            "Nairobi\n",
            "New York City\n",
            "Sydney\n",
            "Tokyo\n"
          ]
        }
      ],
      "source": [
        "# [ ] edit the code to remove leading or trailing colon, newline and space characters\n",
        "line = cities_messy.readline().strip(\" :\\n\")\n",
        "\n",
        "while line:\n",
        "    print(line)\n",
        "    line = cities_messy.readline().strip(\" :\\n\")\n",
        "\n"
      ]
    },
    {
      "cell_type": "markdown",
      "metadata": {},
      "source": [
        "## Task 5: `.strip()` parentheses from poem2_messy\n",
        "\n",
        "- Import https://raw.githubusercontent.com/MicrosoftLearning/intropython/master/poem2_messy as poem2_messy.txt  \n",
        "- Open poem2_messy.txt as poem2_messy in read mode  \n",
        "- Edit while loop to strip the leading and trailing parentheses & print the poem without blank lines  \n",
        "- Close poem2_messy"
      ]
    },
    {
      "cell_type": "code",
      "execution_count": 69,
      "metadata": {
        "trusted": false
      },
      "outputs": [
        {
          "name": "stdout",
          "output_type": "stream",
          "text": [
            "  % Total    % Received % Xferd  Average Speed   Time    Time     Time  Current\n",
            "                                 Dload  Upload   Total   Spent    Left  Speed\n",
            "100    75  100    75    0     0    380      0 --:--:-- --:--:-- --:--:--   380\n"
          ]
        }
      ],
      "source": [
        "# [ ] import https://raw.githubusercontent.com/MicrosoftLearning/intropython/master/poem2_messy as poem2_messy.txt  \n",
        "\n",
        "!curl https://raw.githubusercontent.com/MicrosoftLearning/intropython/master/poem2_messy -o poem2_messy.txt  "
      ]
    },
    {
      "cell_type": "code",
      "execution_count": 70,
      "metadata": {
        "trusted": false
      },
      "outputs": [],
      "source": [
        "# [ ] open poem2_messy.txt as poem2_messy in read mode\n",
        "\n",
        "poem2_messy = open(\"poem2_messy.txt\", \"r\")"
      ]
    },
    {
      "cell_type": "code",
      "execution_count": 71,
      "metadata": {
        "trusted": false
      },
      "outputs": [
        {
          "name": "stdout",
          "output_type": "stream",
          "text": [
            "while True\n",
            "I loop\n",
            "True\n",
            "loop\n",
            "True\n",
            "loop\n",
            "not True\n",
            "False\n",
            "end\n"
          ]
        }
      ],
      "source": [
        "# [ ] edit while loop to strip the leading and trailing parenthesis, and newlines\n",
        "# [ ] print the poem \n",
        "line = poem2_messy.readline().strip(\"()\\n\")\n",
        "\n",
        "while line:\n",
        "    print(line)\n",
        "    line = poem2_messy.readline().strip(\"()\\n\")\n",
        "\n",
        "\n"
      ]
    },
    {
      "cell_type": "markdown",
      "metadata": {
        "collapsed": true
      },
      "source": [
        "[Terms of use](http://go.microsoft.com/fwlink/?LinkID=206977) &nbsp; [Privacy & cookies](https://go.microsoft.com/fwlink/?LinkId=521839) &nbsp; © 2017 Microsoft"
      ]
    }
  ],
  "metadata": {
    "anaconda-cloud": {},
    "kernelspec": {
      "display_name": "Python 3",
      "language": "python",
      "name": "python3"
    },
    "language_info": {
      "codemirror_mode": {
        "name": "ipython",
        "version": 3
      },
      "file_extension": ".py",
      "mimetype": "text/x-python",
      "name": "python",
      "nbconvert_exporter": "python",
      "pygments_lexer": "ipython3",
      "version": "3.8.13"
    },
    "vscode": {
      "interpreter": {
        "hash": "9ac03a0a6051494cc606d484d27d20fce22fb7b4d169f583271e11d5ba46a56e"
      }
    }
  },
  "nbformat": 4,
  "nbformat_minor": 1
}
