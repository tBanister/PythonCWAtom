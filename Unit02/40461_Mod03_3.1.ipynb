{
 "cells": [
  {
   "cell_type": "markdown",
   "metadata": {},
   "source": [
    "# Section 3.1\n",
    "## The Power of List Iteration\n",
    "- **for in: `for` loop using `in`**\n",
    "- for range: `for range(start,stop,step)` \n",
    "- More list methods: `.extend()`, `+, .reverse(), .sort()` \n",
    "- Strings to lists,`.split()`, and list to strings, `.join()` \n",
    "----- \n",
    "\n",
    "### Student will be able to\n",
    "- **Iterate through lists using `for` with `in`**\n",
    "- Use `for range()` in looping operations \n",
    "- Use list methods `.extend()`, `+, .reverse(), .sort()` \n",
    "- Convert between lists and strings using `.split()` and `.join()` "
   ]
  },
  {
   "cell_type": "markdown",
   "metadata": {
    "collapsed": true
   },
   "source": [
    "## Concept: Iterate through Lists using ` for in`\n",
    "[![view video](https://iajupyterprodblobs.blob.core.windows.net/imagecontainer/common/play_video.png)]( http://edxinteractivepage.blob.core.windows.net/edxpages/f7cff1a7-5601-48a1-95a6-fd1fdfabd20e.html?details=[{\"src\":\"http://jupyternootbookwams.streaming.mediaservices.windows.net/3545f443-d2b5-4d77-9a8c-cfe07976c697/Unit2_Section3.1a-Iterate_through_Lists.ism/manifest\",\"type\":\"application/vnd.ms-sstr+xml\"}],[{\"src\":\"http://jupyternootbookwams.streaming.mediaservices.windows.net/3545f443-d2b5-4d77-9a8c-cfe07976c697/Unit2_Section3.1a-Iterate_through_Lists.vtt\",\"srclang\":\"en\",\"kind\":\"subtitles\",\"label\":\"english\"}])\n",
    "```python\n",
    "cities = [\"New York\", \"Shanghai\", \"Munich\", \"Tokyo\", \"Dubai\", \"Mexico City\", \"São Paulo\", \"Hyderabad\"]\n",
    "\n",
    "for city in cities:\n",
    "    print(city)\n",
    "```"
   ]
  },
  {
   "cell_type": "markdown",
   "metadata": {},
   "source": [
    "### Examples"
   ]
  },
  {
   "cell_type": "code",
   "execution_count": 1,
   "metadata": {
    "collapsed": false
   },
   "outputs": [
    {
     "name": "stdout",
     "output_type": "stream",
     "text": [
      "New York\n",
      "Shanghai\n",
      "Munich\n",
      "Tokyo\n",
      "Dubai\n",
      "Mexico City\n",
      "São Paulo\n",
      "Hyderabad\n"
     ]
    }
   ],
   "source": [
    "# [ ] review and run example\n",
    "cities = [\"New York\", \"Shanghai\", \"Munich\", \"Tokyo\", \"Dubai\", \"Mexico City\", \"São Paulo\", \"Hyderabad\"]\n",
    "\n",
    "for city in cities:\n",
    "    print(city)"
   ]
  },
  {
   "cell_type": "code",
   "execution_count": 2,
   "metadata": {
    "collapsed": false
   },
   "outputs": [
    {
     "name": "stdout",
     "output_type": "stream",
     "text": [
      "total sales: 124\n"
     ]
    }
   ],
   "source": [
    "# [ ] review and run example\n",
    "sales = [6, 8, 9, 11, 12, 17, 19, 20, 22]\n",
    "total = 0\n",
    "\n",
    "for sale in sales:\n",
    "    total += sale\n",
    "    \n",
    "print(\"total sales:\", total)\n",
    "    \n"
   ]
  },
  {
   "cell_type": "markdown",
   "metadata": {},
   "source": [
    "change the iterator variable name from \"sale\" to \"dollars\" or to any valid name"
   ]
  },
  {
   "cell_type": "code",
   "execution_count": 3,
   "metadata": {
    "collapsed": false
   },
   "outputs": [
    {
     "name": "stdout",
     "output_type": "stream",
     "text": [
      "total sales: 124\n"
     ]
    }
   ],
   "source": [
    "# [ ] review and run example \n",
    "sales = [6, 8, 9, 11, 12, 17, 19, 20, 22]\n",
    "total = 0\n",
    "\n",
    "for dollars in sales:\n",
    "    total += dollars\n",
    "    \n",
    "print(\"total sales:\", total)"
   ]
  },
  {
   "cell_type": "markdown",
   "metadata": {
    "collapsed": true
   },
   "source": [
    "## Task 1: Iterate through Lists using `in`"
   ]
  },
  {
   "cell_type": "code",
   "execution_count": 4,
   "metadata": {
    "collapsed": false
   },
   "outputs": [
    {
     "name": "stdout",
     "output_type": "stream",
     "text": [
      "tit\n",
      "seagull\n",
      "owl\n",
      "hawk\n",
      "crow\n"
     ]
    }
   ],
   "source": [
    "# [ ] create a list of 4 to 6 strings: birds\n",
    "# print each bird in the list\n",
    "birds = [\"tit\", \"seagull\", \"owl\", \"hawk\", \"crow\"]\n",
    "\n",
    "for b in birds:\n",
    "    print(b)\n"
   ]
  },
  {
   "cell_type": "code",
   "execution_count": 5,
   "metadata": {
    "collapsed": false
   },
   "outputs": [
    {
     "name": "stdout",
     "output_type": "stream",
     "text": [
      "2\n",
      "4\n",
      "6\n",
      "88\n",
      "10\n",
      "14\n",
      "16\n"
     ]
    }
   ],
   "source": [
    "# [ ]  create a list of 7 integers: player_points\n",
    "# [ ] print double the points for each point value\n",
    "\n",
    "player_points = [1,2,3,44,5,7,8]\n",
    "\n",
    "for p in player_points:\n",
    "    print(p*2)"
   ]
  },
  {
   "cell_type": "code",
   "execution_count": 7,
   "metadata": {
    "collapsed": false
   },
   "outputs": [
    {
     "name": "stdout",
     "output_type": "stream",
     "text": [
      "tit seagull owl hawk crow \n"
     ]
    }
   ],
   "source": [
    "# [ ] create long_string by concatenating the items in the \"birds\" list previously created\n",
    "# print long_string - make sure to put a space betweeen the bird names\n",
    "long_string = \"\"\n",
    "\n",
    "for bi in birds:\n",
    "    long_string += bi + \" \"\n",
    "    \n",
    "print(long_string)\n"
   ]
  },
  {
   "cell_type": "markdown",
   "metadata": {},
   "source": [
    "## Concept: Sort and Filter\n",
    "\n",
    "[![view video](https://iajupyterprodblobs.blob.core.windows.net/imagecontainer/common/play_video.png)]( http://edxinteractivepage.blob.core.windows.net/edxpages/f7cff1a7-5601-48a1-95a6-fd1fdfabd20e.html?details=[{\"src\":\"http://jupyternootbookwams.streaming.mediaservices.windows.net/32652fe3-7d3e-4b7b-b9fb-7f87a6c0ad59/Unit2_Section3.1b-Sort_and_Filter.ism/manifest\",\"type\":\"application/vnd.ms-sstr+xml\"}],[{\"src\":\"http://jupyternootbookwams.streaming.mediaservices.windows.net/32652fe3-7d3e-4b7b-b9fb-7f87a6c0ad59/Unit2_Section3.1b-Sort_and_Filter.vtt\",\"srclang\":\"en\",\"kind\":\"subtitles\",\"label\":\"english\"}])\n",
    "### use comparison operators while iterating lists\n"
   ]
  },
  {
   "cell_type": "markdown",
   "metadata": {},
   "source": [
    "### Examples"
   ]
  },
  {
   "cell_type": "code",
   "execution_count": 8,
   "metadata": {
    "collapsed": false
   },
   "outputs": [
    {
     "name": "stdout",
     "output_type": "stream",
     "text": [
      "\n",
      "calcaneus\n",
      "talus\n",
      "cuboid\n",
      "navicular\n",
      "\n",
      "lateral cuneiform\n",
      "intermediate cuneiform\n",
      "medial cuneiform\n"
     ]
    }
   ],
   "source": [
    "# [ ] review and run example of sorting into strings to display\n",
    "foot_bones = [\"calcaneus\", \"talus\", \"cuboid\", \"navicular\", \"lateral cuneiform\", \n",
    "            \"intermediate cuneiform\", \"medial cuneiform\"]\n",
    "longer_names = \"\"\n",
    "shorter_names = \"\"\n",
    "\n",
    "for bone_name in foot_bones:\n",
    "    if len(bone_name) < 10:\n",
    "        shorter_names += \"\\n\" + bone_name\n",
    "    else:\n",
    "        longer_names += \"\\n\" + bone_name\n",
    "\n",
    "print(shorter_names)\n",
    "print(longer_names)\n"
   ]
  },
  {
   "cell_type": "code",
   "execution_count": 9,
   "metadata": {
    "collapsed": false
   },
   "outputs": [
    {
     "name": "stdout",
     "output_type": "stream",
     "text": [
      "['calcaneus', 'talus', 'cuboid', 'navicular']\n",
      "['lateral cuneiform', 'intermediate cuneiform', 'medial cuneiform']\n"
     ]
    }
   ],
   "source": [
    "# [ ] review and run example of sorting into lists\n",
    "foot_bones = [\"calcaneus\", \"talus\", \"cuboid\", \"navicular\", \"lateral cuneiform\", \n",
    "            \"intermediate cuneiform\", \"medial cuneiform\"]\n",
    "longer_names = []\n",
    "shorter_names = []\n",
    "\n",
    "for bone_name in foot_bones:\n",
    "    if len(bone_name) < 10:\n",
    "        shorter_names.append(bone_name)\n",
    "    else:\n",
    "        longer_names.append(bone_name)\n",
    "\n",
    "print(shorter_names)\n",
    "print(longer_names)"
   ]
  },
  {
   "cell_type": "markdown",
   "metadata": {
    "collapsed": true
   },
   "source": [
    "## Task 2: Sort and filter"
   ]
  },
  {
   "cell_type": "code",
   "execution_count": 23,
   "metadata": {
    "collapsed": false
   },
   "outputs": [
    {
     "name": "stdout",
     "output_type": "stream",
     "text": [
      "['Munich', 'Mexico City']\n"
     ]
    }
   ],
   "source": [
    "# [ ] Using cities from the example above iterate throught the list using \"for\"/\"in\"\n",
    "# [ ] Print only cities starting with \"m\"\n",
    "mc = []\n",
    "for c in cities:\n",
    "    if c.lower().startswith(\"m\"):\n",
    "        mc.append(c)\n",
    "\n",
    "print(mc)"
   ]
  },
  {
   "cell_type": "code",
   "execution_count": 21,
   "metadata": {
    "collapsed": false
   },
   "outputs": [
    {
     "name": "stdout",
     "output_type": "stream",
     "text": [
      "['Shanghai', 'Dubai', 'São Paulo', 'Hyderabad']\n",
      "['New York', 'Munich', 'Tokyo', 'Mexico City']\n"
     ]
    }
   ],
   "source": [
    "# [ ] Using cities from the example above iterate throught the list using \"for\"/\"in\"\n",
    "# cities = [\"New York\", \"Shanghai\", \"Munich\", \"Tokyo\", \"Dubai\", \"Mexico City\", \"São Paulo\", \"Hyderabad\"]\n",
    "# [ ] sort into lists with \"A\" in the city name and without \"A\" in the name: a_city & no_a_city\n",
    "\n",
    "a_city = []\n",
    "no_a_city = []\n",
    "\n",
    "for c in cities:\n",
    "    if \"a\" in c:\n",
    "        a_city.append(c)\n",
    "    else:\n",
    "        no_a_city.append(c)\n",
    "\n",
    "print(a_city)\n",
    "print(no_a_city)"
   ]
  },
  {
   "cell_type": "markdown",
   "metadata": {
    "collapsed": true
   },
   "source": [
    "## Concept: More List Iteration\n",
    "### - Counting\n",
    "### - Searching\n",
    "\n",
    "[![view video](https://iajupyterprodblobs.blob.core.windows.net/imagecontainer/common/play_video.png)]( http://edxinteractivepage.blob.core.windows.net/edxpages/f7cff1a7-5601-48a1-95a6-fd1fdfabd20e.html?details=[{\"src\":\"http://jupyternootbookwams.streaming.mediaservices.windows.net/72acdbd5-454d-4900-b381-387ad49596f1/Unit2_Section3.1c_count_in_iteration.ism/manifest\",\"type\":\"application/vnd.ms-sstr+xml\"}],[{\"src\":\"http://jupyternootbookwams.streaming.mediaservices.windows.net/72acdbd5-454d-4900-b381-387ad49596f1/Unit2_Section3.1c_count_in_iteration.vtt\",\"srclang\":\"en\",\"kind\":\"subtitles\",\"label\":\"english\"}])\n",
    "### use string methods while iterating lists"
   ]
  },
  {
   "cell_type": "markdown",
   "metadata": {},
   "source": [
    "### Examples"
   ]
  },
  {
   "cell_type": "code",
   "execution_count": 22,
   "metadata": {
    "collapsed": false
   },
   "outputs": [
    {
     "name": "stdout",
     "output_type": "stream",
     "text": [
      "The total # of \"a\" found in the list is 6\n"
     ]
    }
   ],
   "source": [
    "# [ ] review and run example\n",
    "# iterates the \"cities\" list, count & sum letter \"a\" in each city name\n",
    "\n",
    "cities = [\"New York\", \"Shanghai\", \"Munich\", \"Tokyo\", \"Dubai\", \"Mexico City\", \"São Paulo\", \"Hyderabad\"]\n",
    "search_letter = \"a\"\n",
    "total = 0\n",
    "\n",
    "for city_name in cities:\n",
    "    total += city_name.lower().count(search_letter)\n",
    "\n",
    "print(\"The total # of \\\"\" + search_letter + \"\\\" found in the list is\", total)"
   ]
  },
  {
   "cell_type": "markdown",
   "metadata": {},
   "source": [
    "### Search function\n",
    "[![view video](https://iajupyterprodblobs.blob.core.windows.net/imagecontainer/common/play_video.png)](http://edxinteractivepage.blob.core.windows.net/edxpages/f7cff1a7-5601-48a1-95a6-fd1fdfabd20e.html?details=[{\"src\":\"http://jupyternootbookwams.streaming.mediaservices.windows.net/2fa709be-5857-4291-beee-4d893d93468e/Unit2_Section3.1d_city_search_function.ism/manifest\",\"type\":\"application/vnd.ms-sstr+xml\"}],[{\"src\":\"http://jupyternootbookwams.streaming.mediaservices.windows.net/2fa709be-5857-4291-beee-4d893d93468e/Unit2_Section3.1d_city_search_function.vtt\",\"srclang\":\"en\",\"kind\":\"subtitles\",\"label\":\"english\"}])"
   ]
  },
  {
   "cell_type": "code",
   "execution_count": 28,
   "metadata": {
    "collapsed": false
   },
   "outputs": [
    {
     "name": "stdout",
     "output_type": "stream",
     "text": [
      "mexico city in default cities is False\n",
      "mexico city in visitied_cites list is True\n"
     ]
    }
   ],
   "source": [
    "# [ ] review and run example\n",
    "# city_search function has a default list of cities to search\n",
    "def city_search(search_item, cities = [\"New York\", \"Shanghai\", \"Munich\", \"Tokyo\"] ):\n",
    "    for city in cities:\n",
    "        if city.lower() == search_item.lower():\n",
    "            return True\n",
    "        else:\n",
    "            # go to the next item\n",
    "            pass\n",
    "    # no more items in list\n",
    "    return False\n",
    "\n",
    "# a list of cities\n",
    "visited_cities = [\"New York\", \"Shanghai\", \"Munich\", \"Tokyo\", \"Dubai\", \"Mexico City\", \"São Paulo\", \"Hyderabad\"]\n",
    "\n",
    "search = input(\"enter a city visited: \")\n",
    "\n",
    "# Search the default city list\n",
    "print(search, \"in default cities is\", city_search(search))\n",
    "\n",
    "# search the list visited_cities using 2nd argument\n",
    "print(search, \"in visitied_cites list is\", city_search(search,visited_cities))"
   ]
  },
  {
   "cell_type": "markdown",
   "metadata": {},
   "source": [
    "## Task 3 (program): Paint Stock  \n",
    "Check a list for a paint color request and print status of color \"found\"/\"not found\".\n",
    "- Create list, paint_colors, with 5+ colors\n",
    "- Get user input of string:color_request\n",
    "- Iterate through each color in paint_colors to check for a match with color_request"
   ]
  },
  {
   "cell_type": "code",
   "execution_count": 30,
   "metadata": {
    "collapsed": false
   },
   "outputs": [
    {
     "name": "stdout",
     "output_type": "stream",
     "text": [
      "purple not found in stock\n"
     ]
    }
   ],
   "source": [
    "# [ ] complete paint stock\n",
    "paint_colours = [\"red\", \"blue\", \"pink\", \"white\", \"black\"]\n",
    "\n",
    "colour_request = input(\"colour\")\n",
    "\n",
    "def paint_search(p_search):\n",
    "    for paint in paint_colours:\n",
    "        if paint.lower() == p_search.lower():\n",
    "            return \"found\"\n",
    "        else:\n",
    "            pass\n",
    "    return \"not found\"\n",
    "\n",
    "print(colour_request, paint_search(colour_request), \"in stock\")\n",
    "\n"
   ]
  },
  {
   "cell_type": "markdown",
   "metadata": {
    "collapsed": true
   },
   "source": [
    "## Task 4 (program): Foot Bones Quiz\n",
    "**Create a function** that will iterate through foot_bones looking for a match of a string argument\n",
    "- Call the function 2 times with the name of a footbone \n",
    "- print immediate feedback for each answer (correct - incorrect)\n",
    "- print the total # of foot_bones identified\n",
    "\n",
    "\n",
    "The program will use the foot_bones list:\n",
    "```python \n",
    "foot_bones = [\"calcaneus\", \"talus\", \"cuboid\", \"navicular\", \"lateral cuneiform\",\n",
    "             \"intermediate cuneiform\", \"medial cuneiform\"]\n",
    "```\n",
    "Bonus: remove correct response item from list if correct so user cannot answer same item twice"
   ]
  },
  {
   "cell_type": "code",
   "execution_count": 52,
   "metadata": {
    "collapsed": false
   },
   "outputs": [
    {
     "name": "stdout",
     "output_type": "stream",
     "text": [
      "f is incorrect\n"
     ]
    }
   ],
   "source": [
    "# [ ] Complete Foot Bones Quiz\n",
    "foot_bones = [\"calcaneus\", \"talus\", \"cuboid\", \"navicular\", \"lateral cuneiform\",\n",
    "            \"intermediate cuneiform\", \"medial cuneiform\"]\n",
    "\n",
    "bone = input(\"bone\")\n",
    "\n",
    "def footbone(quiz):\n",
    "    for b in foot_bones:\n",
    "        if b.lower() == quiz.lower():\n",
    "            return \"correct\"\n",
    "        else:\n",
    "            pass\n",
    "    return \"incorrect\"\n",
    "\n",
    "print(bone, \"is\", footbone(bone))"
   ]
  },
  {
   "cell_type": "code",
   "execution_count": 53,
   "metadata": {
    "collapsed": false
   },
   "outputs": [
    {
     "name": "stdout",
     "output_type": "stream",
     "text": [
      "talus correct\n",
      "['calcaneus', 'cuboid', 'navicular', 'lateral cuneiform', 'intermediate cuneiform', 'medial cuneiform']\n"
     ]
    }
   ],
   "source": [
    "# [ ] bonus version\n",
    "\n",
    "bone = input(\"bone\")\n",
    "\n",
    "def footbone(quiz):\n",
    "    for b in foot_bones:\n",
    "        if b.lower() == quiz.lower():\n",
    "            foot_bones.remove(quiz)\n",
    "            return \"correct\"\n",
    "        else:\n",
    "            pass\n",
    "    return \"incorrect\"\n",
    "\n",
    "print(bone, footbone(bone))"
   ]
  },
  {
   "cell_type": "markdown",
   "metadata": {
    "collapsed": true
   },
   "source": [
    "[Terms of use](http://go.microsoft.com/fwlink/?LinkID=206977) &nbsp; [Privacy & cookies](https://go.microsoft.com/fwlink/?LinkId=521839) &nbsp; © 2017 Microsoft"
   ]
  }
 ],
 "metadata": {
  "anaconda-cloud": {},
  "kernelspec": {
   "display_name": "Python 3",
   "language": "python",
   "name": "python3"
  },
  "language_info": {
   "codemirror_mode": {
    "name": "ipython",
    "version": 3
   },
   "file_extension": ".py",
   "mimetype": "text/x-python",
   "name": "python",
   "nbconvert_exporter": "python",
   "pygments_lexer": "ipython3",
   "version": "3.8.13 (default, Oct  4 2022, 14:00:32) \n[GCC 9.4.0]"
  },
  "vscode": {
   "interpreter": {
    "hash": "9ac03a0a6051494cc606d484d27d20fce22fb7b4d169f583271e11d5ba46a56e"
   }
  }
 },
 "nbformat": 4,
 "nbformat_minor": 1
}
