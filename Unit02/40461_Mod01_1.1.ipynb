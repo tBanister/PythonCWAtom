{
  "cells": [
    {
      "cell_type": "markdown",
      "metadata": {},
      "source": [
        "# Section 1.1\n",
        "## String Sequences\n",
        "- **Accessing string characters with index**\n",
        "- Accessing substrings with index slicing\n",
        "- Iterating through characters of a string\n",
        "- More string methods\n",
        "\n",
        "----- \n",
        "\n",
        "### Student will be able to\n",
        "- **Work with string characters by index**\n",
        "- Slice strings into substrings\n",
        "- Iterate through string characters\n",
        "- Use string methods"
      ]
    },
    {
      "cell_type": "markdown",
      "metadata": {
        "collapsed": true
      },
      "source": [
        "## Concept: Accessing a Single String Character\n",
        "[![view video](https://iajupyterprodblobs.blob.core.windows.net/imagecontainer/common/play_video.png)]( http://edxinteractivepage.blob.core.windows.net/edxpages/f7cff1a7-5601-48a1-95a6-fd1fdfabd20e.html?details=[{\"src\":\"http://jupyternootbookwams.streaming.mediaservices.windows.net/a8044252-4f2f-4960-b37b-70da8fe4769a/Unit2_Section1.1a-String_Index_Address.ism/manifest\",\"type\":\"application/vnd.ms-sstr+xml\"}],[{\"src\":\"http://jupyternootbookwams.streaming.mediaservices.windows.net/a8044252-4f2f-4960-b37b-70da8fe4769a/Unit2_Section1.1a-String_Index_Address.vtt\",\"srclang\":\"en\",\"kind\":\"subtitles\",\"label\":\"english\"}])\n",
        "### Addressing a string index\n",
        "Strings are sequences of characters.  Another common sequence type used in this course is a **list**.  Sequences index items counting from 0 for the first item.\n",
        "\n",
        "![string with index for each letter](https://iajupyterprodblobs.blob.core.windows.net/imagecontainer/string_indexes.PNG)  \n",
        "\n",
        "```python\n",
        "# assign string to student_name\n",
        "student_name = \"Alton\"\n",
        "# first character is at index 0\n",
        "student_name[0]\n",
        "```  \n"
      ]
    },
    {
      "cell_type": "markdown",
      "metadata": {},
      "source": [
        "### Examples"
      ]
    },
    {
      "cell_type": "code",
      "execution_count": 1,
      "metadata": {
        "collapsed": true,
        "trusted": false
      },
      "outputs": [
        {
          "name": "stdout",
          "output_type": "stream",
          "text": [
            "A <-- first character at index 0\n",
            "l\n",
            "t\n",
            "o\n",
            "n\n"
          ]
        }
      ],
      "source": [
        "# [ ] review and run example - note the first element is always index = 0\n",
        "student_name = \"Alton\"\n",
        "print(student_name[0], \"<-- first character at index 0\")\n",
        "print(student_name[1])\n",
        "print(student_name[2])\n",
        "print(student_name[3])\n",
        "print(student_name[4])"
      ]
    },
    {
      "cell_type": "code",
      "execution_count": 2,
      "metadata": {
        "trusted": false
      },
      "outputs": [
        {
          "name": "stdout",
          "output_type": "stream",
          "text": [
            "Winner! Name starts with J: Jin\n"
          ]
        }
      ],
      "source": [
        "# [ ] review and run example\n",
        "student_name = \"Jin\"\n",
        "if student_name[0].lower() == \"a\":\n",
        "    print('Winner! Name starts with A:', student_name)\n",
        "elif student_name[0].lower() == \"j\":\n",
        "    print('Winner! Name starts with J:', student_name)\n",
        "else:\n",
        "    print('Not a match, try again tomorrow:', student_name)"
      ]
    },
    {
      "cell_type": "code",
      "execution_count": 3,
      "metadata": {
        "trusted": false
      },
      "outputs": [
        {
          "ename": "IndexError",
          "evalue": "string index out of range",
          "output_type": "error",
          "traceback": [
            "\u001b[1;31m---------------------------------------------------------------------------\u001b[0m",
            "\u001b[1;31mIndexError\u001b[0m                                Traceback (most recent call last)",
            "Cell \u001b[1;32mIn[3], line 4\u001b[0m\n\u001b[0;32m      1\u001b[0m \u001b[38;5;66;03m# [ ] review and run ERROR example\u001b[39;00m\n\u001b[0;32m      2\u001b[0m \u001b[38;5;66;03m# cannot index out of range\u001b[39;00m\n\u001b[0;32m      3\u001b[0m student_name \u001b[38;5;241m=\u001b[39m \u001b[38;5;124m\"\u001b[39m\u001b[38;5;124mTobias\u001b[39m\u001b[38;5;124m\"\u001b[39m\n\u001b[1;32m----> 4\u001b[0m \u001b[38;5;28mprint\u001b[39m(\u001b[43mstudent_name\u001b[49m\u001b[43m[\u001b[49m\u001b[38;5;241;43m6\u001b[39;49m\u001b[43m]\u001b[49m)\n",
            "\u001b[1;31mIndexError\u001b[0m: string index out of range"
          ]
        }
      ],
      "source": [
        "# [ ] review and run ERROR example\n",
        "# cannot index out of range\n",
        "student_name = \"Tobias\"\n",
        "print(student_name[6])"
      ]
    },
    {
      "cell_type": "markdown",
      "metadata": {
        "collapsed": true
      },
      "source": [
        "## Task 1: Work with individual string characters  \n",
        "\n",
        "|                                                                 |\n",
        "|-----------------------------------------------------------------|\n",
        "| **Remember:** The first character in a string is at **index 0**.|\n",
        "|                                                                 |\n"
      ]
    },
    {
      "cell_type": "code",
      "execution_count": 7,
      "metadata": {
        "trusted": false
      },
      "outputs": [
        {
          "name": "stdout",
          "output_type": "stream",
          "text": [
            "W\n",
            "s\n",
            "e\n"
          ]
        }
      ],
      "source": [
        "# [ ] assign a string 5 or more letters long to the variable: street_name\n",
        "# [ ] print the 1st, 3rd and 5th characters\n",
        "street_name = \"Wisbech\"\n",
        "print(street_name[0])\n",
        "print(street_name[2])\n",
        "print(street_name[4])\n"
      ]
    },
    {
      "cell_type": "code",
      "execution_count": 3,
      "metadata": {
        "trusted": false
      },
      "outputs": [
        {
          "name": "stdout",
          "output_type": "stream",
          "text": [
            "\"i\" Is the 2nd letter in City\n"
          ]
        }
      ],
      "source": [
        "# [ ] Create an input variable: team_name - ask that second letter = \"i\", \"o\", or \"u\"\n",
        "# [ ] Test if team_name 2nd character = \"i\", \"o\", or \"u\" and print a message\n",
        "# note: use if, elif and else\n",
        "team_name = input(\"Team name\")\n",
        "if team_name[1].lower() == \"i\":\n",
        "    print(\"\\\"i\\\" Is the 2nd letter in\", team_name.title())\n",
        "elif team_name[1].lower() == \"o\":\n",
        "    print(\"\\\"o\\\" Is the 2nd letter in\", team_name.title())\n",
        "elif team_name[1].lower() == \"u\":\n",
        "    print(\"\\\"u\\\" Is the 2nd letter in\", team_name.title())\n",
        "else:\n",
        "    print(\"\\\"i\\\", \\\"o\\\" or \\\"u\\\" is not the second letter\") "
      ]
    },
    {
      "cell_type": "markdown",
      "metadata": {},
      "source": [
        "## Concept: Using a Negative Index \n",
        "[![view video](https://iajupyterprodblobs.blob.core.windows.net/imagecontainer/common/play_video.png)](http://edxinteractivepage.blob.core.windows.net/edxpages/f7cff1a7-5601-48a1-95a6-fd1fdfabd20e.html?details=[{\"src\":\"http://jupyternootbookwams.streaming.mediaservices.windows.net/28da3b48-538d-4412-ae7b-ce95e9892ce9/Unit2_Section1.1b-Using_a_Negative_Index.ism/manifest\",\"type\":\"application/vnd.ms-sstr+xml\"}],[{\"src\":\"http://jupyternootbookwams.streaming.mediaservices.windows.net/28da3b48-538d-4412-ae7b-ce95e9892ce9/Unit2_Section1.1b-Using_a_Negative_Index.vtt\",\"srclang\":\"en\",\"kind\":\"subtitles\",\"label\":\"english\"}])\n",
        "### Access the end of a string using -1\n",
        "Strings assign an **index** number address to each string character\n",
        "\n",
        "- First character in a string is index 0\n",
        "- Last character in a string is index **-1**\n",
        "\n",
        "![negative string index counts from the end](https://iajupyterprodblobs.blob.core.windows.net/imagecontainer/string_neg_index.PNG)\n",
        "\n",
        "To access the last character in a string:\n",
        "```python\n",
        "student_name[-1]\n",
        "```\n"
      ]
    },
    {
      "cell_type": "markdown",
      "metadata": {},
      "source": [
        "### Examples\n",
        "\n"
      ]
    },
    {
      "cell_type": "markdown",
      "metadata": {},
      "source": [
        "#### access the last character with the -1 index\n",
        "negative index counts back from the last character in a string  "
      ]
    },
    {
      "cell_type": "code",
      "execution_count": 4,
      "metadata": {
        "trusted": false
      },
      "outputs": [
        {
          "name": "stdout",
          "output_type": "stream",
          "text": [
            "Joana ends with 'a'\n"
          ]
        }
      ],
      "source": [
        "# [ ] review and run example\n",
        "student_name = \"Joana\"\n",
        "\n",
        "# get last letter\n",
        "end_letter = student_name[-1]\n",
        "print(student_name,\"ends with\", \"'\" + end_letter + \"'\")"
      ]
    },
    {
      "cell_type": "code",
      "execution_count": 5,
      "metadata": {
        "trusted": false
      },
      "outputs": [
        {
          "name": "stdout",
          "output_type": "stream",
          "text": [
            "Joana has 2nd to last letter of 'n'\n"
          ]
        }
      ],
      "source": [
        "# [ ] review and run example\n",
        "# get second to last letter\n",
        "second_last_letter = student_name[-2]\n",
        "print(student_name,\"has 2nd to last letter of\", \"'\" + second_last_letter + \"'\")"
      ]
    },
    {
      "cell_type": "code",
      "execution_count": 6,
      "metadata": {
        "trusted": false
      },
      "outputs": [
        {
          "name": "stdout",
          "output_type": "stream",
          "text": [
            "for Joana\n",
            "index 3 = 'n'\n",
            "index -2 = 'n'\n"
          ]
        }
      ],
      "source": [
        "# [ ] review and run example\n",
        "# you can get to the same letter with index counting + or -\n",
        "print(\"for\", student_name)\n",
        "print(\"index 3 =\", \"'\" + student_name[3] + \"'\")\n",
        "print(\"index -2 =\",\"'\" + student_name[-2] + \"'\")"
      ]
    },
    {
      "cell_type": "markdown",
      "metadata": {
        "collapsed": true
      },
      "source": [
        "## Task 2\n"
      ]
    },
    {
      "cell_type": "code",
      "execution_count": 9,
      "metadata": {
        "trusted": false
      },
      "outputs": [
        {
          "name": "stdout",
          "output_type": "stream",
          "text": [
            "h\n",
            "c\n",
            "e\n"
          ]
        }
      ],
      "source": [
        "# [ ] assign a string 5 or more letters long to the variable: street_name\n",
        "# [ ] print the last 3 characters of street_name\n",
        "print(street_name[-1])\n",
        "print(street_name[-2])\n",
        "print(street_name[-3])"
      ]
    },
    {
      "cell_type": "code",
      "execution_count": 11,
      "metadata": {
        "trusted": false
      },
      "outputs": [
        {
          "name": "stdout",
          "output_type": "stream",
          "text": [
            "The First letter is 'T'. The Last letter is 's'.\n"
          ]
        }
      ],
      "source": [
        "# [ ] create and assign string variable: first_name\n",
        "first_name = \"Thomas\"\n",
        "# [ ] print the first and last letters of name\n",
        "print(\"The First letter is\", \"'\"+ first_name[0] + \"'.\", \"The Last letter is\", \"'\"+ first_name[-1] + \"'.\")\n"
      ]
    },
    {
      "cell_type": "markdown",
      "metadata": {
        "collapsed": true
      },
      "source": [
        "## Task 3: Fix the errors"
      ]
    },
    {
      "cell_type": "code",
      "execution_count": 13,
      "metadata": {
        "trusted": false
      },
      "outputs": [
        {
          "name": "stdout",
          "output_type": "stream",
          "text": [
            "s\n"
          ]
        }
      ],
      "source": [
        "# [ ] Review, Run, Fix the error using string index\n",
        "shoe = \"tennis\"\n",
        "# print the last letter\n",
        "print(shoe[-1])\n",
        "\n"
      ]
    },
    {
      "cell_type": "markdown",
      "metadata": {},
      "source": [
        "[Terms of use](http://go.microsoft.com/fwlink/?LinkID=206977) &nbsp; [Privacy & cookies](https://go.microsoft.com/fwlink/?LinkId=521839) &nbsp; © 2017 Microsoft"
      ]
    }
  ],
  "metadata": {
    "anaconda-cloud": {},
    "kernelspec": {
      "display_name": "Python 3.9.0 64-bit",
      "language": "python",
      "name": "python3"
    },
    "language_info": {
      "codemirror_mode": {
        "name": "ipython",
        "version": 3
      },
      "file_extension": ".py",
      "mimetype": "text/x-python",
      "name": "python",
      "nbconvert_exporter": "python",
      "pygments_lexer": "ipython3",
      "version": "3.9.0 (tags/v3.9.0:9cf6752, Oct  5 2020, 15:34:40) [MSC v.1927 64 bit (AMD64)]"
    },
    "vscode": {
      "interpreter": {
        "hash": "11938c6bc6919ae2720b4d5011047913343b08a43b18698fd82dedb0d4417594"
      }
    }
  },
  "nbformat": 4,
  "nbformat_minor": 1
}
