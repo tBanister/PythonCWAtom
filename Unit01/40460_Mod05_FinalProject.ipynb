{
  "cells": [
    {
      "cell_type": "markdown",
      "metadata": {
        "collapsed": true
      },
      "source": [
        "#  Final Project Required Coding Activity  \n",
        "Course 40460: Introduction to Python, Unit 1 \n",
        "\n",
        "The activity is based on Modules 1 - 4 and is similar to the Jupyter Notebooks for Module 4 practice, which you may have completed.\n",
        "\n",
        "| Some Assignment Requirements |\n",
        "|:-------------------------------|\n",
        "|This program requires the use of<ul><li>**`while`** loop</li><li>**`if, elif, else`**</li><li>**`if,else`** (nested)</li><li>**casting** of type,  between strings and numbers</li></ul><br/>The program should **only** use code syntax covered in modules 1 - 4.<br/><br/>The program must result in print output using the numeric input, similar to that shown in the samples displaying \"Items\" and \"Total\".  |\n",
        "\n",
        "\n",
        "## Program: `adding_report()` function  \n",
        "This program calls the adding_report() function which repeatedly takes positive integer input until the user quits and then sums the integers and prints a \"report\".    \n",
        "The **adding_report()** function has 1 string parameter which indicates the type of report:  \n",
        "- \"A\" used as the argument to adding_report() results in printing of all of the input integers and the total  \n",
        "- \"T\" used as the argument results in printing only the total   \n",
        "\n",
        "#### Sample input and output:  \n",
        "call adding_report() with \"A\" as argument (print all the integers entered and the total)  \n",
        "```\n",
        "Input an integer to add to the total or \"Q\" to quit\n",
        "Enter an integer or \"Q\"): 3\n",
        "Enter an integer or \"Q\"): 6\n",
        "Enter an integer or \"Q\"): 24\n",
        "Enter an integer or \"Q\"): 17\n",
        "Enter an integer or \"Q\"): 61\n",
        "Enter an integer or \"Q\"): nine\n",
        "nine is invalid input\n",
        "Enter an integer or \"Q\"): q\n",
        "\n",
        "Items\n",
        "3\n",
        "6\n",
        "24\n",
        "17\n",
        "61\n",
        "\n",
        "Total\n",
        " 111\n",
        "```  \n",
        "\n",
        "call with \"T\"(print only the total)  \n",
        "```\n",
        "Input an integer to add to the total or \"Q\" to quit\n",
        "Enter an integer or \"Q\": 5\n",
        "Enter an integer or \"Q\": 7\n",
        "Enter an integer or \"Q\": Quit\n",
        "\n",
        "Total\n",
        " 12\n",
        "```  \n",
        "\n",
        "### The forever (while True) loop diagram  \n",
        "This diagram represents only part of the assignment - it is the loop and nested if statements inside the function.  The code will enter at the while True loop after initializing variables.  \n",
        "\n",
        "![image of while True Loop with nested if statements described in bulleted text above](https://iajupyterprodblobs.blob.core.windows.net/imagecontainer/adding_report_loop_sketch.png)\n",
        "\n",
        "### Additional Details\n",
        "  \n",
        "- initialize `total` variable which will sum integer values entered  \n",
        "- initialize `items` variable which will build a string of the integer inputs separated with a *new line character*  \n",
        "- define the `adding_report` function with one parameter `report` that will be a string with default of \"T\"  \n",
        "- inside the function build a forever loop (infinite while loop) and inside the loop complete the following  \n",
        "  - use a variable to gather input (integer or \"Q\")  \n",
        "  - check if the input string is a digit (integer) and if it is...  \n",
        "    - add input iteger to total  \n",
        "    - if report type is \"A\" add the numeric character(s) to the item string seperated by a new line  \n",
        "  - if not a digit, check if the input string is \"Q\" or starts with a \"Q\", **if \"Q\"** then...  \n",
        "    - if the report type is \"A\" print out all the integer items entered and the sum total  \n",
        "    - if report type is \"T\" then print out the sum total only  \n",
        "    - `break` out of while loop to end the function after printing the report (\"A\" or \"T\") \n",
        "  - if not a digit and if not a \"Q\" then print a message that the \"input is invalid\"  \n",
        "\n",
        "- Call the `adding_report` function with \"A\" and then with \"T\" report parameters  \n",
        "- Run and test your code before submitting"
      ]
    },
    {
      "cell_type": "code",
      "execution_count": 28,
      "metadata": {
        "collapsed": true,
        "trusted": false
      },
      "outputs": [
        {
          "name": "stdout",
          "output_type": "stream",
          "text": [
            "\n",
            "\tTotal:\n",
            "\t0\n"
          ]
        }
      ],
      "source": [
        "# [ ] create, call and test the adding_report() function\n",
        "# Adding report Function has a defalut argument of \"T\" (Total only), But also expects \"A\" (All entries and total)\n",
        "\n",
        "\n",
        "def adding_report(TorA):\n",
        "    total = 0\n",
        "    items = \"\"\n",
        "    while TorA.lower() == \"t\":\n",
        "        inum1= input(\"input integer or 'q' to quit\")\n",
        "        if inum1.isdigit():\n",
        "            total += int(inum1)\n",
        "        elif inum1.lower() == \"q\":\n",
        "            break\n",
        "        else:\n",
        "            print(\"Only integers allowed\")\n",
        "    while TorA.lower() == \"a\":\n",
        "        inum2 = input(\"input integer or 'q' to quit\")\n",
        "        if inum2.isdigit():\n",
        "            total += int(inum2)\n",
        "            items += \"\\n\\t\"+inum2\n",
        "        elif inum2.lower() == \"q\":\n",
        "            print(\"\\tItems:\\t\" + items)\n",
        "            break \n",
        "        else:\n",
        "            print(\"Only integers allowed\")\n",
        "            \n",
        "    return print(\"\\n\\tTotal:\\n\\t\" + str(total))\n",
        "\n",
        "        \n",
        "\n",
        "adding_report(input(\"TorA?\"))"
      ]
    },
    {
      "cell_type": "markdown",
      "metadata": {},
      "source": [
        "[Terms of use](http://go.microsoft.com/fwlink/?LinkID=206977) &nbsp; [Privacy & cookies](https://go.microsoft.com/fwlink/?LinkId=521839) &nbsp; © 2017 Microsoft"
      ]
    }
  ],
  "metadata": {
    "kernelspec": {
      "display_name": "Python 3",
      "language": "python",
      "name": "python3"
    },
    "language_info": {
      "codemirror_mode": {
        "name": "ipython",
        "version": 3
      },
      "file_extension": ".py",
      "mimetype": "text/x-python",
      "name": "python",
      "nbconvert_exporter": "python",
      "pygments_lexer": "ipython3",
      "version": "3.8.13"
    },
    "vscode": {
      "interpreter": {
        "hash": "9ac03a0a6051494cc606d484d27d20fce22fb7b4d169f583271e11d5ba46a56e"
      }
    }
  },
  "nbformat": 4,
  "nbformat_minor": 1
}
