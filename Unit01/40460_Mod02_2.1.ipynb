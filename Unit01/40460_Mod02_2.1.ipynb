{
 "cells": [
  {
   "cell_type": "markdown",
   "metadata": {},
   "source": [
    "# Section 2.1\n",
    "## Simple Functions\n",
    "- **Creating a simple function with a parameter**\n",
    "- Exploring functions with `return` values \n",
    "- Creating functions with multiple parameters\n",
    "- Sequence in Python  \n",
    "\n",
    "-----\n",
    "\n",
    "### Student will be able to\n",
    "- **Create functions with a parameter**  \n",
    "- Create functions with a `return` value \n",
    "- Create functions with multiple parameters\n",
    "- Use knowledge of sequence in coding tasks  \n",
    "- Use coding best practices "
   ]
  },
  {
   "cell_type": "markdown",
   "metadata": {},
   "source": [
    "## Concept: Functions with Arguments\n",
    "Functions are used for code tasks that are intended to be reused. \n",
    "\n",
    "[![view video](https://iajupyterprodblobs.blob.core.windows.net/imagecontainer/common/play_video.png)]( http://edxinteractivepage.blob.core.windows.net/edxpages/f7cff1a7-5601-48a1-95a6-fd1fdfabd20e.html?details=[{\"src\":\"http://jupyternootbookwams.streaming.mediaservices.windows.net/621d10f8-23d5-4571-b0fd-aa12b0de98d8/Unit1_Section3.1-function-arguments.ism/manifest\",\"type\":\"application/vnd.ms-sstr+xml\"}],[{\"src\":\"http://jupyternootbookwams.streaming.mediaservices.windows.net/621d10f8-23d5-4571-b0fd-aa12b0de98d8/Unit1_Section3.1-function-arguments.vtt\",\"srclang\":\"en\",\"kind\":\"subtitles\",\"label\":\"english\"}])\n",
    "\n",
    "Python allows us to create **User Defined Functions** and provides many **Built-in Functions** such as **`print()`**.  \n",
    "- **`print()`** can be called using arguments (or without) and sends text to standard output, such as the console. \n",
    "- **`print()`** uses **Parameters** to define the variable Arguments that can be passed to the Function. \n",
    "- **`print()`** defines multiple string/numbers parameters which means we can send a long list of Arguments to **`print()`**, separated by commas.   \n",
    "- **`print()`** can also be called directly with just its name and empty parenthesis and it will return a blank line to standard output."
   ]
  },
  {
   "cell_type": "markdown",
   "metadata": {},
   "source": [
    "### Examples"
   ]
  },
  {
   "cell_type": "code",
   "execution_count": 1,
   "metadata": {
    "collapsed": false
   },
   "outputs": [
    {
     "name": "stdout",
     "output_type": "stream",
     "text": [
      "Hello World! I am sending string arguments to print \n"
     ]
    }
   ],
   "source": [
    "print('Hello World!', 'I am sending string arguments to print ')"
   ]
  },
  {
   "cell_type": "code",
   "execution_count": null,
   "metadata": {
    "collapsed": false
   },
   "outputs": [],
   "source": [
    "student_age = 17\n",
    "student_name = \"Hiroto Yamaguchi\"\n",
    "print(student_name,'will be in the class for',student_age, 'year old students.')"
   ]
  },
  {
   "cell_type": "code",
   "execution_count": null,
   "metadata": {
    "collapsed": false
   },
   "outputs": [],
   "source": [
    "print(\"line 1\")\n",
    "print(\"line 2\")\n",
    "# line 3 is an empty return - the default when no arguments\n",
    "print()\n",
    "print(\"line 4\")"
   ]
  },
  {
   "cell_type": "markdown",
   "metadata": {},
   "source": [
    "## Task 1: Passing arguments to `print()` \n",
    "### Many arguments can be passed to print \n",
    "\n",
    "- Update the print statement to use **`print()`** with **8** or more arguments"
   ]
  },
  {
   "cell_type": "code",
   "execution_count": null,
   "metadata": {
    "collapsed": false
   },
   "outputs": [],
   "source": [
    "#[ ] increase the number of arguments used in print() to 8 or more \n",
    "student_age = 17\n",
    "student_name = \"Hiroto Yamaguchi\"\n",
    "print(student_name,'will be in the class for',student_age, 'year old students.')\n",
    "\n"
   ]
  },
  {
   "cell_type": "markdown",
   "metadata": {
    "collapsed": true
   },
   "source": [
    "# &nbsp;\n",
    "<font size=\"6\" color=\"#00A0B2\"  face=\"verdana\"> <B></B></font>\n",
    "## Concept: Simple Functions\n",
    "Creating user-defined functions is at the core of computer programming.  Functions enable code reuse and make code easier to develop and maintain.\n",
    "[![view video](https://iajupyterprodblobs.blob.core.windows.net/imagecontainer/common/play_video.png)]( http://edxinteractivepage.blob.core.windows.net/edxpages/f7cff1a7-5601-48a1-95a6-fd1fdfabd20e.html?details=[{\"src\":\"http://jupyternootbookwams.streaming.mediaservices.windows.net/35458114-6211-4d10-85bc-7c4eb7834c52/Unit1_Section3.1-Simplest_Functions.ism/manifest\",\"type\":\"application/vnd.ms-sstr+xml\"}],[{\"src\":\"http://jupyternootbookwams.streaming.mediaservices.windows.net/35458114-6211-4d10-85bc-7c4eb7834c52/Unit1_Section3.1-Simplest_Functions.vtt\",\"srclang\":\"en\",\"kind\":\"subtitles\",\"label\":\"english\"}])\n",
    "### Basics of a user-defined function\n",
    "- Define a function with **`def`** \n",
    "- Use indentation (4 spaces)\n",
    "- Define parameters\n",
    "- Optional parameters \n",
    "- **`return`** values (or none)\n",
    "- Function scope (basics defaults)  \n"
   ]
  },
  {
   "cell_type": "markdown",
   "metadata": {},
   "source": [
    "### `def some_function():`\n",
    "Use the &nbsp;**`def`** &nbsp;statement when creating a **function**.  \n",
    "- Use a function name that **starts with a letter** or underscore (usually a lowercase letter).\n",
    "- Function names can contain **letters, numbers or underscores**.\n",
    "- Parentheses &nbsp; **()**  &nbsp; follow the function name.\n",
    "- A colon &nbsp; **:**  &nbsp; follows the parenthesis.\n",
    "- The code for the function is indented under the function definition (use 4 spaces for this course).\n",
    "\n",
    "```python\n",
    "def some_function():\n",
    "   #code the function tasks indented here    \n",
    "```\n",
    "The **end of the function** is denoted by returning to **no indentation**."
   ]
  },
  {
   "cell_type": "markdown",
   "metadata": {},
   "source": [
    "### Examples"
   ]
  },
  {
   "cell_type": "code",
   "execution_count": null,
   "metadata": {
    "collapsed": true
   },
   "outputs": [],
   "source": [
    "# defines a function named say_hi\n",
    "def say_hi():\n",
    "    print(\"Hello there!\")\n",
    "    print(\"goodbye\")"
   ]
  },
  {
   "cell_type": "code",
   "execution_count": null,
   "metadata": {
    "collapsed": true
   },
   "outputs": [],
   "source": [
    "# define three_three \n",
    "def three_three():\n",
    "    print(33) "
   ]
  },
  {
   "cell_type": "markdown",
   "metadata": {},
   "source": [
    "\n",
    "## Concept: Calling Functions\n",
    "Call a simple function using the function name followed by parentheses.  For instance, calling print is  \n",
    "**`print()`**"
   ]
  },
  {
   "cell_type": "markdown",
   "metadata": {},
   "source": [
    "### Examples"
   ]
  },
  {
   "cell_type": "code",
   "execution_count": null,
   "metadata": {
    "collapsed": false
   },
   "outputs": [],
   "source": [
    "# Program defines and calls the say_hi & three_three functions\n",
    "# [ ] review and run the code\n",
    "\n",
    "def say_hi():\n",
    "    print(\"Hello there!\")\n",
    "    print(\"goodbye\")\n",
    "# end of indentation ends the function\n",
    "\n",
    "# define three_three \n",
    "def three_three():\n",
    "    print(33) \n",
    "\n",
    "# calling the functions\n",
    "say_hi()\n",
    "print()\n",
    "three_three()"
   ]
  },
  {
   "cell_type": "markdown",
   "metadata": {},
   "source": [
    "## Task 2: Define and call a simple function `yell_it()` \n",
    "### `yell_it()` &nbsp; prints the phrase with \"!\" concatenated to the end\n",
    "- Takes no arguments\n",
    "- Indented function code does the following\n",
    "  - Define a variable for called **`phrase`** and intialize with a short *phrase*\n",
    "  - Prints **`phrase`** as all upper-case letters followed by \"!\"\n",
    "- Call &nbsp; `yell_it` &nbsp; at the bottom of the cell after the function &nbsp;**`def`**.&nbsp; (**Tip:** no indentation should be used.)"
   ]
  },
  {
   "cell_type": "code",
   "execution_count": null,
   "metadata": {
    "collapsed": false
   },
   "outputs": [],
   "source": [
    "#[ ] define (def) a simple function called yell_it() and call the function\n",
    "\n"
   ]
  },
  {
   "cell_type": "markdown",
   "metadata": {},
   "source": [
    "## Concept: Function Parameters\n",
    "[![view video](https://iajupyterprodblobs.blob.core.windows.net/imagecontainer/common/play_video.png)]( http://edxinteractivepage.blob.core.windows.net/edxpages/f7cff1a7-5601-48a1-95a6-fd1fdfabd20e.html?details=[{\"src\":\"http://jupyternootbookwams.streaming.mediaservices.windows.net/c84008fa-2ec9-4e4b-8b6b-15b9063852a1/Unit1_Section3.1-funct-parameter.ism/manifest\",\"type\":\"application/vnd.ms-sstr+xml\"}],[{\"src\":\"http://jupyternootbookwams.streaming.mediaservices.windows.net/c84008fa-2ec9-4e4b-8b6b-15b9063852a1/Unit1_Section3.1-funct-parameter.vtt\",\"srclang\":\"en\",\"kind\":\"subtitles\",\"label\":\"english\"}])\n",
    "**`print()`** and **`type()`** are examples of built-in functions that have **parameters** defined.  \n",
    "  \n",
    "**`type()`** has a parameter for a **Python Object** and sends back the *type* of the object.\n",
    "  \n",
    "An **Argument** is a value given for a parameter when calling a function.  \n",
    "- **`type`** is called providing an **Argument** - in this case the string *\"Hello\"*\n",
    "```python\n",
    "type(\"Hello\")\n",
    "```  \n",
    "\n",
    "### Defining function parameters\n",
    "- Parameters are defined inside of the parentheses as part of a function **`def`** statement\n",
    "- Parameters are typically copies of objects that are available for use in function code\n",
    "```python\n",
    "def say_this(phrase):  \n",
    "      print(phrase)\n",
    "```  \n",
    "### Functions can have default arguments\n",
    "- Default arguments are used if no argument is supplied\n",
    "- Default arguments are assigned when creating the parameter list\n",
    "```python\n",
    "def say_this(phrase = \"Hi\"):  \n",
    "      print(phrase)\n",
    "```"
   ]
  },
  {
   "cell_type": "markdown",
   "metadata": {},
   "source": [
    "### Example"
   ]
  },
  {
   "cell_type": "code",
   "execution_count": null,
   "metadata": {
    "collapsed": false
   },
   "outputs": [],
   "source": [
    "# yell_this() yells the string Argument provided\n",
    "def yell_this(phrase):\n",
    "    print(phrase.upper() + \"!\")\n",
    "    \n",
    "# call function with a string\n",
    "yell_this(\"It is time to save the notebook\")"
   ]
  },
  {
   "cell_type": "code",
   "execution_count": null,
   "metadata": {
    "collapsed": false
   },
   "outputs": [],
   "source": [
    "# use a default argument\n",
    "def say_this(phrase = \"Hi\"):  \n",
    "    print(phrase)\n",
    "        \n",
    "say_this()\n",
    "say_this(\"Bye\")"
   ]
  },
  {
   "cell_type": "markdown",
   "metadata": {},
   "source": [
    "## Task 3: Define `yell_this()` and call with variable argument \n",
    "- Define variable &nbsp; **`words_to_yell`** &nbsp; as a string gathered from user&nbsp; `input()`\n",
    "- Call &nbsp;**`yell_this()`** &nbsp;with &nbsp; **`words_to_yell`** &nbsp;as argument\n",
    "- Get user input() for the string words_to_yell"
   ]
  },
  {
   "cell_type": "code",
   "execution_count": null,
   "metadata": {
    "collapsed": false
   },
   "outputs": [],
   "source": [
    "# [ ] define yell_this() \n",
    "\n",
    "# [ ] get user input in variable words_to_yell\n",
    "\n",
    "# [ ] call yell_this function with words_to_yell as argument\n",
    "\n"
   ]
  },
  {
   "cell_type": "markdown",
   "metadata": {},
   "source": [
    "[Terms of use](http://go.microsoft.com/fwlink/?LinkID=206977) &nbsp; [Privacy & cookies](https://go.microsoft.com/fwlink/?LinkId=521839) &nbsp; © 2017 Microsoft"
   ]
  }
 ],
 "metadata": {
  "anaconda-cloud": {},
  "kernelspec": {
   "display_name": "Python 3",
   "language": "python",
   "name": "python3"
  },
  "language_info": {
   "codemirror_mode": {
    "name": "ipython",
    "version": 3
   },
   "file_extension": ".py",
   "mimetype": "text/x-python",
   "name": "python",
   "nbconvert_exporter": "python",
   "pygments_lexer": "ipython3",
   "version": "3.8.13 (default, Oct  4 2022, 14:00:32) \n[GCC 9.4.0]"
  },
  "vscode": {
   "interpreter": {
    "hash": "110cc1dee26208153f2972f08a2ad52b6a56238dc66d48e87fb757ef2996db56"
   }
  }
 },
 "nbformat": 4,
 "nbformat_minor": 1
}
