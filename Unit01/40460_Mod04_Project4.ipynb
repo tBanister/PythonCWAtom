{
  "cells": [
    {
      "cell_type": "markdown",
      "metadata": {
        "collapsed": true
      },
      "source": [
        "#  Module 4 Required Coding Activity  \n",
        "Introduction to Python Unit 1 \n",
        "\n",
        "The activity is based on Modules 1 - 4 and is similar to the Jupyter Notebooks for Module 4 practice, which you may have completed.  This activity is a new version of the str_analysis() function.\n",
        "\n",
        "| Some Assignment Requirements |\n",
        "|:-------------------------------|\n",
        "|This program requires the use of:\n",
        "- **`while`** loop to get non-empty input\n",
        "- **`if, else`**\n",
        "- **`if, else`** (nested)\n",
        "- **`.isdigit()`** check for integer only input\n",
        "- **`.isalpha()`** check for alphabetic only input\n",
        "\n",
        "The program should **only** use code syntax covered in modules 1 - 4.\n",
        "The program must result in printed message analysis of the input.  |\n",
        "\n",
        "\n",
        "  \n",
        "## Program: `str_analysis()` Function  \n",
        "\n",
        "Create the str_analysis() function that takes 1 string argument and returns a string message.  The message will be an analysis of a test string that is passed as an argument to str_analysis(). The function should respond with messages such as:  \n",
        "- \"big number\"\n",
        "- \"small number\"\n",
        "- \"all alphabetic\"\n",
        "- \"multiple character types\"\n",
        "\n",
        "The program will call str_analysis() with a string argument from input collected within a while loop.  The while loop will test if input is empty (an empty string \"\") and continue to loop and gather input until the user submits at least 1 character (input cannot be empty).  \n",
        "\n",
        "The program then calls the str_analysis() function and prints the **return** message.\n",
        "\n",
        "\n",
        "\n",
        "#### Sample input and output:  \n",
        "Enter nothing (twice) then enter a word  \n",
        "```\n",
        "enter word or integer: \n",
        "enter word or integer: \n",
        "enter word or integer: Hello\n",
        "\"Hello\" is all alphabetical characters!\n",
        "  \n",
        "```  \n",
        "-----    \n",
        "  \n",
        "Alphabetical word input \n",
        "```\n",
        "enter word or integer: carbonization\n",
        "\"carbonization\" is all alphabetical characters!\n",
        "  \n",
        "```  \n",
        "-----     \n",
        "   \n",
        "Numeric inputs\n",
        "```\n",
        "enter word or integer: 30\n",
        "30 is a smaller number than expected\n",
        "\n",
        "enter word or integer: 1024\n",
        "1024 is a pretty big number\n",
        "```  \n",
        "-----  \n",
        "\n",
        "\n",
        "### Loop until non-empty input is submitted  \n",
        "This diagram represents the input part of the assignment - it is the loop to keep prompting the user for input until they submit some input (non-empty).  \n",
        "\n",
        "![image of while Loop with nested if statements described in bulleted text above](https://iajupyterprodblobs.blob.core.windows.net/imagecontainer/input_loop_sketch.png)  \n",
        "\n",
        "Once the user gives input with characters use the input in calling the str_analysis() function.\n",
        "\n",
        "### Additional Details\n",
        "In the body of the str_analysis() function:\n",
        "- Check `if` string is digits  \n",
        "  - if digits: convert to `int` and check `if` greater than 99  \n",
        "    - if greater than 99 print a message about a \"big number\"  \n",
        "    - if not greater than 99 print message about \"small number\"  \n",
        "  - check if string isalpha then (since not digits)\n",
        "    - if isalpha print message about being all alpha\n",
        "  - if not isalpha print a message about being neither all alpha nor all digit  \n",
        "    \n",
        "call the function with a string from user input \n",
        "- Run and test your code before submitting"
      ]
    },
    {
      "cell_type": "code",
      "execution_count": 2,
      "metadata": {
        "trusted": false
      },
      "outputs": [
        {
          "name": "stdout",
          "output_type": "stream",
          "text": [
            "True\n"
          ]
        }
      ],
      "source": [
        "# [ ] create, call and test the str_analysis() function  \n",
        "\n",
        "print(\"1\".isdigit())"
      ]
    },
    {
      "cell_type": "markdown",
      "metadata": {
        "collapsed": true
      },
      "source": [
        "[Terms of use](http://go.microsoft.com/fwlink/?LinkID=206977) &nbsp; [Privacy & cookies](https://go.microsoft.com/fwlink/?LinkId=521839) &nbsp; © 2017 Microsoft"
      ]
    }
  ],
  "metadata": {
    "anaconda-cloud": {},
    "kernelspec": {
      "display_name": "Python 3",
      "language": "python",
      "name": "python3"
    },
    "language_info": {
      "codemirror_mode": {
        "name": "ipython",
        "version": 3
      },
      "file_extension": ".py",
      "mimetype": "text/x-python",
      "name": "python",
      "nbconvert_exporter": "python",
      "pygments_lexer": "ipython3",
      "version": "3.8.13"
    },
    "vscode": {
      "interpreter": {
        "hash": "9ac03a0a6051494cc606d484d27d20fce22fb7b4d169f583271e11d5ba46a56e"
      }
    }
  },
  "nbformat": 4,
  "nbformat_minor": 1
}
